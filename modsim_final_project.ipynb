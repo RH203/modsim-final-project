{
 "cells": [
  {
   "cell_type": "code",
   "execution_count": null,
   "id": "96f902629d4f7cc4",
   "metadata": {
    "collapsed": false
   },
   "outputs": [],
   "source": [
    "# install Pint if necessary\n",
    "try:\n",
    "  from pint import UnitRegistry\n",
    "except ImportError:\n",
    "  !pip install pint"
   ]
  },
  {
   "cell_type": "code",
   "execution_count": null,
   "id": "12f0edbc7f135ec8",
   "metadata": {
    "collapsed": false
   },
   "outputs": [],
   "source": [
    "# download modsim.py if necessary\n",
    "\n",
    "from os.path import basename, exists\n",
    "\n",
    "\n",
    "def download(url):\n",
    "  filename = basename(url)\n",
    "  if not exists(filename):\n",
    "    from urllib.request import urlretrieve\n",
    "    local, _ = urlretrieve(url, filename)\n",
    "    print('Downloaded ' + local)\n",
    "\n",
    "\n",
    "download('https://github.com/AllenDowney/ModSimPy/raw/master/' +\n",
    "         'modsim.py')"
   ]
  },
  {
   "cell_type": "code",
   "execution_count": null,
   "id": "2ce0753fe0bdda84",
   "metadata": {
    "collapsed": false
   },
   "outputs": [],
   "source": [
    "import pandas as pd\n",
    "from modsim import *\n",
    "import matplotlib.pyplot as plt\n",
    "import numpy as np\n",
    "import random"
   ]
  },
  {
   "cell_type": "markdown",
   "id": "89b47061",
   "metadata": {},
   "source": [
    "<h2> Menghapus kolom yang tidak diperlukan </h2>"
   ]
  },
  {
   "cell_type": "code",
   "execution_count": null,
   "id": "3a02eb05ac107804",
   "metadata": {
    "collapsed": false
   },
   "outputs": [],
   "source": [
    "# Menghapus kolom yang tidak diperlukan\n",
    "data_have_index = [\n",
    "  \"sample/anxiety-disorders-males-vs-females.csv\",\n",
    "  \"sample/bipolar-disorder-in-males-vs-females.csv\",\n",
    "  \"sample/depression-males-vs-females.csv\",\n",
    "  \"sample/eating-disorders-in-males-vs-females.csv\",\n",
    "  \"sample/Mental health Depression disorder Data.csv\",\n",
    "  \"sample/schizophrenia-in-males-vs-females.csv\"\n",
    "]\n",
    "\n",
    "for file_path in data_have_index:\n",
    "  df = pd.read_csv(file_path)\n",
    "  if 'index' in df.columns:\n",
    "    df = df.drop('index', axis=1)\n",
    "  df.to_csv(file_path, index=False)"
   ]
  },
  {
   "cell_type": "code",
   "execution_count": null,
   "id": "f9bec94caecb52e3",
   "metadata": {
    "collapsed": false
   },
   "outputs": [],
   "source": [
    "df = pd.read_csv(\"sample/anxiety-disorders-males-vs-females.csv\")\n",
    "df"
   ]
  },
  {
   "cell_type": "markdown",
   "id": "ebdcc2fd",
   "metadata": {},
   "source": [
    "<h2>Cleaning data bunuh diri</h2>"
   ]
  },
  {
   "cell_type": "code",
   "execution_count": null,
   "id": "44de2727",
   "metadata": {},
   "outputs": [],
   "source": [
    "df_grouped_bundir = pd.read_csv(\"sample/suicide-rates-among-young-people.csv\")\n",
    "df_grouped_bundir = df_grouped_bundir.groupby('Year').mean().reset_index()\n",
    "df_grouped_bundir"
   ]
  },
  {
   "cell_type": "code",
   "execution_count": null,
   "id": "d1410ebc",
   "metadata": {},
   "outputs": [],
   "source": [
    "df_grouped_bundir['Change_15_19'] = df_grouped_bundir[\n",
    "  'Death rate per 100,000 people - Cause: Self-harm - Sex: Both sexes - Age group: YEARS15-19']\n",
    "df_grouped_bundir['Change_20_24'] = df_grouped_bundir[\n",
    "  'Death rate per 100,000 people - Cause: Self-harm - Sex: Both sexes - Age group: YEARS20-24']\n",
    "df_grouped_bundir['Change_25_34'] = df_grouped_bundir[\n",
    "  'Death rate per 100,000 people - Cause: Self-harm - Sex: Both sexes - Age group: YEARS25-34']\n",
    "\n",
    "# Menghitung rata2 bunuh diri dari 300000 ribu orang pertahun.\n",
    "df_grouped_bundir['Percentage_Bundir'] = ((df_grouped_bundir[\n",
    "                                             'Death rate per 100,000 people - Cause: Self-harm - Sex: Both sexes - Age group: YEARS15-19'] +\n",
    "                                           df_grouped_bundir[\n",
    "                                             'Death rate per 100,000 people - Cause: Self-harm - Sex: Both sexes - Age group: YEARS20-24'] +\n",
    "                                           df_grouped_bundir[\n",
    "                                             'Death rate per 100,000 people - Cause: Self-harm - Sex: Both sexes - Age group: YEARS25-34']) / 300000) * 100\n",
    "\n",
    "# print(f\"Minimal: {df_grouped_bundir[['Percentage_Bundir']].min()}\")\n",
    "# print(f\"Maximal: {df_grouped_bundir[['Percentage_Bundir']].max()}\")\n",
    "df_grouped_bundir['Percentage_Bundir']"
   ]
  },
  {
   "cell_type": "markdown",
   "id": "b9a9bb60",
   "metadata": {},
   "source": [
    "# Step cleaning data\n",
    "\n",
    "1. Proses cleaning data dengan memperiksa apakah file ada yang missing atau tidak.\n",
    "2. Mengisi data yang kosong atau NaN dengan method ffill ( Mengisi nilai kosong berdasarkan nilai didepannya).\n",
    "3. Melakukan perubahan nama dalam tabel.\n",
    "4. Melakukan filter data dari berdasar kan tahun.\n",
    "5. Melakukan group berdasarkan tahun. dan dicari mean pertahun.\n",
    "6. Step terakhir dijumlahkan mean female dan male."
   ]
  },
  {
   "cell_type": "markdown",
   "id": "0a6be018",
   "metadata": {},
   "source": [
    "<h3>Anxiety</h3>"
   ]
  },
  {
   "cell_type": "code",
   "execution_count": null,
   "id": "a935d462",
   "metadata": {},
   "outputs": [],
   "source": [
    "df_anxiety = pd.read_csv(\"sample/anxiety-disorders-males-vs-females.csv\")\n",
    "df_anxiety.isnull().sum().sum()"
   ]
  },
  {
   "cell_type": "code",
   "execution_count": null,
   "id": "a202b848",
   "metadata": {},
   "outputs": [],
   "source": [
    "df_anxiety = df_anxiety.fillna(method='ffill')\n",
    "df_anxiety.isnull().sum().sum()"
   ]
  },
  {
   "cell_type": "code",
   "execution_count": null,
   "id": "0eab42b2",
   "metadata": {},
   "outputs": [],
   "source": [
    "df_anxiety = df_anxiety.rename(\n",
    "  columns={'Prevalence - Anxiety disorders - Sex: Female - Age: Age-standardized (Percent)': 'Anxiety_Female',\n",
    "           'Prevalence - Anxiety disorders - Sex: Male - Age: Age-standardized (Percent)': 'Anxiety_Male'})\n",
    "\n",
    "df_anxiety_filtered = df_anxiety[(df_anxiety['Year'] >= 1990) & (df_anxiety['Year'] <= 2017)]\n",
    "\n",
    "df_anxiety_mean = df_anxiety_filtered.groupby('Year').agg({\n",
    "  'Anxiety_Male': 'mean',\n",
    "  'Anxiety_Female': 'mean'\n",
    "})\n",
    "\n",
    "total_df_anxiety_mean = df_anxiety_mean['Anxiety_Female'] + df_anxiety_mean['Anxiety_Male']\n",
    "\n",
    "total_df_anxiety_mean"
   ]
  },
  {
   "cell_type": "markdown",
   "id": "6b614011",
   "metadata": {},
   "source": [
    "<h3>Bipolar</h3>"
   ]
  },
  {
   "cell_type": "code",
   "execution_count": null,
   "id": "da86a809",
   "metadata": {},
   "outputs": [],
   "source": [
    "df_bipolar = pd.read_csv(\"sample/bipolar-disorder-in-males-vs-females.csv\")\n",
    "df_bipolar.isnull().sum()"
   ]
  },
  {
   "cell_type": "code",
   "execution_count": null,
   "id": "ccfe2cf6",
   "metadata": {},
   "outputs": [],
   "source": [
    "df_bipolar = df_bipolar.fillna(method='ffill')\n",
    "df_bipolar.isnull().sum()"
   ]
  },
  {
   "cell_type": "code",
   "execution_count": null,
   "id": "7ecdf7a2",
   "metadata": {},
   "outputs": [],
   "source": [
    "df_bipolar = df_bipolar.rename(\n",
    "  columns={'Prevalence - Bipolar disorder - Sex: Male - Age: Age-standardized (Percent)': 'Bipolar_Male',\n",
    "           'Prevalence - Bipolar disorder - Sex: Female - Age: Age-standardized (Percent)': 'Bipolar_Female'})\n",
    "\n",
    "df_bipolar_filtered = df_bipolar[(df_bipolar['Year'] >= 1990) & (df_bipolar['Year'] <= 2017)]\n",
    "\n",
    "df_bipolar_mean = df_bipolar_filtered.groupby('Year').agg({\n",
    "  'Bipolar_Male': 'mean',\n",
    "  'Bipolar_Female': 'mean'\n",
    "})\n",
    "\n",
    "total_df_bipolar_mean = df_bipolar_mean['Bipolar_Male'] + df_bipolar_mean['Bipolar_Female']\n",
    "\n",
    "total_df_bipolar_mean"
   ]
  },
  {
   "cell_type": "markdown",
   "id": "e6b41398",
   "metadata": {},
   "source": [
    "<h3>Depression</h3>"
   ]
  },
  {
   "cell_type": "code",
   "execution_count": null,
   "id": "f7994905",
   "metadata": {},
   "outputs": [],
   "source": [
    "df_depression = pd.read_csv(\"sample/depression-males-vs-females.csv\")\n",
    "df_depression.isnull().sum()"
   ]
  },
  {
   "cell_type": "code",
   "execution_count": null,
   "id": "50d4cb13",
   "metadata": {},
   "outputs": [],
   "source": [
    "df_depression = df_depression.fillna(method='ffill')\n",
    "df_depression.isnull().sum()"
   ]
  },
  {
   "cell_type": "code",
   "execution_count": null,
   "id": "dd1baffb",
   "metadata": {},
   "outputs": [],
   "source": [
    "df_depression = df_depression.rename(\n",
    "  columns={'Prevalence - Depressive disorders - Sex: Female - Age: Age-standardized (Percent)': 'Depression_Female',\n",
    "           'Prevalence - Depressive disorders - Sex: Male - Age: Age-standardized (Percent)': 'Depression_Male'})\n",
    "\n",
    "df_depression_filtered = df_depression[(df_depression['Year'] >= 1990) & (df_depression['Year'] <= 2017)]\n",
    "\n",
    "df_depression_mean = df_depression_filtered.groupby('Year').agg({\n",
    "  'Depression_Male': 'mean',\n",
    "  'Depression_Female': 'mean'\n",
    "})\n",
    "\n",
    "total_df_depression_mean = df_depression_mean['Depression_Male'] + df_depression_mean['Depression_Female']\n",
    "\n",
    "total_df_depression_mean"
   ]
  },
  {
   "cell_type": "markdown",
   "id": "3825a913",
   "metadata": {},
   "source": [
    "<h3>Schizo</h3>"
   ]
  },
  {
   "cell_type": "code",
   "execution_count": null,
   "id": "7c6fd9b3",
   "metadata": {},
   "outputs": [],
   "source": [
    "df_schizo = pd.read_csv('sample/schizophrenia-in-males-vs-females.csv')\n",
    "df_schizo.isnull().sum()"
   ]
  },
  {
   "cell_type": "code",
   "execution_count": null,
   "id": "22896320",
   "metadata": {},
   "outputs": [],
   "source": [
    "\n",
    "df_schizo = df_schizo.fillna(method='ffill')\n",
    "df_schizo.isnull().sum()"
   ]
  },
  {
   "cell_type": "code",
   "execution_count": null,
   "id": "eb382c7e",
   "metadata": {},
   "outputs": [],
   "source": [
    "df_schizo = df_schizo.rename(\n",
    "  columns={'Prevalence - Schizophrenia - Sex: Female - Age: Age-standardized (Percent)': 'Schizo_Female',\n",
    "           'Prevalence - Schizophrenia - Sex: Male - Age: Age-standardized (Percent)': 'Schizo_Male'})\n",
    "\n",
    "df_schizo_filtered = df_schizo[(df_schizo['Year'] >= 1990) & (df_schizo['Year'] <= 2017)]\n",
    "\n",
    "df_schizo_mean = df_schizo_filtered.groupby('Year').agg({\n",
    "  'Schizo_Male': 'mean',\n",
    "  'Schizo_Female': 'mean'\n",
    "})\n",
    "\n",
    "total_df_schizo_mean = df_schizo_mean['Schizo_Male'] + df_schizo_mean['Schizo_Female']\n",
    "\n",
    "total_df_schizo_mean"
   ]
  },
  {
   "cell_type": "code",
   "execution_count": null,
   "id": "892cd61f",
   "metadata": {},
   "outputs": [],
   "source": [
    "# dictionary yang memetakan setiap penyakit mental ke rentang prevalensinya (dalam persentase) untuk laki-laki dan perempuan.\n",
    "# Nilai-nilai ini diambil dari data diatas diambil terkecil dan terbesar..\n",
    "prevalence_range = {\n",
    "  'schizophrenia': {'male': (total_df_schizo_mean.min(), total_df_schizo_mean.max()),\n",
    "                    'female': (total_df_schizo_mean.min(), total_df_schizo_mean.max())},\n",
    "  'anxiety': {'male': (total_df_anxiety_mean.min(), total_df_anxiety_mean.max()),\n",
    "              'female': (total_df_anxiety_mean.min(), total_df_anxiety_mean.max())},\n",
    "  'bipolar': {'male': (total_df_bipolar_mean.min(), total_df_bipolar_mean.max()),\n",
    "              'female': (total_df_bipolar_mean.min(), total_df_bipolar_mean.max())},\n",
    "  'eating_disorders': {'male': (total_df_eating_mean.min(), total_df_eating_mean.max()),\n",
    "                       'female': (total_df_eating_mean.min(), total_df_eating_mean.max())},\n",
    "  'depression': {'male': (total_df_depression_mean.min(), total_df_depression_mean.max()),\n",
    "                 'female': (total_df_depression_mean.min(), total_df_depression_mean.max())},\n",
    "}\n",
    "\n",
    "# asumsi penyakit mental ke probabilitas bunuh diri yang terkait\n",
    "suicide_risk = {\n",
    "  'schizophrenia': 0.1,\n",
    "  'anxiety': 0.05,\n",
    "  'bipolar': 0.08,\n",
    "  'eating_disorders': 0.02,\n",
    "  'depression': 0.07,\n",
    "}\n",
    "\n",
    "populations = [(489128, 350000), (1239876, 1304020), (22009, 40210), (39471, 15478)]"
   ]
  },
  {
   "cell_type": "code",
   "execution_count": null,
   "id": "c96f5e56",
   "metadata": {},
   "outputs": [],
   "source": [
    "# System\n",
    "system = System(prevalence_range=prevalence_range, suicide_risk=suicide_risk, num_points=random.randint(3, 23),\n",
    "                iterations=1000)\n",
    "# State\n",
    "state = State(results_male=[], results_female=[], populations=populations, predictions=[])"
   ]
  },
  {
   "cell_type": "markdown",
   "id": "4531ca8d",
   "metadata": {},
   "source": [
    "## Monte Carlo simulation\n",
    "Penjelasan:\n",
    "\n",
    "1. Setelah looping menginisialisasikan `min_val` dan `max_val` yang diambil dari hasil menghitung rata2 penyakit mental dari 100 ribu orang pertahunnya.\n",
    "2. `preval_values` akan memiliki sebuah array yang dimulai dari `min_val` sampai `max_val` dengan panjang `system.num_points`.\n",
    "3. `num_male_with_disease` menghitung jumlah laki laki atau permupan dengan penyakit saat ini. Dengan asumsi populasi dan `preval_value` dipilih secara acak. Nilai akan dikalikan dan dibagi 100.\n",
    "4. `num_suicide_male` mensimulasikan jumlah kasus bunuuh diri diantara laki2 atau perempuan saat ini. Binomial akan menghasilkan bilangan acak pada kasus bunuh diri berdasarkan distribusi yang diberikan"
   ]
  },
  {
   "cell_type": "code",
   "execution_count": null,
   "id": "192e7a1a",
   "metadata": {},
   "outputs": [],
   "source": [
    "def run_simulation(state, system):\n",
    "  total_suicide_male = 0\n",
    "  total_suicide_female = 0\n",
    "\n",
    "  # Simulasi untuk laki-laki\n",
    "  for disease in system.prevalence_range.keys():\n",
    "    min_val, max_val = system.prevalence_range[disease]['male']\n",
    "    preval_values = np.linspace(min_val, max_val, system.num_points)\n",
    "    num_male_with_disease = int(pop_male * np.random.choice(preval_values) / 100)\n",
    "    num_suicide_male = np.random.binomial(num_male_with_disease, system.suicide_risk[disease])\n",
    "    total_suicide_male += num_suicide_male\n",
    "\n",
    "  # Simulasi untuk perempuan\n",
    "  for disease in system.prevalence_range.keys():\n",
    "    min_val, max_val = system.prevalence_range[disease]['female']\n",
    "    preval_values = np.linspace(min_val, max_val, system.num_points)\n",
    "    num_female_with_disease = int(pop_female * np.random.choice(preval_values) / 100)\n",
    "    num_suicide_female = np.random.binomial(num_female_with_disease, system.suicide_risk[disease])\n",
    "    total_suicide_female += num_suicide_female\n",
    "\n",
    "  return total_suicide_male, total_suicide_female"
   ]
  },
  {
   "cell_type": "markdown",
   "id": "3c2f85b0",
   "metadata": {},
   "source": [
    "## Sweepseries\n",
    "\n",
    "Fungsi `run_simulation_sweepseries()` bekerja sama dengan run simulation diatas, akan tetapi disini untuk probabilitas dan populasi sudah dideklarasikan. </br>\n",
    "    \n",
    "Parameter: </br>\n",
    "p1: PRobabilitass kematian </br>\n",
    "system: Tempat menyimpan variabel contatnt. </br>\n",
    "pop_male & pop_female: populasi laki2 dan perempuan.  </br>"
   ]
  },
  {
   "cell_type": "code",
   "execution_count": null,
   "id": "9b2e79ef",
   "metadata": {},
   "outputs": [],
   "source": [
    "def run_simulation_sweepseries(p1, system, pop_male, pop_female):\n",
    " \n",
    "  state = State(total_suicide_male=0, total_suicide_female=0, total_alive_male=pop_male, total_alive_female=pop_female)\n",
    "\n",
    "  for disease in system.prevalence_range.keys():\n",
    "    num_male_with_disease = int(state.total_alive_male * p1 / 100)\n",
    "    state.total_suicide_male += np.random.binomial(num_male_with_disease, system.suicide_risk[disease])\n",
    "\n",
    "    num_female_with_disease = int(state.total_alive_female * p1 / 100)\n",
    "    state.total_suicide_female += np.random.binomial(num_female_with_disease, system.suicide_risk[disease])\n",
    "\n",
    "  return state"
   ]
  },
  {
   "cell_type": "markdown",
   "id": "3ba97336",
   "metadata": {},
   "source": [
    "## Sweepseries run simulation\n",
    "\n",
    "Mensimulasikan dan memplot angka bunuh diri pria berdasarkan berbagai tingkat prevalensi penyakit schizophrenia dalam populasi. Dimulai dengan menetapkan populasi pria (200.000) dan wanita (350.000), serta membuat array p1_array yang berisi 55 nilai prevalensi schizophrenia dari yang terendah hingga tertinggi. "
   ]
  },
  {
   "cell_type": "code",
   "execution_count": null,
   "id": "8b8ca681",
   "metadata": {},
   "outputs": [],
   "source": [
    "pop_male, pop_female = 200000, 350000\n",
    "p1_array = np.linspace(total_df_schizo_mean.min(), total_df_schizo_mean.max(), 55)\n",
    "\n",
    "sweep_male = SweepSeries()\n",
    "\n",
    "for p1 in p1_array:\n",
    "  final_state = run_simulation_sweepseries(p1, system, pop_male, pop_female)\n",
    "  sweep_male[p1] = final_state.total_suicide_male\n",
    "\n",
    "  # print(sweep)\n",
    "\n",
    "sweep_male.plot(label=\"Total bunuh diri Male\", color=\"C4\")\n",
    "decorate(title='Perempuan dan Laki laki bunuh diri.',\n",
    "         xlabel='Rate bunuh diri',\n",
    "         ylabel='Total Bunuh diri laki laki')"
   ]
  },
  {
   "cell_type": "markdown",
   "id": "488d07ee",
   "metadata": {},
   "source": [
    "## Timeseries\n",
    "Timeseries ini menunjukan jumlah kasus bunuh diri yang disimulasikan untuk laki-laki dan perempuan selama jumlah iterasi yang ditentukan (1000)."
   ]
  },
  {
   "cell_type": "code",
   "execution_count": null,
   "id": "54f03f53",
   "metadata": {},
   "outputs": [],
   "source": [
    "def run_simulation_timeseries(state, system):\n",
    "  totals = TimeSeries()\n",
    "  for i in range(system.iterations):\n",
    "    simulations = run_simulation(state, system)\n",
    "    totals[i] = (simulations[0], simulations[1])\n",
    "  return totals"
   ]
  },
  {
   "cell_type": "code",
   "execution_count": null,
   "id": "249a35b3",
   "metadata": {},
   "outputs": [],
   "source": [
    "result_timeseries_male = run_simulation_timeseries(state, system)\n",
    "show(result_timeseries_male)"
   ]
  },
  {
   "cell_type": "markdown",
   "id": "918e090a",
   "metadata": {},
   "source": [
    "## Runing monte carlo simulation"
   ]
  },
  {
   "cell_type": "code",
   "execution_count": null,
   "id": "b86b4314",
   "metadata": {},
   "outputs": [],
   "source": [
    "for pop_male, pop_female in state.populations:\n",
    "  state.results_male = []\n",
    "  state.results_female = []\n",
    "  prediction_arr = []\n",
    "  for _ in range(system.iterations):\n",
    "    suicide_male, suicide_female = run_simulation(state, system)\n",
    "    state.results_male.append(suicide_male)\n",
    "    state.results_female.append(suicide_female)\n",
    "\n",
    "  prediction_arr.append({\n",
    "    'pop_male': pop_male,\n",
    "    'pop_female': pop_female,\n",
    "    'average_male': np.mean(state.results_male),\n",
    "    'average_female': np.mean(state.results_female)\n",
    "  })\n",
    "\n",
    "  state.predictions.append(prediction_arr)\n",
    "\n",
    "  # Plotting hasil simulasi\n",
    "  plt.figure(figsize=(14, 7))\n",
    "  plt.hist(state.results_male, bins=30, alpha=0.7, label='Male Suicides')\n",
    "  plt.hist(state.results_female, bins=30, alpha=0.7, label='Female Suicides')\n",
    "  plt.xlabel('Number of Suicides')\n",
    "  plt.ylabel('Frequency')\n",
    "  plt.title(\n",
    "    f'Monte Carlo Simulation of Suicide Cases Due to Mental Health Issues (Population: {pop_male} males, {pop_female} females)')\n",
    "  plt.legend()\n",
    "  plt.show()\n",
    "\n",
    "  # Summary statistics\n",
    "  mean_male = np.mean(state.results_male)\n",
    "  mean_female = np.mean(state.results_female)\n",
    "  print(f'Average suicides in males: {mean_male}')\n",
    "  print(f'Average suicides in females: {mean_female}')"
   ]
  },
  {
   "cell_type": "markdown",
   "id": "f571ae96",
   "metadata": {},
   "source": [
    "## Helper function untuk predict\n",
    "1. `filter_prediction_data(state, output)`\n",
    "Fungsi ini digunakan untuk memfilter data prediksi berdasarkan output yang diinginkan. Output dapat berupa \"pop_male\", \"pop_female\", \"average_suicide_male\", atau \"average_suicide_female\".\n",
    "\n",
    "2. `sum_prediction_data(size)`\n",
    "Fungsi ini digunakan untuk menghitung total dari nilai tertinggi atau terendah dari populasi yang diuji. Ukuran populasi yang diuji dapat berupa \"besar\" atau \"kecil\".\n",
    "\n",
    "3. `mean_suicide(state, key)`\n",
    "Fungsi ini digunakan untuk menghitung rata-rata nilai dari data prediksi berdasarkan kunci yang diberikan. Kunci dapat berupa \"pop_male\", \"pop_female\", \"average_suicide_male\", atau \"average_suicide_female\".\n",
    "\n",
    "4. `calculate_growth_ratios(arr)`\n",
    "Fungsi ini digunakan untuk menghitung rasio pertumbuhan dari sebuah array data. Ini berguna untuk menganalisis tren pertumbuhan data dari waktu ke waktu.\n",
    "\n",
    "5. `convert_arr_string_into_integer(arr)`\n",
    "Fungsi ini digunakan untuk mengonversi setiap elemen dalam daftar dari string menjadi integer. Ini diperlukan ketika data awalnya dalam format string dan perlu diubah menjadi integer untuk analisis numerik."
   ]
  },
  {
   "cell_type": "code",
   "execution_count": null,
   "id": "0798af88",
   "metadata": {},
   "outputs": [],
   "source": [
    "# Simulasi prediksi\n",
    "# Mendapatkan range tertinggi dan terendah dari populasi yang diuji diatas.\n",
    "\n",
    "def filter_prediction_data(state, output):\n",
    "  \"\"\"\n",
    "    Memfilter data prediksi berdasarkan output yang diinginkan.\n",
    "    \n",
    "    Parameters:\n",
    "        state (object): Objek state yang berisi data prediksi.\n",
    "        output (str): Output yang diinginkan, seperti \"pop_male\", \"pop_female\", \n",
    "                      \"average_suicide_male\", atau \"average_suicide_female\".\n",
    "                      \n",
    "    Returns:\n",
    "        list: Daftar nilai yang telah difilter berdasarkan output yang diinginkan.\n",
    "  \"\"\"\n",
    "\n",
    "  temp_arr = []\n",
    "  for prediction_data in state.predictions:\n",
    "    for prediction_value in prediction_data:\n",
    "      if output == \"pop_male\":\n",
    "        temp_arr.append(prediction_value[\"pop_male\"])\n",
    "      if output == \"pop_female\":\n",
    "        temp_arr.append(prediction_value[\"pop_female\"])\n",
    "      if output == \"average_suicide_male\":\n",
    "        temp_arr.append(prediction_value[\"average_male\"])\n",
    "      if output == \"average_suicide_female\":\n",
    "        temp_arr.append(prediction_value[\"average_female\"])\n",
    "  return temp_arr\n",
    "\n",
    "\n",
    "def sum_prediction_data(size):\n",
    "  \"\"\"\n",
    "    Menghitung total dari nilai tertinggi atau terendah dari populasi yang diuji.\n",
    "    \n",
    "    Parameters:\n",
    "        size (str): Ukuran populasi yang diuji, \"besar\" atau \"kecil\".\n",
    "        \n",
    "    Returns:\n",
    "        float: Total dari nilai tertinggi atau terendah dari populasi yang diuji.\n",
    "  \"\"\"\n",
    "  return np.sum(np.max(filter_prediction_data(state, \"pop_male\"))) + np.sum(\n",
    "    np.max(filter_prediction_data(state, \"pop_female\"))) if size == \"besar\" else np.sum(\n",
    "    np.min(filter_prediction_data(state, \"pop_male\"))) + np.sum(np.min(filter_prediction_data(state, \"pop_female\")))\n",
    "\n",
    "\n",
    "def mean_suicide(state, key):\n",
    "  \"\"\"\n",
    "    Menghitung rata-rata nilai dari data prediksi berdasarkan kunci yang diberikan.\n",
    "    \n",
    "    Parameters:\n",
    "        state (object): Objek state yang berisi data prediksi.\n",
    "        key (str): Kunci untuk menentukan data yang akan dihitung rata-ratanya.\n",
    "        \n",
    "    Returns:\n",
    "        float: Nilai rata-rata dari data prediksi yang sesuai dengan kunci yang diberikan.\n",
    "  \"\"\"\n",
    "  return np.mean(filter_prediction_data(state, key))\n",
    "\n",
    "\n",
    "def calculate_growth_ratios(arr):\n",
    "  \"\"\"\n",
    "    Menghitung rasio pertumbuhan dari sebuah array data.\n",
    "    \n",
    "    Parameters:\n",
    "        arr (list): Daftar data yang akan dihitung rasio pertumbuhannya.\n",
    "        \n",
    "    Returns:\n",
    "        list: Daftar rasio pertumbuhan antar elemen dalam array data yang telah diurutkan.\n",
    "  \"\"\"\n",
    "  sorted_arr = sorted(arr)\n",
    "  print(sorted_arr)\n",
    "  growth_ratios = []\n",
    "\n",
    "  for i in range(len(sorted_arr) - 1):\n",
    "    ratio = sorted_arr[i + 1] / sorted_arr[i]\n",
    "    growth_ratios.append(ratio)\n",
    "\n",
    "  return growth_ratios\n",
    "\n",
    "\n",
    "def convert_arr_string_into_integer(arr):\n",
    "  \"\"\"\n",
    "    Mengonversi setiap elemen dalam daftar dari string menjadi integer.\n",
    "    \n",
    "    Parameters:\n",
    "        arr (list): Daftar string yang akan dikonversi menjadi integer.\n",
    "        \n",
    "    Returns:\n",
    "        list: Daftar integer hasil konversi.\n",
    "  \"\"\"\n",
    "\n",
    "  return [int(x) for x in arr]"
   ]
  },
  {
   "cell_type": "code",
   "execution_count": null,
   "id": "8022f913",
   "metadata": {},
   "outputs": [],
   "source": [
    "sum_prediction_data(\"kecil\")"
   ]
  },
  {
   "cell_type": "markdown",
   "id": "b4a44aa7",
   "metadata": {},
   "source": []
  },
  {
   "cell_type": "code",
   "execution_count": null,
   "id": "04c6cdc5",
   "metadata": {},
   "outputs": [],
   "source": [
    "def run_prediction_simulate(num_loop, populations, state):\n",
    "  num_simulation = num_loop[1] - num_loop[0]\n",
    "\n",
    "  suicide_male = []\n",
    "  suicide_female = []\n",
    "\n",
    "  average_suicide_male = np.linspace(np.min(filter_prediction_data(state, \"average_suicide_male\")),\n",
    "                                     np.max(filter_prediction_data(state, \"average_suicide_male\")), 33)\n",
    "  average_suicide_female = np.linspace(np.min(filter_prediction_data(state, \"average_suicide_female\")),\n",
    "                                       np.max(filter_prediction_data(state, \"average_suicide_female\")), 33)\n",
    "\n",
    "  if num_simulation >= 1000:\n",
    "    if (sum_prediction_data(\"kecil\") <= np.min(populations)) or (\n",
    "      sum_prediction_data(\"besar\") >= np.max(populations)):\n",
    "\n",
    "      for _ in range(num_simulation):\n",
    "        if flip(0.5):\n",
    "          temp_rand_male = random.randint(int(np.min(average_suicide_male)),\n",
    "                                          int(np.max(average_suicide_male)))\n",
    "          temp_rand_female = random.randint(int(np.min(average_suicide_female)),\n",
    "                                            int(np.max(average_suicide_female)))\n",
    "          suicide_male.append(temp_rand_male)\n",
    "          suicide_female.append(temp_rand_female)\n",
    "        else:\n",
    "          if len(suicide_male) > 0:\n",
    "            suicide_male.pop(random.randint(0, len(suicide_male) - 1))\n",
    "          if len(suicide_female) > 0:\n",
    "            suicide_female.pop(random.randint(0, len(suicide_female) - 1))\n",
    "\n",
    "  return suicide_male, suicide_female"
   ]
  },
  {
   "cell_type": "code",
   "execution_count": null,
   "id": "de693e7b",
   "metadata": {},
   "outputs": [],
   "source": [
    "value_populations = input(f\"Masukan jumlah input eg(2000000 1000000): \")\n",
    "value_year_estimate = input(f\"Input year estimate eg(2000 2020): \")\n",
    "\n",
    "year_arr = value_year_estimate.split(\" \")\n",
    "populations_arr = value_populations.split(\" \")\n",
    "\n",
    "int_year = convert_arr_string_into_integer(year_arr)\n",
    "int_populations = convert_arr_string_into_integer(populations_arr)\n",
    "\n",
    "# Menjalankan simulasi prediksi\n",
    "result = run_prediction_simulate(int_year, int_populations, state)\n",
    "\n",
    "# Menampilkan hasil\n",
    "print(\"Hasil prediksi:\")\n",
    "print(\"Suicide Male:\", np.mean(result[0]))\n",
    "print(\"Suicide Female:\", np.mean(result[1]))"
   ]
  },
  {
   "cell_type": "code",
   "execution_count": null,
   "id": "ef7fceb6",
   "metadata": {},
   "outputs": [],
   "source": [
    "plt.figure(figsize=(14, 7))\n",
    "plt.plot(result[0], label='Male Suicides', color='blue')\n",
    "plt.plot(result[1], label='Female Suicides', color='red')\n",
    "plt.xlabel('Simulation Iteration')\n",
    "plt.ylabel('Number of Suicides')\n",
    "plt.title('Predictions: {} males, {} females'.format(int_populations[0], int_populations[1]))\n",
    "plt.legend()\n",
    "plt.grid(True)\n",
    "plt.show()"
   ]
  }
 ],
 "metadata": {
  "kernelspec": {
   "display_name": "Python 3",
   "language": "python",
   "name": "python3"
  },
  "language_info": {
   "codemirror_mode": {
    "name": "ipython",
    "version": 3
   },
   "file_extension": ".py",
   "mimetype": "text/x-python",
   "name": "python",
   "nbconvert_exporter": "python",
   "pygments_lexer": "ipython3",
   "version": "3.9.16"
  }
 },
 "nbformat": 4,
 "nbformat_minor": 5
}
