{
 "cells": [
  {
   "cell_type": "code",
   "execution_count": 47,
   "id": "96f902629d4f7cc4",
   "metadata": {
    "collapsed": false
   },
   "outputs": [],
   "source": [
    "# install Pint if necessary\n",
    "try:\n",
    "  from pint import UnitRegistry\n",
    "except ImportError:\n",
    "  !pip install pint"
   ]
  },
  {
   "cell_type": "code",
   "execution_count": 48,
   "id": "12f0edbc7f135ec8",
   "metadata": {
    "collapsed": false
   },
   "outputs": [],
   "source": [
    "# download modsim.py if necessary\n",
    "\n",
    "from os.path import basename, exists\n",
    "\n",
    "\n",
    "def download(url):\n",
    "  filename = basename(url)\n",
    "  if not exists(filename):\n",
    "    from urllib.request import urlretrieve\n",
    "    local, _ = urlretrieve(url, filename)\n",
    "    print('Downloaded ' + local)\n",
    "\n",
    "\n",
    "download('https://github.com/AllenDowney/ModSimPy/raw/master/' +\n",
    "         'modsim.py')"
   ]
  },
  {
   "cell_type": "code",
   "execution_count": 49,
   "id": "2ce0753fe0bdda84",
   "metadata": {
    "collapsed": false
   },
   "outputs": [],
   "source": [
    "import pandas as pd\n",
    "from modsim import *\n",
    "import matplotlib.pyplot as plt\n",
    "import numpy as np\n",
    "import random"
   ]
  },
  {
   "cell_type": "markdown",
   "id": "89b47061",
   "metadata": {},
   "source": [
    "<h2> Menghapus kolom yang tidak diperlukan </h2>"
   ]
  },
  {
   "cell_type": "code",
   "execution_count": null,
   "id": "3a02eb05ac107804",
   "metadata": {
    "collapsed": false
   },
   "outputs": [],
   "source": [
    "# Menghapus kolom yang tidak diperlukan\n",
    "data_have_index = [\n",
    "  \"sample/anxiety-disorders-males-vs-females.csv\",\n",
    "  \"sample/bipolar-disorder-in-males-vs-females.csv\",\n",
    "  \"sample/depression-males-vs-females.csv\",\n",
    "  \"sample/eating-disorders-in-males-vs-females.csv\",\n",
    "  \"sample/Mental health Depression disorder Data.csv\",\n",
    "  \"sample/schizophrenia-in-males-vs-females.csv\"\n",
    "]\n",
    "\n",
    "for file_path in data_have_index:\n",
    "  df = pd.read_csv(file_path)\n",
    "  if 'index' in df.columns:\n",
    "    df = df.drop('index', axis=1)\n",
    "  df.to_csv(file_path, index=False)"
   ]
  },
  {
   "cell_type": "code",
   "execution_count": null,
   "id": "f9bec94caecb52e3",
   "metadata": {
    "collapsed": false
   },
   "outputs": [],
   "source": [
    "df = pd.read_csv(\"sample/anxiety-disorders-males-vs-females.csv\")\n",
    "df"
   ]
  },
  {
   "cell_type": "markdown",
   "id": "ebdcc2fd",
   "metadata": {},
   "source": [
    "<h2>Cleaning data bunuh diri</h2>"
   ]
  },
  {
   "cell_type": "code",
   "execution_count": null,
   "id": "44de2727",
   "metadata": {},
   "outputs": [],
   "source": [
    "df_grouped_bundir = pd.read_csv(\"sample/suicide-rates-among-young-people.csv\")\n",
    "df_grouped_bundir = df_grouped_bundir.groupby('Year').mean().reset_index()\n",
    "df_grouped_bundir"
   ]
  },
  {
   "cell_type": "code",
   "execution_count": null,
   "id": "d1410ebc",
   "metadata": {},
   "outputs": [],
   "source": [
    "df_grouped_bundir['Change_15_19'] = df_grouped_bundir[\n",
    "  'Death rate per 100,000 people - Cause: Self-harm - Sex: Both sexes - Age group: YEARS15-19']\n",
    "df_grouped_bundir['Change_20_24'] = df_grouped_bundir[\n",
    "  'Death rate per 100,000 people - Cause: Self-harm - Sex: Both sexes - Age group: YEARS20-24']\n",
    "df_grouped_bundir['Change_25_34'] = df_grouped_bundir[\n",
    "  'Death rate per 100,000 people - Cause: Self-harm - Sex: Both sexes - Age group: YEARS25-34']\n",
    "\n",
    "# Menghitung rata2 bunuh diri dari 300000 ribu orang pertahun.\n",
    "df_grouped_bundir['Percentage_Bundir'] = ((df_grouped_bundir[\n",
    "                                             'Death rate per 100,000 people - Cause: Self-harm - Sex: Both sexes - Age group: YEARS15-19'] +\n",
    "                                           df_grouped_bundir[\n",
    "                                             'Death rate per 100,000 people - Cause: Self-harm - Sex: Both sexes - Age group: YEARS20-24'] +\n",
    "                                           df_grouped_bundir[\n",
    "                                             'Death rate per 100,000 people - Cause: Self-harm - Sex: Both sexes - Age group: YEARS25-34']) / 300000) * 100\n",
    "\n",
    "# print(f\"Minimal: {df_grouped_bundir[['Percentage_Bundir']].min()}\")\n",
    "# print(f\"Maximal: {df_grouped_bundir[['Percentage_Bundir']].max()}\")\n",
    "df_grouped_bundir['Percentage_Bundir']"
   ]
  },
  {
   "cell_type": "markdown",
   "id": "b9a9bb60",
   "metadata": {},
   "source": [
    "# Step cleaning data\n",
    "\n",
    "1. Proses cleaning data dengan memperiksa apakah file ada yang missing atau tidak.\n",
    "2. Mengisi data yang kosong atau NaN dengan method ffill ( Mengisi nilai kosong berdasarkan nilai didepannya).\n",
    "3. Melakukan perubahan nama dalam tabel.\n",
    "4. Melakukan filter data dari berdasar kan tahun.\n",
    "5. Melakukan group berdasarkan tahun. dan dicari mean pertahun.\n",
    "6. Step terakhir dijumlahkan mean female dan male."
   ]
  },
  {
   "cell_type": "markdown",
   "id": "0a6be018",
   "metadata": {},
   "source": [
    "<h3>Anxiety</h3>"
   ]
  },
  {
   "cell_type": "code",
   "execution_count": 54,
   "id": "a935d462",
   "metadata": {},
   "outputs": [
    {
     "data": {
      "text/plain": [
       "158275"
      ]
     },
     "execution_count": 54,
     "metadata": {},
     "output_type": "execute_result"
    }
   ],
   "source": [
    "df_anxiety = pd.read_csv(\"sample/anxiety-disorders-males-vs-females.csv\")\n",
    "df_anxiety.isnull().sum().sum()"
   ]
  },
  {
   "cell_type": "code",
   "execution_count": 55,
   "id": "a202b848",
   "metadata": {},
   "outputs": [
    {
     "data": {
      "text/plain": [
       "3"
      ]
     },
     "execution_count": 55,
     "metadata": {},
     "output_type": "execute_result"
    }
   ],
   "source": [
    "df_anxiety = df_anxiety.fillna(method='ffill')\n",
    "df_anxiety.isnull().sum().sum()"
   ]
  },
  {
   "cell_type": "code",
   "execution_count": null,
   "id": "0eab42b2",
   "metadata": {},
   "outputs": [],
   "source": [
    "df_anxiety = df_anxiety.rename(\n",
    "  columns={'Prevalence - Anxiety disorders - Sex: Female - Age: Age-standardized (Percent)': 'Anxiety_Female',\n",
    "           'Prevalence - Anxiety disorders - Sex: Male - Age: Age-standardized (Percent)': 'Anxiety_Male'})\n",
    "\n",
    "df_anxiety_filtered = df_anxiety[(df_anxiety['Year'] >= 1990) & (df_anxiety['Year'] <= 2017)]\n",
    "\n",
    "df_anxiety_mean = df_anxiety_filtered.groupby('Year').agg({\n",
    "  'Anxiety_Male': 'mean',\n",
    "  'Anxiety_Female': 'mean'\n",
    "})\n",
    "\n",
    "total_df_anxiety_mean = df_anxiety_mean['Anxiety_Female'] + df_anxiety_mean['Anxiety_Male']\n",
    "\n",
    "total_df_anxiety_mean"
   ]
  },
  {
   "cell_type": "markdown",
   "id": "6b614011",
   "metadata": {},
   "source": [
    "<h3>Bipolar</h3>"
   ]
  },
  {
   "cell_type": "code",
   "execution_count": null,
   "id": "da86a809",
   "metadata": {},
   "outputs": [],
   "source": [
    "df_bipolar = pd.read_csv(\"sample/bipolar-disorder-in-males-vs-females.csv\")\n",
    "df_bipolar.isnull().sum()"
   ]
  },
  {
   "cell_type": "code",
   "execution_count": null,
   "id": "ccfe2cf6",
   "metadata": {},
   "outputs": [],
   "source": [
    "df_bipolar = df_bipolar.fillna(method='ffill')\n",
    "df_bipolar.isnull().sum()"
   ]
  },
  {
   "cell_type": "code",
   "execution_count": null,
   "id": "7ecdf7a2",
   "metadata": {},
   "outputs": [],
   "source": [
    "df_bipolar = df_bipolar.rename(\n",
    "  columns={'Prevalence - Bipolar disorder - Sex: Male - Age: Age-standardized (Percent)': 'Bipolar_Male',\n",
    "           'Prevalence - Bipolar disorder - Sex: Female - Age: Age-standardized (Percent)': 'Bipolar_Female'})\n",
    "\n",
    "df_bipolar_filtered = df_bipolar[(df_bipolar['Year'] >= 1990) & (df_bipolar['Year'] <= 2017)]\n",
    "\n",
    "df_bipolar_mean = df_bipolar_filtered.groupby('Year').agg({\n",
    "  'Bipolar_Male': 'mean',\n",
    "  'Bipolar_Female': 'mean'\n",
    "})\n",
    "\n",
    "total_df_bipolar_mean = df_bipolar_mean['Bipolar_Male'] + df_bipolar_mean['Bipolar_Female']\n",
    "\n",
    "total_df_bipolar_mean"
   ]
  },
  {
   "cell_type": "markdown",
   "id": "e6b41398",
   "metadata": {},
   "source": [
    "<h3>Depression</h3>"
   ]
  },
  {
   "cell_type": "code",
   "execution_count": null,
   "id": "f7994905",
   "metadata": {},
   "outputs": [],
   "source": [
    "df_depression = pd.read_csv(\"sample/depression-males-vs-females.csv\")\n",
    "df_depression.isnull().sum()"
   ]
  },
  {
   "cell_type": "code",
   "execution_count": null,
   "id": "50d4cb13",
   "metadata": {},
   "outputs": [],
   "source": [
    "df_depression = df_depression.fillna(method='ffill')\n",
    "df_depression.isnull().sum()"
   ]
  },
  {
   "cell_type": "code",
   "execution_count": null,
   "id": "dd1baffb",
   "metadata": {},
   "outputs": [],
   "source": [
    "df_depression = df_depression.rename(\n",
    "  columns={'Prevalence - Depressive disorders - Sex: Female - Age: Age-standardized (Percent)': 'Depression_Female',\n",
    "           'Prevalence - Depressive disorders - Sex: Male - Age: Age-standardized (Percent)': 'Depression_Male'})\n",
    "\n",
    "df_depression_filtered = df_depression[(df_depression['Year'] >= 1990) & (df_depression['Year'] <= 2017)]\n",
    "\n",
    "df_depression_mean = df_depression_filtered.groupby('Year').agg({\n",
    "  'Depression_Male': 'mean',\n",
    "  'Depression_Female': 'mean'\n",
    "})\n",
    "\n",
    "total_df_depression_mean = df_depression_mean['Depression_Male'] + df_depression_mean['Depression_Female']\n",
    "\n",
    "total_df_depression_mean"
   ]
  },
  {
   "cell_type": "markdown",
   "id": "3825a913",
   "metadata": {},
   "source": [
    "<h3>Schizo</h3>"
   ]
  },
  {
   "cell_type": "code",
   "execution_count": null,
   "id": "7c6fd9b3",
   "metadata": {},
   "outputs": [],
   "source": [
    "df_schizo = pd.read_csv('sample/schizophrenia-in-males-vs-females.csv')\n",
    "df_schizo.isnull().sum()"
   ]
  },
  {
   "cell_type": "code",
   "execution_count": null,
   "id": "22896320",
   "metadata": {},
   "outputs": [],
   "source": [
    "\n",
    "df_schizo = df_schizo.fillna(method='ffill')\n",
    "df_schizo.isnull().sum()"
   ]
  },
  {
   "cell_type": "code",
   "execution_count": null,
   "id": "eb382c7e",
   "metadata": {},
   "outputs": [],
   "source": [
    "df_schizo = df_schizo.rename(\n",
    "  columns={'Prevalence - Schizophrenia - Sex: Female - Age: Age-standardized (Percent)': 'Schizo_Female',\n",
    "           'Prevalence - Schizophrenia - Sex: Male - Age: Age-standardized (Percent)': 'Schizo_Male'})\n",
    "\n",
    "df_schizo_filtered = df_schizo[(df_schizo['Year'] >= 1990) & (df_schizo['Year'] <= 2017)]\n",
    "\n",
    "df_schizo_mean = df_schizo_filtered.groupby('Year').agg({\n",
    "  'Schizo_Male': 'mean',\n",
    "  'Schizo_Female': 'mean'\n",
    "})\n",
    "\n",
    "total_df_schizo_mean = df_schizo_mean['Schizo_Male'] + df_schizo_mean['Schizo_Female']\n",
    "\n",
    "total_df_schizo_mean"
   ]
  },
  {
   "cell_type": "code",
   "execution_count": null,
   "id": "892cd61f",
   "metadata": {},
   "outputs": [],
   "source": [
    "# dictionary yang memetakan setiap penyakit mental ke rentang prevalensinya (dalam persentase) untuk laki-laki dan perempuan.\n",
    "# Nilai-nilai ini diambil dari data diatas diambil terkecil dan terbesar..\n",
    "prevalence_range = {\n",
    "  'schizophrenia': {'male': (total_df_schizo_mean.min(), total_df_schizo_mean.max()),\n",
    "                    'female': (total_df_schizo_mean.min(), total_df_schizo_mean.max())},\n",
    "  'anxiety': {'male': (total_df_anxiety_mean.min(), total_df_anxiety_mean.max()),\n",
    "              'female': (total_df_anxiety_mean.min(), total_df_anxiety_mean.max())},\n",
    "  'bipolar': {'male': (total_df_bipolar_mean.min(), total_df_bipolar_mean.max()),\n",
    "              'female': (total_df_bipolar_mean.min(), total_df_bipolar_mean.max())},\n",
    "  'eating_disorders': {'male': (total_df_eating_mean.min(), total_df_eating_mean.max()),\n",
    "                       'female': (total_df_eating_mean.min(), total_df_eating_mean.max())},\n",
    "  'depression': {'male': (total_df_depression_mean.min(), total_df_depression_mean.max()),\n",
    "                 'female': (total_df_depression_mean.min(), total_df_depression_mean.max())},\n",
    "}\n",
    "\n",
    "# asumsi penyakit mental ke probabilitas bunuh diri yang terkait\n",
    "suicide_risk = {\n",
    "  'schizophrenia': 0.1,\n",
    "  'anxiety': 0.05,\n",
    "  'bipolar': 0.08,\n",
    "  'eating_disorders': 0.02,\n",
    "  'depression': 0.07,\n",
    "}\n",
    "\n",
    "populations = [(489128, 350000), (1239876, 1304020), (22009, 40210), (39471, 15478)]"
   ]
  },
  {
   "cell_type": "code",
   "execution_count": null,
   "id": "c96f5e56",
   "metadata": {},
   "outputs": [],
   "source": [
    "# System\n",
    "system = System(prevalence_range=prevalence_range, suicide_risk=suicide_risk, num_points=random.randint(3, 23),\n",
    "                iterations=1000)\n",
    "# State\n",
    "state = State(results_male=[], results_female=[], populations=populations, predictions=[])"
   ]
  }
 ],
 "metadata": {
  "kernelspec": {
   "display_name": "Python 3",
   "language": "python",
   "name": "python3"
  },
  "language_info": {
   "codemirror_mode": {
    "name": "ipython",
    "version": 3
   },
   "file_extension": ".py",
   "mimetype": "text/x-python",
   "name": "python",
   "nbconvert_exporter": "python",
   "pygments_lexer": "ipython3",
   "version": "3.9.16"
  }
 },
 "nbformat": 4,
 "nbformat_minor": 5
}
