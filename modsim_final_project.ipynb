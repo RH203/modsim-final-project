{
 "cells": [
  {
   "cell_type": "code",
   "execution_count": 261,
   "id": "96f902629d4f7cc4",
   "metadata": {
    "ExecuteTime": {
     "end_time": "2024-06-09T11:46:39.312717200Z",
     "start_time": "2024-06-09T11:46:39.137172800Z"
    }
   },
   "outputs": [],
   "source": [
    "# install Pint if necessary\n",
    "try:\n",
    "  from pint import UnitRegistry\n",
    "except ImportError:\n",
    "  !pip install pint"
   ]
  },
  {
   "cell_type": "code",
   "execution_count": 262,
   "id": "12f0edbc7f135ec8",
   "metadata": {
    "ExecuteTime": {
     "end_time": "2024-06-09T11:46:39.444974200Z",
     "start_time": "2024-06-09T11:46:39.147696400Z"
    }
   },
   "outputs": [],
   "source": [
    "# download modsim.py if necessary\n",
    "\n",
    "from os.path import basename, exists\n",
    "\n",
    "\n",
    "def download(url):\n",
    "  filename = basename(url)\n",
    "  if not exists(filename):\n",
    "    from urllib.request import urlretrieve\n",
    "    local, _ = urlretrieve(url, filename)\n",
    "    print('Downloaded ' + local)\n",
    "\n",
    "\n",
    "download('https://github.com/AllenDowney/ModSimPy/raw/master/' +\n",
    "         'modsim.py')"
   ]
  },
  {
   "cell_type": "code",
   "execution_count": 263,
   "id": "2ce0753fe0bdda84",
   "metadata": {
    "ExecuteTime": {
     "end_time": "2024-06-09T11:46:39.465052200Z",
     "start_time": "2024-06-09T11:46:39.162326300Z"
    }
   },
   "outputs": [],
   "source": [
    "import pandas as pd\n",
    "from modsim import *\n",
    "import matplotlib.pyplot as plt\n",
    "import numpy as np\n",
    "import random"
   ]
  },
  {
   "cell_type": "markdown",
   "id": "89b47061",
   "metadata": {},
   "source": [
    "<h2> Menghapus kolom yang tidak diperlukan </h2>"
   ]
  },
  {
   "cell_type": "code",
   "execution_count": 264,
   "id": "3a02eb05ac107804",
   "metadata": {
    "ExecuteTime": {
     "end_time": "2024-06-09T11:46:40.232827200Z",
     "start_time": "2024-06-09T11:46:39.179910200Z"
    }
   },
   "outputs": [
    {
     "name": "stderr",
     "output_type": "stream",
     "text": [
      "C:\\Users\\katana\\AppData\\Local\\Temp\\ipykernel_2204\\2091496989.py:12: DtypeWarning: Columns (4,5) have mixed types. Specify dtype option on import or set low_memory=False.\n",
      "  df = pd.read_csv(file_path)\n"
     ]
    }
   ],
   "source": [
    "# Menghapus kolom yang tidak diperlukan\n",
    "data_have_index = [\n",
    "  \"sample/anxiety-disorders-males-vs-females.csv\",\n",
    "  \"sample/bipolar-disorder-in-males-vs-females.csv\",\n",
    "  \"sample/depression-males-vs-females.csv\",\n",
    "  \"sample/eating-disorders-in-males-vs-females.csv\",\n",
    "  \"sample/Mental health Depression disorder Data.csv\",\n",
    "  \"sample/schizophrenia-in-males-vs-females.csv\"\n",
    "]\n",
    "\n",
    "for file_path in data_have_index:\n",
    "  df = pd.read_csv(file_path)\n",
    "  if 'index' in df.columns:\n",
    "    df = df.drop('index', axis=1)\n",
    "  df.to_csv(file_path, index=False)"
   ]
  },
  {
   "cell_type": "code",
   "execution_count": 265,
   "id": "f9bec94caecb52e3",
   "metadata": {
    "ExecuteTime": {
     "end_time": "2024-06-09T11:46:40.301744300Z",
     "start_time": "2024-06-09T11:46:40.233828900Z"
    }
   },
   "outputs": [
    {
     "data": {
      "text/plain": "              Entity      Code  Year  \\\n0           Abkhazia  OWID_ABK  2015   \n1        Afghanistan       AFG  1990   \n2        Afghanistan       AFG  1991   \n3        Afghanistan       AFG  1992   \n4        Afghanistan       AFG  1993   \n...              ...       ...   ...   \n56390       Zimbabwe       ZWE  1988   \n56391       Zimbabwe       ZWE  1989   \n56392       Zimbabwe       ZWE  2020   \n56393       Zimbabwe       ZWE  2021   \n56394  Åland Islands       ALA  2015   \n\n       Prevalence - Anxiety disorders - Sex: Male - Age: Age-standardized (Percent)  \\\n0                                                    NaN                              \n1                                               3.556843                              \n2                                               3.548885                              \n3                                               3.542779                              \n4                                               3.538304                              \n...                                                  ...                              \n56390                                                NaN                              \n56391                                                NaN                              \n56392                                                NaN                              \n56393                                                NaN                              \n56394                                                NaN                              \n\n       Prevalence - Anxiety disorders - Sex: Female - Age: Age-standardized (Percent)  \\\n0                                                    NaN                                \n1                                               5.971172                                \n2                                               5.980482                                \n3                                               5.988175                                \n4                                               5.993858                                \n...                                                  ...                                \n56390                                                NaN                                \n56391                                                NaN                                \n56392                                                NaN                                \n56393                                                NaN                                \n56394                                                NaN                                \n\n       Population (historical estimates) Continent  \n0                                    NaN      Asia  \n1                             12412311.0       NaN  \n2                             13299016.0       NaN  \n3                             14485543.0       NaN  \n4                             15816601.0       NaN  \n...                                  ...       ...  \n56390                          9849129.0       NaN  \n56391                         10153852.0       NaN  \n56392                         14862927.0       NaN  \n56393                         15092171.0       NaN  \n56394                                NaN    Europe  \n\n[56395 rows x 7 columns]",
      "text/html": "<div>\n<style scoped>\n    .dataframe tbody tr th:only-of-type {\n        vertical-align: middle;\n    }\n\n    .dataframe tbody tr th {\n        vertical-align: top;\n    }\n\n    .dataframe thead th {\n        text-align: right;\n    }\n</style>\n<table border=\"1\" class=\"dataframe\">\n  <thead>\n    <tr style=\"text-align: right;\">\n      <th></th>\n      <th>Entity</th>\n      <th>Code</th>\n      <th>Year</th>\n      <th>Prevalence - Anxiety disorders - Sex: Male - Age: Age-standardized (Percent)</th>\n      <th>Prevalence - Anxiety disorders - Sex: Female - Age: Age-standardized (Percent)</th>\n      <th>Population (historical estimates)</th>\n      <th>Continent</th>\n    </tr>\n  </thead>\n  <tbody>\n    <tr>\n      <th>0</th>\n      <td>Abkhazia</td>\n      <td>OWID_ABK</td>\n      <td>2015</td>\n      <td>NaN</td>\n      <td>NaN</td>\n      <td>NaN</td>\n      <td>Asia</td>\n    </tr>\n    <tr>\n      <th>1</th>\n      <td>Afghanistan</td>\n      <td>AFG</td>\n      <td>1990</td>\n      <td>3.556843</td>\n      <td>5.971172</td>\n      <td>12412311.0</td>\n      <td>NaN</td>\n    </tr>\n    <tr>\n      <th>2</th>\n      <td>Afghanistan</td>\n      <td>AFG</td>\n      <td>1991</td>\n      <td>3.548885</td>\n      <td>5.980482</td>\n      <td>13299016.0</td>\n      <td>NaN</td>\n    </tr>\n    <tr>\n      <th>3</th>\n      <td>Afghanistan</td>\n      <td>AFG</td>\n      <td>1992</td>\n      <td>3.542779</td>\n      <td>5.988175</td>\n      <td>14485543.0</td>\n      <td>NaN</td>\n    </tr>\n    <tr>\n      <th>4</th>\n      <td>Afghanistan</td>\n      <td>AFG</td>\n      <td>1993</td>\n      <td>3.538304</td>\n      <td>5.993858</td>\n      <td>15816601.0</td>\n      <td>NaN</td>\n    </tr>\n    <tr>\n      <th>...</th>\n      <td>...</td>\n      <td>...</td>\n      <td>...</td>\n      <td>...</td>\n      <td>...</td>\n      <td>...</td>\n      <td>...</td>\n    </tr>\n    <tr>\n      <th>56390</th>\n      <td>Zimbabwe</td>\n      <td>ZWE</td>\n      <td>1988</td>\n      <td>NaN</td>\n      <td>NaN</td>\n      <td>9849129.0</td>\n      <td>NaN</td>\n    </tr>\n    <tr>\n      <th>56391</th>\n      <td>Zimbabwe</td>\n      <td>ZWE</td>\n      <td>1989</td>\n      <td>NaN</td>\n      <td>NaN</td>\n      <td>10153852.0</td>\n      <td>NaN</td>\n    </tr>\n    <tr>\n      <th>56392</th>\n      <td>Zimbabwe</td>\n      <td>ZWE</td>\n      <td>2020</td>\n      <td>NaN</td>\n      <td>NaN</td>\n      <td>14862927.0</td>\n      <td>NaN</td>\n    </tr>\n    <tr>\n      <th>56393</th>\n      <td>Zimbabwe</td>\n      <td>ZWE</td>\n      <td>2021</td>\n      <td>NaN</td>\n      <td>NaN</td>\n      <td>15092171.0</td>\n      <td>NaN</td>\n    </tr>\n    <tr>\n      <th>56394</th>\n      <td>Åland Islands</td>\n      <td>ALA</td>\n      <td>2015</td>\n      <td>NaN</td>\n      <td>NaN</td>\n      <td>NaN</td>\n      <td>Europe</td>\n    </tr>\n  </tbody>\n</table>\n<p>56395 rows × 7 columns</p>\n</div>"
     },
     "execution_count": 265,
     "metadata": {},
     "output_type": "execute_result"
    }
   ],
   "source": [
    "df = pd.read_csv(\"sample/anxiety-disorders-males-vs-females.csv\")\n",
    "df"
   ]
  },
  {
   "cell_type": "markdown",
   "id": "ebdcc2fd",
   "metadata": {},
   "source": [
    "<h2>Cleaning data bunuh diri</h2>"
   ]
  },
  {
   "cell_type": "code",
   "execution_count": 266,
   "id": "44de2727",
   "metadata": {
    "ExecuteTime": {
     "end_time": "2024-06-09T11:46:40.343568600Z",
     "start_time": "2024-06-09T11:46:40.297742Z"
    }
   },
   "outputs": [
    {
     "name": "stderr",
     "output_type": "stream",
     "text": [
      "C:\\Users\\katana\\AppData\\Local\\Temp\\ipykernel_2204\\4176330424.py:2: FutureWarning: The default value of numeric_only in DataFrameGroupBy.mean is deprecated. In a future version, numeric_only will default to False. Either specify numeric_only or select only columns which should be valid for the function.\n",
      "  df_grouped_bundir = df_grouped_bundir.groupby('Year').mean().reset_index()\n"
     ]
    },
    {
     "data": {
      "text/plain": "    Year  \\\n0   2000   \n1   2001   \n2   2002   \n3   2003   \n4   2004   \n5   2005   \n6   2006   \n7   2007   \n8   2008   \n9   2009   \n10  2010   \n11  2011   \n12  2012   \n13  2013   \n14  2014   \n15  2015   \n16  2016   \n17  2017   \n18  2018   \n19  2019   \n\n    Death rate per 100,000 people - Cause: Self-harm - Sex: Both sexes - Age group: YEARS15-19  \\\n0                                            7.988028                                            \n1                                            7.682564                                            \n2                                            7.509885                                            \n3                                            7.351542                                            \n4                                            7.246225                                            \n5                                            7.117822                                            \n6                                            6.988251                                            \n7                                            6.851540                                            \n8                                            6.972660                                            \n9                                            6.875445                                            \n10                                           6.757594                                            \n11                                           6.900740                                            \n12                                           6.860660                                            \n13                                           6.836737                                            \n14                                           6.662995                                            \n15                                           6.548781                                            \n16                                           6.210847                                            \n17                                           6.261500                                            \n18                                           6.129325                                            \n19                                           5.957439                                            \n\n    Death rate per 100,000 people - Cause: Self-harm - Sex: Both sexes - Age group: YEARS20-24  \\\n0                                           13.170606                                            \n1                                           12.826399                                            \n2                                           12.572857                                            \n3                                           12.392850                                            \n4                                           12.214857                                            \n5                                           12.229616                                            \n6                                           11.861770                                            \n7                                           11.609120                                            \n8                                           11.270457                                            \n9                                           11.334314                                            \n10                                          11.067855                                            \n11                                          10.841423                                            \n12                                          10.877348                                            \n13                                          10.388312                                            \n14                                          10.339337                                            \n15                                          10.177971                                            \n16                                           9.891655                                            \n17                                           9.911897                                            \n18                                           9.481089                                            \n19                                           9.402162                                            \n\n    Death rate per 100,000 people - Cause: Self-harm - Sex: Both sexes - Age group: YEARS25-34  \n0                                           14.197090                                           \n1                                           13.843077                                           \n2                                           13.718074                                           \n3                                           13.247862                                           \n4                                           13.253322                                           \n5                                           13.380470                                           \n6                                           13.079855                                           \n7                                           13.236811                                           \n8                                           13.284965                                           \n9                                           13.312598                                           \n10                                          13.014479                                           \n11                                          12.649499                                           \n12                                          12.492739                                           \n13                                          12.231690                                           \n14                                          12.113883                                           \n15                                          11.668658                                           \n16                                          11.305929                                           \n17                                          11.191640                                           \n18                                          10.887449                                           \n19                                          10.731034                                           ",
      "text/html": "<div>\n<style scoped>\n    .dataframe tbody tr th:only-of-type {\n        vertical-align: middle;\n    }\n\n    .dataframe tbody tr th {\n        vertical-align: top;\n    }\n\n    .dataframe thead th {\n        text-align: right;\n    }\n</style>\n<table border=\"1\" class=\"dataframe\">\n  <thead>\n    <tr style=\"text-align: right;\">\n      <th></th>\n      <th>Year</th>\n      <th>Death rate per 100,000 people - Cause: Self-harm - Sex: Both sexes - Age group: YEARS15-19</th>\n      <th>Death rate per 100,000 people - Cause: Self-harm - Sex: Both sexes - Age group: YEARS20-24</th>\n      <th>Death rate per 100,000 people - Cause: Self-harm - Sex: Both sexes - Age group: YEARS25-34</th>\n    </tr>\n  </thead>\n  <tbody>\n    <tr>\n      <th>0</th>\n      <td>2000</td>\n      <td>7.988028</td>\n      <td>13.170606</td>\n      <td>14.197090</td>\n    </tr>\n    <tr>\n      <th>1</th>\n      <td>2001</td>\n      <td>7.682564</td>\n      <td>12.826399</td>\n      <td>13.843077</td>\n    </tr>\n    <tr>\n      <th>2</th>\n      <td>2002</td>\n      <td>7.509885</td>\n      <td>12.572857</td>\n      <td>13.718074</td>\n    </tr>\n    <tr>\n      <th>3</th>\n      <td>2003</td>\n      <td>7.351542</td>\n      <td>12.392850</td>\n      <td>13.247862</td>\n    </tr>\n    <tr>\n      <th>4</th>\n      <td>2004</td>\n      <td>7.246225</td>\n      <td>12.214857</td>\n      <td>13.253322</td>\n    </tr>\n    <tr>\n      <th>5</th>\n      <td>2005</td>\n      <td>7.117822</td>\n      <td>12.229616</td>\n      <td>13.380470</td>\n    </tr>\n    <tr>\n      <th>6</th>\n      <td>2006</td>\n      <td>6.988251</td>\n      <td>11.861770</td>\n      <td>13.079855</td>\n    </tr>\n    <tr>\n      <th>7</th>\n      <td>2007</td>\n      <td>6.851540</td>\n      <td>11.609120</td>\n      <td>13.236811</td>\n    </tr>\n    <tr>\n      <th>8</th>\n      <td>2008</td>\n      <td>6.972660</td>\n      <td>11.270457</td>\n      <td>13.284965</td>\n    </tr>\n    <tr>\n      <th>9</th>\n      <td>2009</td>\n      <td>6.875445</td>\n      <td>11.334314</td>\n      <td>13.312598</td>\n    </tr>\n    <tr>\n      <th>10</th>\n      <td>2010</td>\n      <td>6.757594</td>\n      <td>11.067855</td>\n      <td>13.014479</td>\n    </tr>\n    <tr>\n      <th>11</th>\n      <td>2011</td>\n      <td>6.900740</td>\n      <td>10.841423</td>\n      <td>12.649499</td>\n    </tr>\n    <tr>\n      <th>12</th>\n      <td>2012</td>\n      <td>6.860660</td>\n      <td>10.877348</td>\n      <td>12.492739</td>\n    </tr>\n    <tr>\n      <th>13</th>\n      <td>2013</td>\n      <td>6.836737</td>\n      <td>10.388312</td>\n      <td>12.231690</td>\n    </tr>\n    <tr>\n      <th>14</th>\n      <td>2014</td>\n      <td>6.662995</td>\n      <td>10.339337</td>\n      <td>12.113883</td>\n    </tr>\n    <tr>\n      <th>15</th>\n      <td>2015</td>\n      <td>6.548781</td>\n      <td>10.177971</td>\n      <td>11.668658</td>\n    </tr>\n    <tr>\n      <th>16</th>\n      <td>2016</td>\n      <td>6.210847</td>\n      <td>9.891655</td>\n      <td>11.305929</td>\n    </tr>\n    <tr>\n      <th>17</th>\n      <td>2017</td>\n      <td>6.261500</td>\n      <td>9.911897</td>\n      <td>11.191640</td>\n    </tr>\n    <tr>\n      <th>18</th>\n      <td>2018</td>\n      <td>6.129325</td>\n      <td>9.481089</td>\n      <td>10.887449</td>\n    </tr>\n    <tr>\n      <th>19</th>\n      <td>2019</td>\n      <td>5.957439</td>\n      <td>9.402162</td>\n      <td>10.731034</td>\n    </tr>\n  </tbody>\n</table>\n</div>"
     },
     "execution_count": 266,
     "metadata": {},
     "output_type": "execute_result"
    }
   ],
   "source": [
    "df_grouped_bundir = pd.read_csv(\"sample/suicide-rates-among-young-people.csv\")\n",
    "df_grouped_bundir = df_grouped_bundir.groupby('Year').mean().reset_index()\n",
    "df_grouped_bundir"
   ]
  },
  {
   "cell_type": "code",
   "execution_count": 267,
   "id": "d1410ebc",
   "metadata": {
    "ExecuteTime": {
     "end_time": "2024-06-09T11:46:40.401736200Z",
     "start_time": "2024-06-09T11:46:40.328700800Z"
    }
   },
   "outputs": [
    {
     "data": {
      "text/plain": "0     0.011785\n1     0.011451\n2     0.011267\n3     0.010997\n4     0.010905\n5     0.010909\n6     0.010643\n7     0.010566\n8     0.010509\n9     0.010507\n10    0.010280\n11    0.010131\n12    0.010077\n13    0.009819\n14    0.009705\n15    0.009465\n16    0.009136\n17    0.009122\n18    0.008833\n19    0.008697\nName: Percentage_Bundir, dtype: float64"
     },
     "execution_count": 267,
     "metadata": {},
     "output_type": "execute_result"
    }
   ],
   "source": [
    "df_grouped_bundir['Change_15_19'] = df_grouped_bundir[\n",
    "  'Death rate per 100,000 people - Cause: Self-harm - Sex: Both sexes - Age group: YEARS15-19']\n",
    "df_grouped_bundir['Change_20_24'] = df_grouped_bundir[\n",
    "  'Death rate per 100,000 people - Cause: Self-harm - Sex: Both sexes - Age group: YEARS20-24']\n",
    "df_grouped_bundir['Change_25_34'] = df_grouped_bundir[\n",
    "  'Death rate per 100,000 people - Cause: Self-harm - Sex: Both sexes - Age group: YEARS25-34']\n",
    "\n",
    "# Menghitung rata2 bunuh diri dari 300000 ribu orang pertahun.\n",
    "df_grouped_bundir['Percentage_Bundir'] = ((df_grouped_bundir[\n",
    "                                             'Death rate per 100,000 people - Cause: Self-harm - Sex: Both sexes - Age group: YEARS15-19'] +\n",
    "                                           df_grouped_bundir[\n",
    "                                             'Death rate per 100,000 people - Cause: Self-harm - Sex: Both sexes - Age group: YEARS20-24'] +\n",
    "                                           df_grouped_bundir[\n",
    "                                             'Death rate per 100,000 people - Cause: Self-harm - Sex: Both sexes - Age group: YEARS25-34']) / 300000) * 100\n",
    "\n",
    "# print(f\"Minimal: {df_grouped_bundir[['Percentage_Bundir']].min()}\")\n",
    "# print(f\"Maximal: {df_grouped_bundir[['Percentage_Bundir']].max()}\")\n",
    "df_grouped_bundir['Percentage_Bundir']"
   ]
  },
  {
   "cell_type": "markdown",
   "id": "b9a9bb60",
   "metadata": {},
   "source": [
    "# Step cleaning data\n",
    "\n",
    "1. Proses cleaning data dengan memperiksa apakah file ada yang missing atau tidak.\n",
    "2. Mengisi data yang kosong atau NaN dengan method ffill ( Mengisi nilai kosong berdasarkan nilai didepannya).\n",
    "3. Melakukan perubahan nama dalam tabel.\n",
    "4. Melakukan filter data dari berdasar kan tahun.\n",
    "5. Melakukan group berdasarkan tahun. dan dicari mean pertahun.\n",
    "6. Step terakhir dijumlahkan mean female dan male."
   ]
  },
  {
   "cell_type": "markdown",
   "id": "0a6be018",
   "metadata": {},
   "source": [
    "<h3>Anxiety</h3>"
   ]
  },
  {
   "cell_type": "code",
   "execution_count": 268,
   "id": "a935d462",
   "metadata": {
    "ExecuteTime": {
     "end_time": "2024-06-09T11:46:40.457731500Z",
     "start_time": "2024-06-09T11:46:40.343568600Z"
    }
   },
   "outputs": [
    {
     "data": {
      "text/plain": "158275"
     },
     "execution_count": 268,
     "metadata": {},
     "output_type": "execute_result"
    }
   ],
   "source": [
    "df_anxiety = pd.read_csv(\"sample/anxiety-disorders-males-vs-females.csv\")\n",
    "df_anxiety.isnull().sum().sum()"
   ]
  },
  {
   "cell_type": "code",
   "execution_count": 269,
   "id": "a202b848",
   "metadata": {
    "ExecuteTime": {
     "end_time": "2024-06-09T11:46:40.479362200Z",
     "start_time": "2024-06-09T11:46:40.390224900Z"
    }
   },
   "outputs": [
    {
     "data": {
      "text/plain": "3"
     },
     "execution_count": 269,
     "metadata": {},
     "output_type": "execute_result"
    }
   ],
   "source": [
    "df_anxiety = df_anxiety.fillna(method='ffill')\n",
    "df_anxiety.isnull().sum().sum()"
   ]
  },
  {
   "cell_type": "code",
   "execution_count": 270,
   "id": "0eab42b2",
   "metadata": {
    "ExecuteTime": {
     "end_time": "2024-06-09T11:46:40.479362200Z",
     "start_time": "2024-06-09T11:46:40.436686700Z"
    }
   },
   "outputs": [
    {
     "data": {
      "text/plain": "Year\n1990    8.597020\n1991    8.577117\n1992    8.580791\n1993    8.584431\n1994    8.587703\n1995    8.590236\n1996    8.597522\n1997    8.612425\n1998    8.630520\n1999    8.647335\n2000    8.681072\n2001    8.686826\n2002    8.691382\n2003    8.695295\n2004    8.699017\n2005    8.702923\n2006    8.713647\n2007    8.733901\n2008    8.757902\n2009    8.779832\n2010    8.793758\n2011    8.802289\n2012    8.811699\n2013    8.821406\n2014    8.830757\n2015    8.813362\n2016    8.843971\n2017    8.847163\ndtype: float64"
     },
     "execution_count": 270,
     "metadata": {},
     "output_type": "execute_result"
    }
   ],
   "source": [
    "df_anxiety = df_anxiety.rename(\n",
    "  columns={'Prevalence - Anxiety disorders - Sex: Female - Age: Age-standardized (Percent)': 'Anxiety_Female',\n",
    "           'Prevalence - Anxiety disorders - Sex: Male - Age: Age-standardized (Percent)': 'Anxiety_Male'})\n",
    "\n",
    "df_anxiety_filtered = df_anxiety[(df_anxiety['Year'] >= 1990) & (df_anxiety['Year'] <= 2017)]\n",
    "\n",
    "df_anxiety_mean = df_anxiety_filtered.groupby('Year').agg({\n",
    "  'Anxiety_Male': 'mean',\n",
    "  'Anxiety_Female': 'mean'\n",
    "})\n",
    "\n",
    "total_df_anxiety_mean = df_anxiety_mean['Anxiety_Female'] + df_anxiety_mean['Anxiety_Male']\n",
    "\n",
    "total_df_anxiety_mean"
   ]
  },
  {
   "cell_type": "markdown",
   "id": "6b614011",
   "metadata": {},
   "source": [
    "<h3>Bipolar</h3>"
   ]
  },
  {
   "cell_type": "code",
   "execution_count": 271,
   "id": "da86a809",
   "metadata": {
    "ExecuteTime": {
     "end_time": "2024-06-09T11:46:40.536661400Z",
     "start_time": "2024-06-09T11:46:40.451705600Z"
    }
   },
   "outputs": [
    {
     "data": {
      "text/plain": "Entity                                                                               0\nCode                                                                              2316\nYear                                                                                 0\nPrevalence - Bipolar disorder - Sex: Male - Age: Age-standardized (Percent)      49555\nPrevalence - Bipolar disorder - Sex: Female - Age: Age-standardized (Percent)    49555\nPopulation (historical estimates)                                                  739\nContinent                                                                        56110\ndtype: int64"
     },
     "execution_count": 271,
     "metadata": {},
     "output_type": "execute_result"
    }
   ],
   "source": [
    "df_bipolar = pd.read_csv(\"sample/bipolar-disorder-in-males-vs-females.csv\")\n",
    "df_bipolar.isnull().sum()"
   ]
  },
  {
   "cell_type": "code",
   "execution_count": 272,
   "id": "ccfe2cf6",
   "metadata": {
    "ExecuteTime": {
     "end_time": "2024-06-09T11:46:40.559852Z",
     "start_time": "2024-06-09T11:46:40.512621700Z"
    }
   },
   "outputs": [
    {
     "data": {
      "text/plain": "Entity                                                                           0\nCode                                                                             0\nYear                                                                             0\nPrevalence - Bipolar disorder - Sex: Male - Age: Age-standardized (Percent)      1\nPrevalence - Bipolar disorder - Sex: Female - Age: Age-standardized (Percent)    1\nPopulation (historical estimates)                                                1\nContinent                                                                        0\ndtype: int64"
     },
     "execution_count": 272,
     "metadata": {},
     "output_type": "execute_result"
    }
   ],
   "source": [
    "df_bipolar = df_bipolar.fillna(method='ffill')\n",
    "df_bipolar.isnull().sum()"
   ]
  },
  {
   "cell_type": "code",
   "execution_count": 273,
   "id": "7ecdf7a2",
   "metadata": {
    "ExecuteTime": {
     "end_time": "2024-06-09T11:46:40.584071600Z",
     "start_time": "2024-06-09T11:46:40.557851900Z"
    }
   },
   "outputs": [
    {
     "data": {
      "text/plain": "Year\n1990    1.352318\n1991    1.349416\n1992    1.349923\n1993    1.350428\n1994    1.350914\n1995    1.351366\n1996    1.351799\n1997    1.352259\n1998    1.352736\n1999    1.353219\n2000    1.357046\n2001    1.357960\n2002    1.359527\n2003    1.361330\n2004    1.362937\n2005    1.363902\n2006    1.364416\n2007    1.364993\n2008    1.365593\n2009    1.366167\n2010    1.366647\n2011    1.367089\n2012    1.367591\n2013    1.368116\n2014    1.368614\n2015    1.353710\n2016    1.369390\n2017    1.369737\ndtype: float64"
     },
     "execution_count": 273,
     "metadata": {},
     "output_type": "execute_result"
    }
   ],
   "source": [
    "df_bipolar = df_bipolar.rename(\n",
    "  columns={'Prevalence - Bipolar disorder - Sex: Male - Age: Age-standardized (Percent)': 'Bipolar_Male',\n",
    "           'Prevalence - Bipolar disorder - Sex: Female - Age: Age-standardized (Percent)': 'Bipolar_Female'})\n",
    "\n",
    "df_bipolar_filtered = df_bipolar[(df_bipolar['Year'] >= 1990) & (df_bipolar['Year'] <= 2017)]\n",
    "\n",
    "df_bipolar_mean = df_bipolar_filtered.groupby('Year').agg({\n",
    "  'Bipolar_Male': 'mean',\n",
    "  'Bipolar_Female': 'mean'\n",
    "})\n",
    "\n",
    "total_df_bipolar_mean = df_bipolar_mean['Bipolar_Male'] + df_bipolar_mean['Bipolar_Female']\n",
    "\n",
    "total_df_bipolar_mean"
   ]
  },
  {
   "cell_type": "markdown",
   "id": "e6b41398",
   "metadata": {},
   "source": [
    "<h3>Depression</h3>"
   ]
  },
  {
   "cell_type": "code",
   "execution_count": 274,
   "id": "f7994905",
   "metadata": {
    "ExecuteTime": {
     "end_time": "2024-06-09T11:46:40.640839300Z",
     "start_time": "2024-06-09T11:46:40.575500600Z"
    }
   },
   "outputs": [
    {
     "data": {
      "text/plain": "Entity                                                                                   0\nCode                                                                                  2316\nYear                                                                                     0\nPrevalence - Depressive disorders - Sex: Male - Age: Age-standardized (Percent)      49555\nPrevalence - Depressive disorders - Sex: Female - Age: Age-standardized (Percent)    49555\nPopulation (historical estimates)                                                      739\nContinent                                                                            56110\ndtype: int64"
     },
     "execution_count": 274,
     "metadata": {},
     "output_type": "execute_result"
    }
   ],
   "source": [
    "df_depression = pd.read_csv(\"sample/depression-males-vs-females.csv\")\n",
    "df_depression.isnull().sum()"
   ]
  },
  {
   "cell_type": "code",
   "execution_count": 275,
   "id": "50d4cb13",
   "metadata": {
    "ExecuteTime": {
     "end_time": "2024-06-09T11:46:40.683352600Z",
     "start_time": "2024-06-09T11:46:40.634818400Z"
    }
   },
   "outputs": [
    {
     "data": {
      "text/plain": "Entity                                                                               0\nCode                                                                                 0\nYear                                                                                 0\nPrevalence - Depressive disorders - Sex: Male - Age: Age-standardized (Percent)      1\nPrevalence - Depressive disorders - Sex: Female - Age: Age-standardized (Percent)    1\nPopulation (historical estimates)                                                    1\nContinent                                                                            0\ndtype: int64"
     },
     "execution_count": 275,
     "metadata": {},
     "output_type": "execute_result"
    }
   ],
   "source": [
    "df_depression = df_depression.fillna(method='ffill')\n",
    "df_depression.isnull().sum()"
   ]
  },
  {
   "cell_type": "code",
   "execution_count": 276,
   "id": "dd1baffb",
   "metadata": {
    "ExecuteTime": {
     "end_time": "2024-06-09T11:46:40.713670700Z",
     "start_time": "2024-06-09T11:46:40.682348800Z"
    }
   },
   "outputs": [
    {
     "data": {
      "text/plain": "Year\n1990    7.915004\n1991    7.908606\n1992    7.908812\n1993    7.909289\n1994    7.910118\n1995    7.911336\n1996    7.915877\n1997    7.924723\n1998    7.934348\n1999    7.941495\n2000    7.948691\n2001    7.944271\n2002    7.936789\n2003    7.927226\n2004    7.916698\n2005    7.906221\n2006    7.889664\n2007    7.863942\n2008    7.835988\n2009    7.812121\n2010    7.798328\n2011    7.793087\n2012    7.789183\n2013    7.786809\n2014    7.785408\n2015    7.738691\n2016    7.784694\n2017    7.785131\ndtype: float64"
     },
     "execution_count": 276,
     "metadata": {},
     "output_type": "execute_result"
    }
   ],
   "source": [
    "df_depression = df_depression.rename(\n",
    "  columns={'Prevalence - Depressive disorders - Sex: Female - Age: Age-standardized (Percent)': 'Depression_Female',\n",
    "           'Prevalence - Depressive disorders - Sex: Male - Age: Age-standardized (Percent)': 'Depression_Male'})\n",
    "\n",
    "df_depression_filtered = df_depression[(df_depression['Year'] >= 1990) & (df_depression['Year'] <= 2017)]\n",
    "\n",
    "df_depression_mean = df_depression_filtered.groupby('Year').agg({\n",
    "  'Depression_Male': 'mean',\n",
    "  'Depression_Female': 'mean'\n",
    "})\n",
    "\n",
    "total_df_depression_mean = df_depression_mean['Depression_Male'] + df_depression_mean['Depression_Female']\n",
    "\n",
    "total_df_depression_mean"
   ]
  },
  {
   "cell_type": "markdown",
   "id": "3825a913",
   "metadata": {},
   "source": [
    "<h3>Schizo</h3>"
   ]
  },
  {
   "cell_type": "code",
   "execution_count": 277,
   "id": "7c6fd9b3",
   "metadata": {
    "ExecuteTime": {
     "end_time": "2024-06-09T11:46:40.760397200Z",
     "start_time": "2024-06-09T11:46:40.697871800Z"
    }
   },
   "outputs": [
    {
     "data": {
      "text/plain": "Entity                                                                            0\nCode                                                                           2316\nYear                                                                              0\nPrevalence - Schizophrenia - Sex: Male - Age: Age-standardized (Percent)      49555\nPrevalence - Schizophrenia - Sex: Female - Age: Age-standardized (Percent)    49555\nPopulation (historical estimates)                                               739\nContinent                                                                     56110\ndtype: int64"
     },
     "execution_count": 277,
     "metadata": {},
     "output_type": "execute_result"
    }
   ],
   "source": [
    "df_schizo = pd.read_csv('sample/schizophrenia-in-males-vs-females.csv')\n",
    "df_schizo.isnull().sum()"
   ]
  },
  {
   "cell_type": "code",
   "execution_count": 278,
   "id": "22896320",
   "metadata": {
    "ExecuteTime": {
     "end_time": "2024-06-09T11:46:40.811939600Z",
     "start_time": "2024-06-09T11:46:40.759310500Z"
    }
   },
   "outputs": [
    {
     "data": {
      "text/plain": "Entity                                                                        0\nCode                                                                          0\nYear                                                                          0\nPrevalence - Schizophrenia - Sex: Male - Age: Age-standardized (Percent)      1\nPrevalence - Schizophrenia - Sex: Female - Age: Age-standardized (Percent)    1\nPopulation (historical estimates)                                             1\nContinent                                                                     0\ndtype: int64"
     },
     "execution_count": 278,
     "metadata": {},
     "output_type": "execute_result"
    }
   ],
   "source": [
    "\n",
    "df_schizo = df_schizo.fillna(method='ffill')\n",
    "df_schizo.isnull().sum()"
   ]
  },
  {
   "cell_type": "code",
   "execution_count": 279,
   "id": "eb382c7e",
   "metadata": {
    "ExecuteTime": {
     "end_time": "2024-06-09T11:46:40.832171700Z",
     "start_time": "2024-06-09T11:46:40.803940400Z"
    }
   },
   "outputs": [
    {
     "data": {
      "text/plain": "Year\n1990    0.559838\n1991    0.559168\n1992    0.559488\n1993    0.559778\n1994    0.560027\n1995    0.560216\n1996    0.560337\n1997    0.560431\n1998    0.560538\n1999    0.560697\n2000    0.561934\n2001    0.562433\n2002    0.563225\n2003    0.564135\n2004    0.564976\n2005    0.565553\n2006    0.565996\n2007    0.566533\n2008    0.567094\n2009    0.567608\n2010    0.567997\n2011    0.568386\n2012    0.568903\n2013    0.569459\n2014    0.569963\n2015    0.569491\n2016    0.570701\n2017    0.571070\ndtype: float64"
     },
     "execution_count": 279,
     "metadata": {},
     "output_type": "execute_result"
    }
   ],
   "source": [
    "df_schizo = df_schizo.rename(\n",
    "  columns={'Prevalence - Schizophrenia - Sex: Female - Age: Age-standardized (Percent)': 'Schizo_Female',\n",
    "           'Prevalence - Schizophrenia - Sex: Male - Age: Age-standardized (Percent)': 'Schizo_Male'})\n",
    "\n",
    "df_schizo_filtered = df_schizo[(df_schizo['Year'] >= 1990) & (df_schizo['Year'] <= 2017)]\n",
    "\n",
    "df_schizo_mean = df_schizo_filtered.groupby('Year').agg({\n",
    "  'Schizo_Male': 'mean',\n",
    "  'Schizo_Female': 'mean'\n",
    "})\n",
    "\n",
    "total_df_schizo_mean = df_schizo_mean['Schizo_Male'] + df_schizo_mean['Schizo_Female']\n",
    "\n",
    "total_df_schizo_mean"
   ]
  },
  {
   "cell_type": "markdown",
   "id": "97075f89a43825fd",
   "metadata": {},
   "source": [
    "## Eating"
   ]
  },
  {
   "cell_type": "code",
   "execution_count": 280,
   "id": "dec11190ed79b504",
   "metadata": {
    "ExecuteTime": {
     "end_time": "2024-06-09T11:46:40.897106900Z",
     "start_time": "2024-06-09T11:46:40.820974700Z"
    }
   },
   "outputs": [
    {
     "data": {
      "text/plain": "Entity                                                                               0\nCode                                                                              2316\nYear                                                                                 0\nPrevalence - Eating disorders - Sex: Male - Age: Age-standardized (Percent)      49555\nPrevalence - Eating disorders - Sex: Female - Age: Age-standardized (Percent)    49555\nPopulation (historical estimates)                                                  739\nContinent                                                                        56110\ndtype: int64"
     },
     "execution_count": 280,
     "metadata": {},
     "output_type": "execute_result"
    }
   ],
   "source": [
    "df_eating = pd.read_csv(\"sample/eating-disorders-in-males-vs-females.csv\")\n",
    "df_eating.isnull().sum()"
   ]
  },
  {
   "cell_type": "code",
   "execution_count": 281,
   "id": "4d5eee32d54a90a2",
   "metadata": {
    "ExecuteTime": {
     "end_time": "2024-06-09T11:46:40.948791200Z",
     "start_time": "2024-06-09T11:46:40.897106900Z"
    }
   },
   "outputs": [
    {
     "data": {
      "text/plain": "Entity                                                                           0\nCode                                                                             0\nYear                                                                             0\nPrevalence - Eating disorders - Sex: Male - Age: Age-standardized (Percent)      1\nPrevalence - Eating disorders - Sex: Female - Age: Age-standardized (Percent)    1\nPopulation (historical estimates)                                                1\nContinent                                                                        0\ndtype: int64"
     },
     "execution_count": 281,
     "metadata": {},
     "output_type": "execute_result"
    }
   ],
   "source": [
    "df_eating = df_eating.fillna(method='ffill')\n",
    "df_eating.isnull().sum()"
   ]
  },
  {
   "cell_type": "code",
   "execution_count": 282,
   "id": "5f89525ed27688bc",
   "metadata": {
    "ExecuteTime": {
     "end_time": "2024-06-09T11:46:40.956907800Z",
     "start_time": "2024-06-09T11:46:40.944788500Z"
    }
   },
   "outputs": [
    {
     "data": {
      "text/plain": "Year\n1990    0.405316\n1991    0.403811\n1992    0.404357\n1993    0.405005\n1994    0.405724\n1995    0.406447\n1996    0.407409\n1997    0.408697\n1998    0.410193\n1999    0.411900\n2000    0.415521\n2001    0.417927\n2002    0.421073\n2003    0.424638\n2004    0.428115\n2005    0.431091\n2006    0.433939\n2007    0.437272\n2008    0.440761\n2009    0.443965\n2010    0.446655\n2011    0.448924\n2012    0.451192\n2013    0.453310\n2014    0.455500\n2015    0.447271\n2016    0.461217\n2017    0.464348\ndtype: float64"
     },
     "execution_count": 282,
     "metadata": {},
     "output_type": "execute_result"
    }
   ],
   "source": [
    "df_eating = df_eating.rename(\n",
    "  columns={'Prevalence - Eating disorders - Sex: Male - Age: Age-standardized (Percent)': 'Eating_Male',\n",
    "           'Prevalence - Eating disorders - Sex: Female - Age: Age-standardized (Percent)': 'Eating_Female'})\n",
    "\n",
    "df_eating_filtered = df_eating[(df_eating['Year'] >= 1990) & (df_eating['Year'] <= 2017)]\n",
    "\n",
    "df_eating_mean = df_eating_filtered.groupby('Year').agg({\n",
    "  'Eating_Male': 'mean',\n",
    "  'Eating_Female': 'mean'\n",
    "})\n",
    "\n",
    "total_df_eating_mean = df_eating_mean['Eating_Male'] + df_eating_mean['Eating_Female']\n",
    "\n",
    "total_df_eating_mean"
   ]
  },
  {
   "cell_type": "code",
   "execution_count": 283,
   "id": "892cd61f",
   "metadata": {
    "ExecuteTime": {
     "end_time": "2024-06-09T11:46:40.980954700Z",
     "start_time": "2024-06-09T11:46:40.961907600Z"
    }
   },
   "outputs": [],
   "source": [
    "# dictionary yang memetakan setiap penyakit mental ke rentang prevalensinya (dalam persentase) untuk laki-laki dan perempuan.\n",
    "# Nilai-nilai ini diambil dari data diatas diambil terkecil dan terbesar..\n",
    "prevalence_range = {\n",
    "  'schizophrenia': {'male': (total_df_schizo_mean.min(), total_df_schizo_mean.max()),\n",
    "                    'female': (total_df_schizo_mean.min(), total_df_schizo_mean.max())},\n",
    "  'anxiety': {'male': (total_df_anxiety_mean.min(), total_df_anxiety_mean.max()),\n",
    "              'female': (total_df_anxiety_mean.min(), total_df_anxiety_mean.max())},\n",
    "  'bipolar': {'male': (total_df_bipolar_mean.min(), total_df_bipolar_mean.max()),\n",
    "              'female': (total_df_bipolar_mean.min(), total_df_bipolar_mean.max())},\n",
    "  'eating_disorders': {'male': (total_df_eating_mean.min(), total_df_eating_mean.max()),\n",
    "                       'female': (total_df_eating_mean.min(), total_df_eating_mean.max())},\n",
    "  'depression': {'male': (total_df_depression_mean.min(), total_df_depression_mean.max()),\n",
    "                 'female': (total_df_depression_mean.min(), total_df_depression_mean.max())},\n",
    "}\n",
    "\n",
    "# asumsi penyakit mental ke probabilitas bunuh diri yang terkait\n",
    "suicide_risk = {\n",
    "  'schizophrenia': 0.1,\n",
    "  'anxiety': 0.05,\n",
    "  'bipolar': 0.08,\n",
    "  'eating_disorders': 0.02,\n",
    "  'depression': 0.07,\n",
    "}\n",
    "\n",
    "populations = [(489128, 350000)]"
   ]
  },
  {
   "cell_type": "code",
   "execution_count": 284,
   "id": "c96f5e56",
   "metadata": {
    "ExecuteTime": {
     "end_time": "2024-06-09T11:46:40.991972600Z",
     "start_time": "2024-06-09T11:46:40.973955200Z"
    }
   },
   "outputs": [],
   "source": [
    "# System\n",
    "system = System(prevalence_range=prevalence_range, suicide_risk=suicide_risk, num_points=random.randint(3, 23),\n",
    "                iterations=1000)\n",
    "# State\n",
    "state = State(results_male=[], results_female=[], populations=populations, predictions=[])"
   ]
  },
  {
   "cell_type": "markdown",
   "id": "4531ca8d",
   "metadata": {},
   "source": [
    "## Monte Carlo simulation\n",
    "Penjelasan:\n",
    "\n",
    "1. Setelah looping menginisialisasikan `min_val` dan `max_val` yang diambil dari hasil menghitung rata2 penyakit mental dari 100 ribu orang pertahunnya.\n",
    "2. `preval_values` akan memiliki sebuah array yang dimulai dari `min_val` sampai `max_val` dengan panjang `system.num_points`.\n",
    "3. `num_male_with_disease` menghitung jumlah laki laki atau permupan dengan penyakit saat ini. Dengan asumsi populasi dan `preval_value` dipilih secara acak. Nilai akan dikalikan dan dibagi 100.\n",
    "4. `num_suicide_male` mensimulasikan jumlah kasus bunuuh diri diantara laki2 atau perempuan saat ini. Binomial akan menghasilkan bilangan acak pada kasus bunuh diri berdasarkan distribusi yang diberikan"
   ]
  },
  {
   "cell_type": "code",
   "execution_count": 285,
   "id": "192e7a1a",
   "metadata": {
    "ExecuteTime": {
     "end_time": "2024-06-09T11:46:41.005059Z",
     "start_time": "2024-06-09T11:46:40.990467300Z"
    }
   },
   "outputs": [],
   "source": [
    "def run_simulation(state, system):\n",
    "  total_suicide_male = 0\n",
    "  total_suicide_female = 0\n",
    "\n",
    "  # Simulasi untuk laki-laki\n",
    "  for disease in system.prevalence_range.keys():\n",
    "    min_val, max_val = system.prevalence_range[disease]['male']\n",
    "    preval_values = np.linspace(min_val, max_val, system.num_points)\n",
    "    num_male_with_disease = int(pop_male * np.random.choice(preval_values) / 100)\n",
    "    num_suicide_male = np.random.binomial(num_male_with_disease, system.suicide_risk[disease])\n",
    "    total_suicide_male += num_suicide_male\n",
    "\n",
    "  # Simulasi untuk perempuan\n",
    "  for disease in system.prevalence_range.keys():\n",
    "    min_val, max_val = system.prevalence_range[disease]['female']\n",
    "    preval_values = np.linspace(min_val, max_val, system.num_points)\n",
    "    num_female_with_disease = int(pop_female * np.random.choice(preval_values) / 100)\n",
    "    num_suicide_female = np.random.binomial(num_female_with_disease, system.suicide_risk[disease])\n",
    "    total_suicide_female += num_suicide_female\n",
    "\n",
    "  return total_suicide_male, total_suicide_female"
   ]
  },
  {
   "cell_type": "markdown",
   "id": "3c2f85b0",
   "metadata": {},
   "source": [
    "## Sweepseries\n",
    "\n",
    "Fungsi `run_simulation_sweepseries()` bekerja sama dengan run simulation diatas, akan tetapi disini untuk probabilitas dan populasi sudah dideklarasikan. </br>\n",
    "    \n",
    "Parameter: </br>\n",
    "p1: PRobabilitass kematian </br>\n",
    "system: Tempat menyimpan variabel contatnt. </br>\n",
    "pop_male & pop_female: populasi laki2 dan perempuan.  </br>"
   ]
  },
  {
   "cell_type": "code",
   "execution_count": 286,
   "id": "9b2e79ef",
   "metadata": {
    "ExecuteTime": {
     "end_time": "2024-06-09T11:46:41.035856800Z",
     "start_time": "2024-06-09T11:46:41.006058200Z"
    }
   },
   "outputs": [],
   "source": [
    "def run_simulation_sweepseries(p1, system, pop_male, pop_female):\n",
    "  state = State(total_suicide_male=0, total_suicide_female=0, total_alive_male=pop_male, total_alive_female=pop_female)\n",
    "\n",
    "  for disease in system.prevalence_range.keys():\n",
    "    num_male_with_disease = int(state.total_alive_male * p1 / 100)\n",
    "    state.total_suicide_male += np.random.binomial(num_male_with_disease, system.suicide_risk[disease])\n",
    "\n",
    "    num_female_with_disease = int(state.total_alive_female * p1 / 100)\n",
    "    state.total_suicide_female += np.random.binomial(num_female_with_disease, system.suicide_risk[disease])\n",
    "\n",
    "  return state"
   ]
  },
  {
   "cell_type": "markdown",
   "id": "3ba97336",
   "metadata": {},
   "source": [
    "## Sweepseries run simulation\n",
    "\n",
    "Mensimulasikan dan memplot angka bunuh diri pria berdasarkan berbagai tingkat prevalensi penyakit schizophrenia dalam populasi. Dimulai dengan menetapkan populasi pria (200.000) dan wanita (350.000), serta membuat array p1_array yang berisi 55 nilai prevalensi schizophrenia dari yang terendah hingga tertinggi. "
   ]
  },
  {
   "cell_type": "code",
   "execution_count": 287,
   "id": "8b8ca681",
   "metadata": {
    "ExecuteTime": {
     "end_time": "2024-06-09T11:46:41.194708300Z",
     "start_time": "2024-06-09T11:46:41.020193400Z"
    }
   },
   "outputs": [
    {
     "data": {
      "text/plain": "<Figure size 450x300 with 1 Axes>",
      "image/png": "[encoded data removed]"
     },
     "metadata": {},
     "output_type": "display_data"
    }
   ],
   "source": [
    "pop_male, pop_female = 200000, 350000\n",
    "p1_array = np.linspace(total_df_schizo_mean.min(), total_df_schizo_mean.max(), 55)\n",
    "\n",
    "sweep_male = SweepSeries()\n",
    "\n",
    "for p1 in p1_array:\n",
    "  final_state = run_simulation_sweepseries(p1, system, pop_male, pop_female)\n",
    "  sweep_male[p1] = final_state.total_suicide_male\n",
    "\n",
    "  # print(sweep)\n",
    "\n",
    "sweep_male.plot(label=\"Total bunuh diri Male\", color=\"C4\")\n",
    "decorate(title='Perempuan dan Laki laki bunuh diri.',\n",
    "         xlabel='Rate bunuh diri',\n",
    "         ylabel='Total Bunuh diri laki laki')"
   ]
  },
  {
   "cell_type": "markdown",
   "id": "488d07ee",
   "metadata": {},
   "source": [
    "## Timeseries\n",
    "Timeseries ini menunjukan jumlah kasus bunuh diri yang disimulasikan untuk laki-laki dan perempuan selama jumlah iterasi yang ditentukan (1000)."
   ]
  },
  {
   "cell_type": "code",
   "execution_count": 288,
   "id": "54f03f53",
   "metadata": {
    "ExecuteTime": {
     "end_time": "2024-06-09T11:46:41.205216800Z",
     "start_time": "2024-06-09T11:46:41.191768100Z"
    }
   },
   "outputs": [],
   "source": [
    "def run_simulation_timeseries(state, system):\n",
    "  totals = TimeSeries()\n",
    "  for i in range(system.iterations):\n",
    "    simulations = run_simulation(state, system)\n",
    "    totals[i] = (simulations[0], simulations[1])\n",
    "  return totals"
   ]
  },
  {
   "cell_type": "code",
   "execution_count": 289,
   "id": "249a35b3",
   "metadata": {
    "ExecuteTime": {
     "end_time": "2024-06-09T11:46:41.829223300Z",
     "start_time": "2024-06-09T11:46:41.210215600Z"
    }
   },
   "outputs": [
    {
     "data": {
      "text/plain": "          Quantity\nTime              \n0     (2388, 4193)\n1     (2354, 4120)\n2     (2355, 4069)\n3     (2415, 3956)\n4     (2393, 4074)\n...            ...\n995   (2313, 4067)\n996   (2380, 3995)\n997   (2331, 4110)\n998   (2319, 3984)\n999   (2379, 4023)\n\n[1000 rows x 1 columns]",
      "text/html": "<div>\n<style scoped>\n    .dataframe tbody tr th:only-of-type {\n        vertical-align: middle;\n    }\n\n    .dataframe tbody tr th {\n        vertical-align: top;\n    }\n\n    .dataframe thead th {\n        text-align: right;\n    }\n</style>\n<table border=\"1\" class=\"dataframe\">\n  <thead>\n    <tr style=\"text-align: right;\">\n      <th></th>\n      <th>Quantity</th>\n    </tr>\n    <tr>\n      <th>Time</th>\n      <th></th>\n    </tr>\n  </thead>\n  <tbody>\n    <tr>\n      <th>0</th>\n      <td>(2388, 4193)</td>\n    </tr>\n    <tr>\n      <th>1</th>\n      <td>(2354, 4120)</td>\n    </tr>\n    <tr>\n      <th>2</th>\n      <td>(2355, 4069)</td>\n    </tr>\n    <tr>\n      <th>3</th>\n      <td>(2415, 3956)</td>\n    </tr>\n    <tr>\n      <th>4</th>\n      <td>(2393, 4074)</td>\n    </tr>\n    <tr>\n      <th>...</th>\n      <td>...</td>\n    </tr>\n    <tr>\n      <th>995</th>\n      <td>(2313, 4067)</td>\n    </tr>\n    <tr>\n      <th>996</th>\n      <td>(2380, 3995)</td>\n    </tr>\n    <tr>\n      <th>997</th>\n      <td>(2331, 4110)</td>\n    </tr>\n    <tr>\n      <th>998</th>\n      <td>(2319, 3984)</td>\n    </tr>\n    <tr>\n      <th>999</th>\n      <td>(2379, 4023)</td>\n    </tr>\n  </tbody>\n</table>\n<p>1000 rows × 1 columns</p>\n</div>"
     },
     "execution_count": 289,
     "metadata": {},
     "output_type": "execute_result"
    }
   ],
   "source": [
    "result_timeseries_male = run_simulation_timeseries(state, system)\n",
    "show(result_timeseries_male)"
   ]
  },
  {
   "cell_type": "markdown",
   "id": "918e090a",
   "metadata": {},
   "source": [
    "## Runing monte carlo simulation"
   ]
  },
  {
   "cell_type": "code",
   "execution_count": 290,
   "id": "b86b4314",
   "metadata": {
    "ExecuteTime": {
     "end_time": "2024-06-09T11:46:42.164244500Z",
     "start_time": "2024-06-09T11:46:41.831760100Z"
    }
   },
   "outputs": [
    {
     "data": {
      "text/plain": "<Figure size 1050x525 with 1 Axes>",
      "image/png": "[encoded data removed]"
     },
     "metadata": {},
     "output_type": "display_data"
    },
    {
     "name": "stdout",
     "output_type": "stream",
     "text": [
      "Average suicides in males: 5667.481\n",
      "Average suicides in females: 4053.937\n"
     ]
    }
   ],
   "source": [
    "for pop_male, pop_female in state.populations:\n",
    "  state.results_male = np.zeros(system.iterations, dtype=int)\n",
    "  state.results_female = np.zeros(system.iterations, dtype=int)\n",
    "\n",
    "  for i in range(system.iterations):\n",
    "    suicide_male, suicide_female = run_simulation(state, system)\n",
    "    state.results_male[i] = int(suicide_male)\n",
    "    state.results_female[i] = int(suicide_female)\n",
    "\n",
    "  state.results_total = state.results_male + state.results_female\n",
    "\n",
    "  # Plotting hasil simulasi\n",
    "  plt.figure(figsize=(14, 7))\n",
    "  plt.hist(state.results_male, bins=30, alpha=0.7, label='Male Suicides')\n",
    "  plt.hist(state.results_female, bins=30, alpha=0.7, label='Female Suicides')\n",
    "  plt.xlabel('Number of Suicides')\n",
    "  plt.ylabel('Frequency')\n",
    "  plt.grid(True)\n",
    "  plt.title(\n",
    "    f'Monte Carlo Simulation of Suicide Cases Due to Mental Health Issues (Population: {pop_male} males, {pop_female} females)')\n",
    "  plt.legend()\n",
    "  plt.show()\n",
    "\n",
    "  # Summary statistics\n",
    "  mean_male = np.mean(state.results_male)\n",
    "  mean_female = np.mean(state.results_female)\n",
    "  print(f'Average suicides in males: {mean_male}')\n",
    "  print(f'Average suicides in females: {mean_female}')"
   ]
  },
  {
   "cell_type": "markdown",
   "id": "f571ae96",
   "metadata": {},
   "source": [
    "## Helper function untuk predict\n",
    "\n",
    "1. `convert_arr_string_into_integer(arr)`\n",
    "Fungsi ini digunakan untuk mengonversi setiap elemen dalam daftar dari string menjadi integer. Ini diperlukan ketika data awalnya dalam format string dan perlu diubah menjadi integer untuk analisis numerik."
   ]
  },
  {
   "cell_type": "code",
   "execution_count": 291,
   "id": "0798af88",
   "metadata": {
    "ExecuteTime": {
     "end_time": "2024-06-09T11:46:42.235961300Z",
     "start_time": "2024-06-09T11:46:42.162612400Z"
    }
   },
   "outputs": [
    {
     "data": {
      "text/plain": "array([5796, 5686, 5693, 5686, 5554, 5677, 5704, 5657, 5586, 5615, 5558,\n       5691, 5775, 5734, 5773, 5562, 5765, 5689, 5740, 5690, 5577, 5790,\n       5740, 5694, 5689, 5664, 5670, 5702, 5781, 5726, 5657, 5711, 5804,\n       5745, 5686, 5822, 5747, 5924, 5613, 5786, 5588, 5443, 5727, 5653,\n       5611, 5675, 5599, 5754, 5796, 5598, 5699, 5727, 5584, 5665, 5568,\n       5683, 5745, 5534, 5621, 5595, 5597, 5613, 5681, 5662, 5683, 5698,\n       5796, 5702, 5616, 5835, 5645, 5575, 5704, 5674, 5833, 5613, 5746,\n       5763, 5664, 5589, 5868, 5768, 5684, 5577, 5640, 5695, 5571, 5621,\n       5713, 5514, 5663, 5754, 5569, 5616, 5644, 5671, 5690, 5744, 5745,\n       5686, 5536, 5685, 5502, 5680, 5527, 5594, 5722, 5725, 5643, 5718,\n       5714, 5701, 5810, 5684, 5540, 5731, 5672, 5621, 5681, 5790, 5622,\n       5534, 5721, 5680, 5697, 5719, 5678, 5619, 5688, 5655, 5602, 5697,\n       5677, 5627, 5784, 5670, 5790, 5682, 5575, 5633, 5466, 5737, 5433,\n       5584, 5716, 5748, 5724, 5781, 5713, 5561, 5600, 5678, 5697, 5613,\n       5652, 5743, 5688, 5778, 5726, 5781, 5649, 5661, 5756, 5599, 5697,\n       5747, 5689, 5636, 5669, 5650, 5529, 5839, 5680, 5629, 5780, 5561,\n       5769, 5682, 5552, 5698, 5861, 5628, 5689, 5550, 5646, 5653, 5642,\n       5634, 5674, 5688, 5701, 5620, 5596, 5512, 5520, 5729, 5655, 5623,\n       5622, 5620, 5411, 5652, 5698, 5688, 5548, 5726, 5654, 5685, 5554,\n       5655, 5662, 5689, 5714, 5758, 5704, 5791, 5613, 5766, 5798, 5603,\n       5613, 5622, 5810, 5772, 5674, 5498, 5631, 5778, 5705, 5723, 5633,\n       5631, 5511, 5588, 5616, 5695, 5730, 5630, 5689, 5637, 5605, 5701,\n       5575, 5574, 5614, 5623, 5678, 5598, 5785, 5534, 5517, 5624, 5669,\n       5745, 5686, 5677, 5762, 5631, 5656, 5629, 5573, 5664, 5545, 5709,\n       5770, 5624, 5737, 5549, 5736, 5781, 5484, 5704, 5794, 5719, 5515,\n       5711, 5641, 5669, 5962, 5792, 5602, 5606, 5644, 5698, 5588, 5637,\n       5700, 5595, 5732, 5653, 5623, 5680, 5705, 5607, 5792, 5657, 5783,\n       5547, 5718, 5718, 5659, 5543, 5602, 5574, 5733, 5631, 5796, 5685,\n       5649, 5831, 5779, 5719, 5597, 5563, 5620, 5804, 5732, 5671, 5644,\n       5740, 5716, 5512, 5801, 5684, 5533, 5703, 5641, 5653, 5568, 5660,\n       5565, 5656, 5829, 5725, 5591, 5764, 5683, 5623, 5565, 5700, 5774,\n       5568, 5748, 5835, 5734, 5627, 5778, 5691, 5717, 5705, 5627, 5788,\n       5727, 5583, 5632, 5682, 5611, 5625, 5547, 5628, 5793, 5566, 5636,\n       5677, 5675, 5687, 5645, 5667, 5704, 5621, 5683, 5565, 5615, 5665,\n       5634, 5683, 5751, 5632, 5478, 5608, 5749, 5533, 5586, 5638, 5583,\n       5534, 5609, 5740, 5712, 5623, 5586, 5624, 5481, 5754, 5722, 5623,\n       5605, 5614, 5703, 5686, 5746, 5739, 5554, 5629, 5697, 5693, 5717,\n       5690, 5853, 5651, 5676, 5629, 5795, 5735, 5727, 5634, 5654, 5773,\n       5560, 5679, 5743, 5615, 5613, 5703, 5684, 5655, 5762, 5615, 5566,\n       5809, 5550, 5697, 5724, 5641, 5639, 5626, 5589, 5711, 5756, 5707,\n       5681, 5718, 5742, 5623, 5726, 5675, 5646, 5676, 5575, 5659, 5564,\n       5671, 5617, 5696, 5680, 5775, 5529, 5690, 5629, 5737, 5677, 5716,\n       5508, 5644, 5626, 5587, 5576, 5587, 5775, 5829, 5687, 5698, 5678,\n       5646, 5551, 5669, 5489, 5742, 5726, 5723, 5620, 5650, 5683, 5741,\n       5660, 5722, 5660, 5683, 5723, 5714, 5608, 5752, 5611, 5612, 5636,\n       5516, 5661, 5649, 5694, 5565, 5764, 5621, 5638, 5604, 5615, 5733,\n       5692, 5754, 5748, 5820, 5451, 5704, 5631, 5590, 5709, 5597, 5656,\n       5665, 5645, 5606, 5668, 5668, 5806, 5707, 5693, 5715, 5710, 5764,\n       5749, 5665, 5817, 5617, 5682, 5568, 5591, 5669, 5594, 5667, 5682,\n       5676, 5771, 5776, 5672, 5731, 5693, 5782, 5710, 5565, 5709, 5605,\n       5604, 5646, 5739, 5732, 5721, 5635, 5789, 5673, 5620, 5645, 5726,\n       5791, 5724, 5856, 5734, 5534, 5589, 5511, 5537, 5700, 5686, 5727,\n       5640, 5681, 5538, 5745, 5691, 5657, 5623, 5805, 5724, 5785, 5673,\n       5614, 5654, 5806, 5606, 5653, 5700, 5558, 5758, 5669, 5519, 5707,\n       5802, 5695, 5672, 5714, 5556, 5722, 5737, 5611, 5715, 5442, 5606,\n       5681, 5608, 5691, 5720, 5609, 5659, 5745, 5834, 5680, 5672, 5556,\n       5718, 5786, 5793, 5699, 5681, 5823, 5623, 5656, 5566, 5663, 5695,\n       5604, 5777, 5696, 5755, 5731, 5634, 5739, 5628, 5679, 5581, 5737,\n       5655, 5566, 5610, 5607, 5716, 5666, 5618, 5725, 5480, 5617, 5681,\n       5632, 5669, 5677, 5727, 5699, 5598, 5751, 5719, 5746, 5707, 5706,\n       5653, 5735, 5822, 5776, 5469, 5628, 5822, 5535, 5641, 5761, 5660,\n       5513, 5562, 5690, 5658, 5691, 5684, 5629, 5470, 5645, 5739, 5607,\n       5738, 5748, 5625, 5817, 5642, 5809, 5591, 5762, 5581, 5777, 5512,\n       5546, 5657, 5649, 5591, 5712, 5615, 5609, 5685, 5550, 5678, 5667,\n       5640, 5657, 5637, 5636, 5482, 5627, 5610, 5641, 5681, 5602, 5715,\n       5592, 5626, 5588, 5622, 5499, 5598, 5722, 5690, 5574, 5596, 5544,\n       5630, 5601, 5752, 5678, 5799, 5611, 5643, 5817, 5692, 5666, 5615,\n       5599, 5651, 5670, 5769, 5695, 5795, 5770, 5638, 5802, 5755, 5750,\n       5826, 5499, 5667, 5559, 5624, 5691, 5697, 5571, 5716, 5662, 5676,\n       5768, 5639, 5702, 5717, 5621, 5671, 5619, 5586, 5723, 5746, 5477,\n       5633, 5521, 5682, 5609, 5751, 5545, 5588, 5793, 5725, 5535, 5675,\n       5576, 5792, 5619, 5603, 5710, 5676, 5831, 5640, 5721, 5661, 5780,\n       5684, 5606, 5557, 5627, 5846, 5695, 5647, 5761, 5692, 5700, 5629,\n       5586, 5642, 5754, 5710, 5606, 5582, 5688, 5763, 5730, 5706, 5683,\n       5658, 5641, 5596, 5552, 5562, 5710, 5678, 5530, 5690, 5540, 5735,\n       5584, 5695, 5726, 5626, 5531, 5577, 5539, 5749, 5604, 5573, 5532,\n       5750, 5707, 5558, 5656, 5754, 5615, 5694, 5692, 5722, 5627, 5708,\n       5722, 5623, 5563, 5659, 5663, 5545, 5719, 5597, 5707, 5636, 5857,\n       5674, 5593, 5672, 5668, 5781, 5752, 5667, 5693, 5755, 5709, 5829,\n       5569, 5673, 5584, 5489, 5569, 5598, 5571, 5749, 5713, 5560, 5791,\n       5636, 5706, 5561, 5649, 5722, 5627, 5685, 5716, 5672, 5784, 5580,\n       5576, 5632, 5629, 5818, 5441, 5690, 5594, 5769, 5747, 5752, 5694,\n       5644, 5650, 5666, 5584, 5769, 5602, 5755, 5681, 5594, 5764, 5771,\n       5695, 5816, 5698, 5754, 5535, 5614, 5671, 5781, 5759, 5676, 5665,\n       5656, 5686, 5774, 5677, 5592, 5789, 5678, 5519, 5683, 5703, 5701,\n       5688, 5679, 5627, 5659, 5495, 5600, 5756, 5728, 5687, 5708, 5567,\n       5680, 5547, 5737, 5624, 5650, 5722, 5728, 5662, 5529, 5557, 5528,\n       5688, 5602, 5552, 5637, 5638, 5731, 5573, 5874, 5769, 5591, 5555,\n       5622, 5509, 5573, 5705, 5794, 5722, 5687, 5784, 5836, 5538, 5634,\n       5658, 5707, 5638, 5723, 5670, 5694, 5717, 5697, 5647, 5642, 5780,\n       5672, 5599, 5768, 5659, 5652, 5644, 5776, 5644, 5619, 5734])"
     },
     "execution_count": 291,
     "metadata": {},
     "output_type": "execute_result"
    }
   ],
   "source": [
    "# np.max(state.results_total)\n",
    "state.results_male"
   ]
  },
  {
   "cell_type": "markdown",
   "id": "2cfb0ae67370be73",
   "metadata": {},
   "source": [
    "## Simulasi predict\n",
    "\n",
    "f(x) = 0.000354334x + 5.66162"
   ]
  },
  {
   "cell_type": "code",
   "execution_count": 321,
   "id": "5e2322297efcd814",
   "metadata": {
    "ExecuteTime": {
     "end_time": "2024-06-09T12:07:07.146546200Z",
     "start_time": "2024-06-09T12:07:07.137955400Z"
    }
   },
   "outputs": [],
   "source": [
    "a = 0.000354334\n",
    "b = 5.66162\n",
    "\n",
    "# Diasumsikan kenaikan jumlah penduduk indoensia pertahun 1,25%\n",
    "growth_rate = 0.0125\n"
   ]
  },
  {
   "cell_type": "code",
   "execution_count": 322,
   "id": "ac845b4aac38e98a",
   "metadata": {
    "ExecuteTime": {
     "end_time": "2024-06-09T12:07:07.532013500Z",
     "start_time": "2024-06-09T12:07:07.499690Z"
    }
   },
   "outputs": [],
   "source": [
    "max_p = np.mean(\n",
    "  np.sum(\n",
    "    [\n",
    "      np.max(total_df_schizo_mean),\n",
    "      np.max(total_df_bipolar_mean),\n",
    "      np.max(total_df_anxiety_mean),\n",
    "      np.max(total_df_eating_mean),\n",
    "      np.max(total_df_depression_mean)\n",
    "    ]\n",
    "  )\n",
    ")"
   ]
  },
  {
   "cell_type": "code",
   "execution_count": 323,
   "id": "d5f6259064a2197b",
   "metadata": {
    "ExecuteTime": {
     "end_time": "2024-06-09T12:07:08.378144300Z",
     "start_time": "2024-06-09T12:07:08.360071300Z"
    }
   },
   "outputs": [],
   "source": [
    "def linear_predict(x):\n",
    "  return a * x + b"
   ]
  },
  {
   "cell_type": "code",
   "execution_count": 324,
   "id": "d8d9d9b6108660ab",
   "metadata": {
    "ExecuteTime": {
     "end_time": "2024-06-09T12:07:08.576252600Z",
     "start_time": "2024-06-09T12:07:08.565772300Z"
    }
   },
   "outputs": [
    {
     "data": {
      "text/plain": "6.370288"
     },
     "execution_count": 324,
     "metadata": {},
     "output_type": "execute_result"
    }
   ],
   "source": [
    "linear_predict(2000)"
   ]
  },
  {
   "cell_type": "markdown",
   "id": "3b331a6742bf70b",
   "metadata": {},
   "source": [
    "## Function Helper"
   ]
  },
  {
   "cell_type": "code",
   "execution_count": 325,
   "id": "988dc39aea60b02b",
   "metadata": {
    "ExecuteTime": {
     "end_time": "2024-06-09T12:07:09.305112900Z",
     "start_time": "2024-06-09T12:07:09.292461200Z"
    }
   },
   "outputs": [],
   "source": [
    "def convert_string_into_int(x):\n",
    "  return [int(i) for i in x]"
   ]
  },
  {
   "cell_type": "code",
   "execution_count": 326,
   "id": "04c6cdc5",
   "metadata": {
    "ExecuteTime": {
     "end_time": "2024-06-09T12:07:09.778995500Z",
     "start_time": "2024-06-09T12:07:09.759964800Z"
    }
   },
   "outputs": [],
   "source": [
    "def run_predict(year, populasi, growth_rate, max_p, linear_predict):\n",
    "  tahun = year[1] - year[0]\n",
    "  results = []\n",
    "  results_populasi = []\n",
    "  populate = populasi\n",
    "\n",
    "  for _ in range(tahun):\n",
    "    populate += populasi * growth_rate\n",
    "    if flip(max_p / 100):\n",
    "\n",
    "      prediksi = round(linear_predict(populate))\n",
    "      results.append(prediksi)\n",
    "      populate -= prediksi\n",
    "      results_populasi.append(populate)\n",
    "    else:\n",
    "      results.append(0)\n",
    "      results_populasi.append(populate)\n",
    "\n",
    "  # print(results)\n",
    "  return results, results_populasi"
   ]
  },
  {
   "cell_type": "code",
   "execution_count": 339,
   "id": "de693e7b",
   "metadata": {
    "ExecuteTime": {
     "end_time": "2024-06-09T12:46:16.390056200Z",
     "start_time": "2024-06-09T12:46:08.686308400Z"
    }
   },
   "outputs": [],
   "source": [
    "# Input user\n",
    "# populasi = input(\"Masukan populasi eg(20000 40000): \")\n",
    "year = input(\"Masukan rentang tahun eg(2000 3000): \")\n",
    "populasi = int(input(\"Masukan populasi awal tahun: \"))\n",
    "\n",
    "# total_populasi = convert_string_into_int(populasi.split(\" \"))\n",
    "year_arr = convert_string_into_int(year.split(\" \"))"
   ]
  },
  {
   "cell_type": "code",
   "execution_count": 340,
   "outputs": [],
   "source": [
    "results_predict, results_populasi = run_predict(year_arr, populasi, growth_rate, max_p, linear_predict)\n",
    "# results_predict"
   ],
   "metadata": {
    "collapsed": false,
    "ExecuteTime": {
     "end_time": "2024-06-09T12:46:17.134513400Z",
     "start_time": "2024-06-09T12:46:17.116383700Z"
    }
   },
   "id": "8d4b88fe7fcec0e9"
  },
  {
   "cell_type": "code",
   "execution_count": 341,
   "id": "ef7fceb6",
   "metadata": {
    "ExecuteTime": {
     "end_time": "2024-06-09T12:46:17.500272800Z",
     "start_time": "2024-06-09T12:46:17.320536400Z"
    }
   },
   "outputs": [
    {
     "data": {
      "text/plain": "<Figure size 1050x525 with 1 Axes>",
      "image/png": "[encoded data removed]"
     },
     "metadata": {},
     "output_type": "display_data"
    }
   ],
   "source": [
    "plt.figure(figsize=(14, 7))\n",
    "plt.hist(results_predict, label='ECDF Prediksi kematian untuk perempuan dan laki-laki')\n",
    "plt.xlabel(f'Rentang tahun {year_arr}')\n",
    "plt.ylabel('Kematian')\n",
    "plt.grid(True)\n",
    "plt.title(\n",
    "  f'ECDF Prediksi kematian dalam rentang tahun {year_arr[0]} sampai {year_arr[1]}: dengan populasi {populasi}')\n",
    "plt.legend()\n",
    "plt.show()"
   ]
  },
  {
   "cell_type": "code",
   "execution_count": 342,
   "outputs": [
    {
     "data": {
      "text/plain": "<Figure size 1050x525 with 1 Axes>",
      "image/png": "[encoded data removed]"
     },
     "metadata": {},
     "output_type": "display_data"
    }
   ],
   "source": [
    "plt.figure(figsize=(14, 7))\n",
    "plt.hist(results_populasi,bins=30, alpha=0.7, label='Perubahan Populasi')\n",
    "plt.xlabel(f'Rentang tahun {year_arr}')\n",
    "plt.ylabel('Frekuensi')\n",
    "plt.title(f'Perubahan Populasi dalam rentang tahun {year_arr[0]} sampai {year_arr[1]}: dengan populasi awal {populasi}')\n",
    "plt.legend()\n",
    "plt.grid(True)\n",
    "plt.show()"
   ],
   "metadata": {
    "collapsed": false,
    "ExecuteTime": {
     "end_time": "2024-06-09T12:46:17.953471500Z",
     "start_time": "2024-06-09T12:46:17.775135Z"
    }
   },
   "id": "69295915f49037f"
  },
  {
   "cell_type": "code",
   "execution_count": null,
   "outputs": [],
   "source": [],
   "metadata": {
    "collapsed": false
   },
   "id": "40b243dc172ad4fd"
  }
 ],
 "metadata": {
  "kernelspec": {
   "display_name": "Python 3 (ipykernel)",
   "language": "python",
   "name": "python3"
  },
  "language_info": {
   "codemirror_mode": {
    "name": "ipython",
    "version": 3
   },
   "file_extension": ".py",
   "mimetype": "text/x-python",
   "name": "python",
   "nbconvert_exporter": "python",
   "pygments_lexer": "ipython3",
   "version": "3.9.16"
  }
 },
 "nbformat": 4,
 "nbformat_minor": 5
}
