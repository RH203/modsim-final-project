{
 "cells": [
  {
   "cell_type": "code",
   "execution_count": null,
   "id": "96f902629d4f7cc4",
   "metadata": {
    "collapsed": false
   },
   "outputs": [],
   "source": [
    "# install Pint if necessary\n",
    "try:\n",
    "  from pint import UnitRegistry\n",
    "except ImportError:\n",
    "  !pip install pint"
   ]
  },
  {
   "cell_type": "code",
   "execution_count": null,
   "id": "12f0edbc7f135ec8",
   "metadata": {
    "collapsed": false
   },
   "outputs": [],
   "source": [
    "# download modsim.py if necessary\n",
    "\n",
    "from os.path import basename, exists\n",
    "\n",
    "\n",
    "def download(url):\n",
    "  filename = basename(url)\n",
    "  if not exists(filename):\n",
    "    from urllib.request import urlretrieve\n",
    "    local, _ = urlretrieve(url, filename)\n",
    "    print('Downloaded ' + local)\n",
    "\n",
    "\n",
    "download('https://github.com/AllenDowney/ModSimPy/raw/master/' +\n",
    "         'modsim.py')"
   ]
  },
  {
   "cell_type": "code",
   "execution_count": null,
   "id": "2ce0753fe0bdda84",
   "metadata": {
    "collapsed": false
   },
   "outputs": [],
   "source": [
    "import pandas as pd\n",
    "from modsim import *\n",
    "import matplotlib.pyplot as plt\n",
    "import numpy as np\n",
    "import random"
   ]
  },
  {
   "cell_type": "markdown",
   "id": "89b47061",
   "metadata": {},
   "source": [
    "<h2> Menghapus kolom yang tidak diperlukan </h2>"
   ]
  },
  {
   "cell_type": "code",
   "execution_count": null,
   "id": "3a02eb05ac107804",
   "metadata": {
    "collapsed": false
   },
   "outputs": [],
   "source": [
    "# Menghapus kolom yang tidak diperlukan\n",
    "data_have_index = [\n",
    "  \"sample/anxiety-disorders-males-vs-females.csv\",\n",
    "  \"sample/bipolar-disorder-in-males-vs-females.csv\",\n",
    "  \"sample/depression-males-vs-females.csv\",\n",
    "  \"sample/eating-disorders-in-males-vs-females.csv\",\n",
    "  \"sample/Mental health Depression disorder Data.csv\",\n",
    "  \"sample/schizophrenia-in-males-vs-females.csv\"\n",
    "]\n",
    "\n",
    "for file_path in data_have_index:\n",
    "  df = pd.read_csv(file_path)\n",
    "  if 'index' in df.columns:\n",
    "    df = df.drop('index', axis=1)\n",
    "  df.to_csv(file_path, index=False)"
   ]
  },
  {
   "cell_type": "code",
   "execution_count": null,
   "id": "f9bec94caecb52e3",
   "metadata": {
    "collapsed": false
   },
   "outputs": [],
   "source": [
    "df = pd.read_csv(\"sample/anxiety-disorders-males-vs-females.csv\")\n",
    "df"
   ]
  },
  {
   "cell_type": "markdown",
   "id": "ebdcc2fd",
   "metadata": {},
   "source": [
    "<h2>Cleaning data bunuh diri</h2>"
   ]
  },
  {
   "cell_type": "code",
   "execution_count": null,
   "id": "44de2727",
   "metadata": {},
   "outputs": [],
   "source": [
    "df_grouped_bundir = pd.read_csv(\"sample/suicide-rates-among-young-people.csv\")\n",
    "df_grouped_bundir = df_grouped_bundir.groupby('Year').mean().reset_index()\n",
    "df_grouped_bundir"
   ]
  },
  {
   "cell_type": "code",
   "execution_count": null,
   "id": "d1410ebc",
   "metadata": {},
   "outputs": [],
   "source": [
    "df_grouped_bundir['Change_15_19'] = df_grouped_bundir[\n",
    "  'Death rate per 100,000 people - Cause: Self-harm - Sex: Both sexes - Age group: YEARS15-19']\n",
    "df_grouped_bundir['Change_20_24'] = df_grouped_bundir[\n",
    "  'Death rate per 100,000 people - Cause: Self-harm - Sex: Both sexes - Age group: YEARS20-24']\n",
    "df_grouped_bundir['Change_25_34'] = df_grouped_bundir[\n",
    "  'Death rate per 100,000 people - Cause: Self-harm - Sex: Both sexes - Age group: YEARS25-34']\n",
    "\n",
    "# Menghitung rata2 bunuh diri dari 300000 ribu orang pertahun.\n",
    "df_grouped_bundir['Percentage_Bundir'] = ((df_grouped_bundir[\n",
    "                                             'Death rate per 100,000 people - Cause: Self-harm - Sex: Both sexes - Age group: YEARS15-19'] +\n",
    "                                           df_grouped_bundir[\n",
    "                                             'Death rate per 100,000 people - Cause: Self-harm - Sex: Both sexes - Age group: YEARS20-24'] +\n",
    "                                           df_grouped_bundir[\n",
    "                                             'Death rate per 100,000 people - Cause: Self-harm - Sex: Both sexes - Age group: YEARS25-34']) / 300000) * 100\n",
    "\n",
    "# print(f\"Minimal: {df_grouped_bundir[['Percentage_Bundir']].min()}\")\n",
    "# print(f\"Maximal: {df_grouped_bundir[['Percentage_Bundir']].max()}\")\n",
    "df_grouped_bundir['Percentage_Bundir']"
   ]
  },
  {
   "cell_type": "markdown",
   "id": "b9a9bb60",
   "metadata": {},
   "source": [
    "# Step cleaning data\n",
    "\n",
    "1. Proses cleaning data dengan memperiksa apakah file ada yang missing atau tidak.\n",
    "2. Mengisi data yang kosong atau NaN dengan method ffill ( Mengisi nilai kosong berdasarkan nilai didepannya).\n",
    "3. Melakukan perubahan nama dalam tabel.\n",
    "4. Melakukan filter data dari berdasar kan tahun.\n",
    "5. Melakukan group berdasarkan tahun. dan dicari mean pertahun.\n",
    "6. Step terakhir dijumlahkan mean female dan male."
   ]
  },
  {
   "cell_type": "markdown",
   "id": "0a6be018",
   "metadata": {},
   "source": [
    "<h3>Anxiety</h3>"
   ]
  },
  {
   "cell_type": "code",
   "execution_count": null,
   "id": "a935d462",
   "metadata": {},
   "outputs": [],
   "source": [
    "df_anxiety = pd.read_csv(\"sample/anxiety-disorders-males-vs-females.csv\")\n",
    "df_anxiety.isnull().sum().sum()"
   ]
  },
  {
   "cell_type": "code",
   "execution_count": null,
   "id": "a202b848",
   "metadata": {},
   "outputs": [],
   "source": [
    "df_anxiety = df_anxiety.fillna(method='ffill')\n",
    "df_anxiety.isnull().sum().sum()"
   ]
  },
  {
   "cell_type": "code",
   "execution_count": null,
   "id": "0eab42b2",
   "metadata": {},
   "outputs": [],
   "source": [
    "df_anxiety = df_anxiety.rename(\n",
    "  columns={'Prevalence - Anxiety disorders - Sex: Female - Age: Age-standardized (Percent)': 'Anxiety_Female',\n",
    "           'Prevalence - Anxiety disorders - Sex: Male - Age: Age-standardized (Percent)': 'Anxiety_Male'})\n",
    "\n",
    "df_anxiety_filtered = df_anxiety[(df_anxiety['Year'] >= 1990) & (df_anxiety['Year'] <= 2017)]\n",
    "\n",
    "df_anxiety_mean = df_anxiety_filtered.groupby('Year').agg({\n",
    "  'Anxiety_Male': 'mean',\n",
    "  'Anxiety_Female': 'mean'\n",
    "})\n",
    "\n",
    "total_df_anxiety_mean = df_anxiety_mean['Anxiety_Female'] + df_anxiety_mean['Anxiety_Male']\n",
    "\n",
    "total_df_anxiety_mean"
   ]
  },
  {
   "cell_type": "markdown",
   "id": "6b614011",
   "metadata": {},
   "source": [
    "<h3>Bipolar</h3>"
   ]
  },
  {
   "cell_type": "code",
   "execution_count": null,
   "id": "da86a809",
   "metadata": {},
   "outputs": [],
   "source": [
    "df_bipolar = pd.read_csv(\"sample/bipolar-disorder-in-males-vs-females.csv\")\n",
    "df_bipolar.isnull().sum()"
   ]
  },
  {
   "cell_type": "code",
   "execution_count": null,
   "id": "ccfe2cf6",
   "metadata": {},
   "outputs": [],
   "source": [
    "df_bipolar = df_bipolar.fillna(method='ffill')\n",
    "df_bipolar.isnull().sum()"
   ]
  },
  {
   "cell_type": "code",
   "execution_count": null,
   "id": "7ecdf7a2",
   "metadata": {},
   "outputs": [],
   "source": [
    "df_bipolar = df_bipolar.rename(\n",
    "  columns={'Prevalence - Bipolar disorder - Sex: Male - Age: Age-standardized (Percent)': 'Bipolar_Male',\n",
    "           'Prevalence - Bipolar disorder - Sex: Female - Age: Age-standardized (Percent)': 'Bipolar_Female'})\n",
    "\n",
    "df_bipolar_filtered = df_bipolar[(df_bipolar['Year'] >= 1990) & (df_bipolar['Year'] <= 2017)]\n",
    "\n",
    "df_bipolar_mean = df_bipolar_filtered.groupby('Year').agg({\n",
    "  'Bipolar_Male': 'mean',\n",
    "  'Bipolar_Female': 'mean'\n",
    "})\n",
    "\n",
    "total_df_bipolar_mean = df_bipolar_mean['Bipolar_Male'] + df_bipolar_mean['Bipolar_Female']\n",
    "\n",
    "total_df_bipolar_mean"
   ]
  },
  {
   "cell_type": "markdown",
   "id": "e6b41398",
   "metadata": {},
   "source": [
    "<h3>Depression</h3>"
   ]
  },
  {
   "cell_type": "code",
   "execution_count": null,
   "id": "f7994905",
   "metadata": {},
   "outputs": [],
   "source": [
    "df_depression = pd.read_csv(\"sample/depression-males-vs-females.csv\")\n",
    "df_depression.isnull().sum()"
   ]
  },
  {
   "cell_type": "code",
   "execution_count": null,
   "id": "50d4cb13",
   "metadata": {},
   "outputs": [],
   "source": [
    "df_depression = df_depression.fillna(method='ffill')\n",
    "df_depression.isnull().sum()"
   ]
  },
  {
   "cell_type": "code",
   "execution_count": null,
   "id": "dd1baffb",
   "metadata": {},
   "outputs": [],
   "source": [
    "df_depression = df_depression.rename(\n",
    "  columns={'Prevalence - Depressive disorders - Sex: Female - Age: Age-standardized (Percent)': 'Depression_Female',\n",
    "           'Prevalence - Depressive disorders - Sex: Male - Age: Age-standardized (Percent)': 'Depression_Male'})\n",
    "\n",
    "df_depression_filtered = df_depression[(df_depression['Year'] >= 1990) & (df_depression['Year'] <= 2017)]\n",
    "\n",
    "df_depression_mean = df_depression_filtered.groupby('Year').agg({\n",
    "  'Depression_Male': 'mean',\n",
    "  'Depression_Female': 'mean'\n",
    "})\n",
    "\n",
    "total_df_depression_mean = df_depression_mean['Depression_Male'] + df_depression_mean['Depression_Female']\n",
    "\n",
    "total_df_depression_mean"
   ]
  },
  {
   "cell_type": "markdown",
   "id": "3825a913",
   "metadata": {},
   "source": [
    "<h3>Schizo</h3>"
   ]
  },
  {
   "cell_type": "code",
   "execution_count": null,
   "id": "7c6fd9b3",
   "metadata": {},
   "outputs": [],
   "source": [
    "df_schizo = pd.read_csv('sample/schizophrenia-in-males-vs-females.csv')\n",
    "df_schizo.isnull().sum()"
   ]
  },
  {
   "cell_type": "code",
   "execution_count": null,
   "id": "22896320",
   "metadata": {},
   "outputs": [],
   "source": [
    "\n",
    "df_schizo = df_schizo.fillna(method='ffill')\n",
    "df_schizo.isnull().sum()"
   ]
  },
  {
   "cell_type": "code",
   "execution_count": null,
   "id": "eb382c7e",
   "metadata": {},
   "outputs": [],
   "source": [
    "df_schizo = df_schizo.rename(\n",
    "  columns={'Prevalence - Schizophrenia - Sex: Female - Age: Age-standardized (Percent)': 'Schizo_Female',\n",
    "           'Prevalence - Schizophrenia - Sex: Male - Age: Age-standardized (Percent)': 'Schizo_Male'})\n",
    "\n",
    "df_schizo_filtered = df_schizo[(df_schizo['Year'] >= 1990) & (df_schizo['Year'] <= 2017)]\n",
    "\n",
    "df_schizo_mean = df_schizo_filtered.groupby('Year').agg({\n",
    "  'Schizo_Male': 'mean',\n",
    "  'Schizo_Female': 'mean'\n",
    "})\n",
    "\n",
    "total_df_schizo_mean = df_schizo_mean['Schizo_Male'] + df_schizo_mean['Schizo_Female']\n",
    "\n",
    "total_df_schizo_mean"
   ]
  },
  {
   "cell_type": "markdown",
   "source": [
    "## Eating"
   ],
   "metadata": {
    "collapsed": false
   },
   "id": "97075f89a43825fd"
  },
  {
   "cell_type": "code",
   "execution_count": null,
   "outputs": [],
   "source": [
    "df_eating = pd.read_csv(\"sample/eating-disorders-in-males-vs-females.csv\")\n",
    "df_eating.isnull().sum()"
   ],
   "metadata": {
    "collapsed": false
   },
   "id": "dec11190ed79b504"
  },
  {
   "cell_type": "code",
   "execution_count": null,
   "outputs": [],
   "source": [
    "df_eating = df_eating.fillna(method='ffill')\n",
    "df_eating.isnull().sum()"
   ],
   "metadata": {
    "collapsed": false
   },
   "id": "4d5eee32d54a90a2"
  },
  {
   "cell_type": "code",
   "execution_count": null,
   "outputs": [],
   "source": [
    "df_eating = df_eating.rename(\n",
    "  columns={'Prevalence - Eating disorders - Sex: Male - Age: Age-standardized (Percent)': 'Eating_Male',\n",
    "           'Prevalence - Eating disorders - Sex: Female - Age: Age-standardized (Percent)': 'Eating_Female'})\n",
    "\n",
    "df_eating_filtered = df_eating[(df_eating['Year'] >= 1990) & (df_eating['Year'] <= 2017)]\n",
    "\n",
    "df_eating_mean = df_eating_filtered.groupby('Year').agg({\n",
    "  'Eating_Male': 'mean',\n",
    "  'Eating_Female': 'mean'\n",
    "})\n",
    "\n",
    "total_df_eating_mean = df_eating_mean['Eating_Male'] + df_eating_mean['Eating_Female']\n",
    "\n",
    "total_df_eating_mean"
   ],
   "metadata": {
    "collapsed": false
   },
   "id": "5f89525ed27688bc"
  },
  {
   "cell_type": "code",
   "execution_count": null,
   "id": "892cd61f",
   "metadata": {},
   "outputs": [],
   "source": [
    "# dictionary yang memetakan setiap penyakit mental ke rentang prevalensinya (dalam persentase) untuk laki-laki dan perempuan.\n",
    "# Nilai-nilai ini diambil dari data diatas diambil terkecil dan terbesar..\n",
    "prevalence_range = {\n",
    "  'schizophrenia': {'male': (total_df_schizo_mean.min(), total_df_schizo_mean.max()),\n",
    "                    'female': (total_df_schizo_mean.min(), total_df_schizo_mean.max())},\n",
    "  'anxiety': {'male': (total_df_anxiety_mean.min(), total_df_anxiety_mean.max()),\n",
    "              'female': (total_df_anxiety_mean.min(), total_df_anxiety_mean.max())},\n",
    "  'bipolar': {'male': (total_df_bipolar_mean.min(), total_df_bipolar_mean.max()),\n",
    "              'female': (total_df_bipolar_mean.min(), total_df_bipolar_mean.max())},\n",
    "  'eating_disorders': {'male': (total_df_eating_mean.min(), total_df_eating_mean.max()),\n",
    "                       'female': (total_df_eating_mean.min(), total_df_eating_mean.max())},\n",
    "  'depression': {'male': (total_df_depression_mean.min(), total_df_depression_mean.max()),\n",
    "                 'female': (total_df_depression_mean.min(), total_df_depression_mean.max())},\n",
    "}\n",
    "\n",
    "# asumsi penyakit mental ke probabilitas bunuh diri yang terkait\n",
    "suicide_risk = {\n",
    "  'schizophrenia': 0.1,\n",
    "  'anxiety': 0.05,\n",
    "  'bipolar': 0.08,\n",
    "  'eating_disorders': 0.02,\n",
    "  'depression': 0.07,\n",
    "}\n",
    "\n",
    "populations = [(489128, 350000)]"
   ]
  },
  {
   "cell_type": "code",
   "execution_count": null,
   "id": "c96f5e56",
   "metadata": {},
   "outputs": [],
   "source": [
    "# System\n",
    "system = System(prevalence_range=prevalence_range, suicide_risk=suicide_risk, num_points=random.randint(3, 23),\n",
    "                iterations=1000)\n",
    "# State\n",
    "state = State(results_male=[], results_female=[], populations=populations, predictions=[])"
   ]
  },
  {
   "cell_type": "markdown",
   "id": "4531ca8d",
   "metadata": {},
   "source": [
    "## Monte Carlo simulation\n",
    "Penjelasan:\n",
    "\n",
    "1. Setelah looping menginisialisasikan `min_val` dan `max_val` yang diambil dari hasil menghitung rata2 penyakit mental dari 100 ribu orang pertahunnya.\n",
    "2. `preval_values` akan memiliki sebuah array yang dimulai dari `min_val` sampai `max_val` dengan panjang `system.num_points`.\n",
    "3. `num_male_with_disease` menghitung jumlah laki laki atau permupan dengan penyakit saat ini. Dengan asumsi populasi dan `preval_value` dipilih secara acak. Nilai akan dikalikan dan dibagi 100.\n",
    "4. `num_suicide_male` mensimulasikan jumlah kasus bunuuh diri diantara laki2 atau perempuan saat ini. Binomial akan menghasilkan bilangan acak pada kasus bunuh diri berdasarkan distribusi yang diberikan"
   ]
  },
  {
   "cell_type": "code",
   "execution_count": null,
   "id": "192e7a1a",
   "metadata": {},
   "outputs": [],
   "source": [
    "def run_simulation(state, system):\n",
    "  total_suicide_male = 0\n",
    "  total_suicide_female = 0\n",
    "\n",
    "  # Simulasi untuk laki-laki\n",
    "  for disease in system.prevalence_range.keys():\n",
    "    min_val, max_val = system.prevalence_range[disease]['male']\n",
    "    preval_values = np.linspace(min_val, max_val, system.num_points)\n",
    "    num_male_with_disease = int(pop_male * np.random.choice(preval_values) / 100)\n",
    "    num_suicide_male = np.random.binomial(num_male_with_disease, system.suicide_risk[disease])\n",
    "    total_suicide_male += num_suicide_male\n",
    "\n",
    "  # Simulasi untuk perempuan\n",
    "  for disease in system.prevalence_range.keys():\n",
    "    min_val, max_val = system.prevalence_range[disease]['female']\n",
    "    preval_values = np.linspace(min_val, max_val, system.num_points)\n",
    "    num_female_with_disease = int(pop_female * np.random.choice(preval_values) / 100)\n",
    "    num_suicide_female = np.random.binomial(num_female_with_disease, system.suicide_risk[disease])\n",
    "    total_suicide_female += num_suicide_female\n",
    "\n",
    "  return total_suicide_male, total_suicide_female"
   ]
  },
  {
   "cell_type": "markdown",
   "id": "3c2f85b0",
   "metadata": {},
   "source": [
    "## Sweepseries\n",
    "\n",
    "Fungsi `run_simulation_sweepseries()` bekerja sama dengan run simulation diatas, akan tetapi disini untuk probabilitas dan populasi sudah dideklarasikan. </br>\n",
    "    \n",
    "Parameter: </br>\n",
    "p1: PRobabilitass kematian </br>\n",
    "system: Tempat menyimpan variabel contatnt. </br>\n",
    "pop_male & pop_female: populasi laki2 dan perempuan.  </br>"
   ]
  },
  {
   "cell_type": "code",
   "execution_count": null,
   "id": "9b2e79ef",
   "metadata": {},
   "outputs": [],
   "source": [
    "def run_simulation_sweepseries(p1, system, pop_male, pop_female):\n",
    " \n",
    "  state = State(total_suicide_male=0, total_suicide_female=0, total_alive_male=pop_male, total_alive_female=pop_female)\n",
    "\n",
    "  for disease in system.prevalence_range.keys():\n",
    "    num_male_with_disease = int(state.total_alive_male * p1 / 100)\n",
    "    state.total_suicide_male += np.random.binomial(num_male_with_disease, system.suicide_risk[disease])\n",
    "\n",
    "    num_female_with_disease = int(state.total_alive_female * p1 / 100)\n",
    "    state.total_suicide_female += np.random.binomial(num_female_with_disease, system.suicide_risk[disease])\n",
    "\n",
    "  return state"
   ]
  },
  {
   "cell_type": "markdown",
   "id": "3ba97336",
   "metadata": {},
   "source": [
    "## Sweepseries run simulation\n",
    "\n",
    "Mensimulasikan dan memplot angka bunuh diri pria berdasarkan berbagai tingkat prevalensi penyakit schizophrenia dalam populasi. Dimulai dengan menetapkan populasi pria (200.000) dan wanita (350.000), serta membuat array p1_array yang berisi 55 nilai prevalensi schizophrenia dari yang terendah hingga tertinggi. "
   ]
  },
  {
   "cell_type": "code",
   "execution_count": null,
   "id": "8b8ca681",
   "metadata": {},
   "outputs": [],
   "source": [
    "pop_male, pop_female = 200000, 350000\n",
    "p1_array = np.linspace(total_df_schizo_mean.min(), total_df_schizo_mean.max(), 55)\n",
    "\n",
    "sweep_male = SweepSeries()\n",
    "\n",
    "for p1 in p1_array:\n",
    "  final_state = run_simulation_sweepseries(p1, system, pop_male, pop_female)\n",
    "  sweep_male[p1] = final_state.total_suicide_male\n",
    "\n",
    "  # print(sweep)\n",
    "\n",
    "sweep_male.plot(label=\"Total bunuh diri Male\", color=\"C4\")\n",
    "decorate(title='Perempuan dan Laki laki bunuh diri.',\n",
    "         xlabel='Rate bunuh diri',\n",
    "         ylabel='Total Bunuh diri laki laki')"
   ]
  },
  {
   "cell_type": "markdown",
   "id": "488d07ee",
   "metadata": {},
   "source": [
    "## Timeseries\n",
    "Timeseries ini menunjukan jumlah kasus bunuh diri yang disimulasikan untuk laki-laki dan perempuan selama jumlah iterasi yang ditentukan (1000)."
   ]
  },
  {
   "cell_type": "code",
   "execution_count": null,
   "id": "54f03f53",
   "metadata": {},
   "outputs": [],
   "source": [
    "def run_simulation_timeseries(state, system):\n",
    "  totals = TimeSeries()\n",
    "  for i in range(system.iterations):\n",
    "    simulations = run_simulation(state, system)\n",
    "    totals[i] = (simulations[0], simulations[1])\n",
    "  return totals"
   ]
  },
  {
   "cell_type": "code",
   "execution_count": null,
   "id": "249a35b3",
   "metadata": {},
   "outputs": [],
   "source": [
    "result_timeseries_male = run_simulation_timeseries(state, system)\n",
    "show(result_timeseries_male)"
   ]
  },
  {
   "cell_type": "markdown",
   "id": "918e090a",
   "metadata": {},
   "source": [
    "## Runing monte carlo simulation"
   ]
  },
  {
   "cell_type": "code",
   "execution_count": null,
   "id": "b86b4314",
   "metadata": {},
   "outputs": [],
   "source": [
    "for pop_male, pop_female in state.populations:\n",
    "  state.results_male = np.zeros(system.iterations, dtype=int)\n",
    "  state.results_female = np.zeros(system.iterations, dtype=int)\n",
    "\n",
    "  for i in range(system.iterations):\n",
    "    suicide_male, suicide_female = run_simulation(state, system)\n",
    "    state.results_male[i] = int(suicide_male)\n",
    "    state.results_female[i] = int(suicide_female)\n",
    "\n",
    "  state.results_total = state.results_male + state.results_female\n",
    "\n",
    "  # Plotting hasil simulasi\n",
    "  plt.figure(figsize=(14, 7))\n",
    "  plt.hist(state.results_male, bins=30, alpha=0.7, label='Male Suicides')\n",
    "  plt.hist(state.results_female, bins=30, alpha=0.7, label='Female Suicides')\n",
    "  plt.xlabel('Number of Suicides')\n",
    "  plt.ylabel('Frequency')\n",
    "  plt.grid(True)\n",
    "  plt.title(\n",
    "    f'Monte Carlo Simulation of Suicide Cases Due to Mental Health Issues (Population: {pop_male} males, {pop_female} females)')\n",
    "  plt.legend()\n",
    "  plt.show()\n",
    "\n",
    "  # Summary statistics\n",
    "  mean_male = np.mean(state.results_male)\n",
    "  mean_female = np.mean(state.results_female)\n",
    "  print(f'Average suicides in males: {mean_male}')\n",
    "  print(f'Average suicides in females: {mean_female}')"
   ]
  },
  {
   "cell_type": "markdown",
   "id": "f571ae96",
   "metadata": {},
   "source": [
    "## Helper function untuk predict\n",
    "\n",
    "1. `convert_arr_string_into_integer(arr)`\n",
    "Fungsi ini digunakan untuk mengonversi setiap elemen dalam daftar dari string menjadi integer. Ini diperlukan ketika data awalnya dalam format string dan perlu diubah menjadi integer untuk analisis numerik."
   ]
  },
  {
   "cell_type": "code",
   "execution_count": null,
   "id": "0798af88",
   "metadata": {},
   "outputs": [],
   "source": [
    "# np.max(state.results_total)\n",
    "state.results_male"
   ]
  },
  {
   "cell_type": "markdown",
   "source": [
    "## Simulasi predict\n",
    "\n",
    "f(x) = 0.000354334x + 5.66162"
   ],
   "metadata": {
    "collapsed": false
   },
   "id": "2cfb0ae67370be73"
  },
  {
   "cell_type": "code",
   "execution_count": null,
   "outputs": [],
   "source": [
    "a = 0.000354334\n",
    "b = 5.66162"
   ],
   "metadata": {
    "collapsed": false
   },
   "id": "5e2322297efcd814"
  },
  {
   "cell_type": "code",
   "execution_count": null,
   "outputs": [],
   "source": [
    "def linear_predict(x):\n",
    "  return a * x + b"
   ],
   "metadata": {
    "collapsed": false
   },
   "id": "d5f6259064a2197b"
  },
  {
   "cell_type": "markdown",
   "source": [
    "## Function Helper"
   ],
   "metadata": {
    "collapsed": false
   },
   "id": "3b331a6742bf70b"
  },
  {
   "cell_type": "code",
   "execution_count": null,
   "outputs": [],
   "source": [
    "def convert_string_into_int(x):\n",
    "  return [int(i) for i in x]"
   ],
   "metadata": {
    "collapsed": false
   },
   "id": "988dc39aea60b02b"
  },
  {
   "cell_type": "code",
   "execution_count": null,
   "id": "04c6cdc5",
   "metadata": {},
   "outputs": [],
   "source": [
    "def run_predict(year, populasi, rentang):\n",
    "  populate = np.linspace(populasi[0], populasi[1], rentang)\n",
    "  tahun = year[1] - year[0]\n",
    "  results = []\n",
    "  \n",
    "  for _ in range(tahun):\n",
    "    temp = random.choice(populate)\n",
    "    results.append(linear_predict(temp) * 1000)\n",
    "    \n",
    "  return results"
   ]
  },
  {
   "cell_type": "code",
   "execution_count": null,
   "id": "de693e7b",
   "metadata": {},
   "outputs": [],
   "source": [
    "# Input user\n",
    "populasi = input(\"Masukan populasi eg(20000 40000): \")\n",
    "year = input(\"Masukan rentang tahun eg(2000 3000): \")\n",
    "rentang = int(input(\"Masukan rentang yang diinginkan untuk populasi: \"))\n",
    "\n",
    "total_populasi = convert_string_into_int(populasi.split(\" \"))\n",
    "year_arr = convert_string_into_int(year.split(\" \"))\n",
    "\n",
    "results_predict = run_predict(year_arr, total_populasi, rentang)"
   ]
  },
  {
   "cell_type": "code",
   "execution_count": null,
   "id": "ef7fceb6",
   "metadata": {},
   "outputs": [],
   "source": [
    "plt.figure(figsize=(14, 7))\n",
    "plt.plot(results_predict, label='ECDF Prediksi kematian untuk perempuan dan laki-laki')\n",
    "plt.xlabel(f'Rentang tahun {year_arr}')\n",
    "plt.ylabel('Populasi')\n",
    "plt.grid(True)\n",
    "plt.title(f'ECDF Prediksi kematian dalam rentang tahun {year[0]} sampai {year[1]}: dengan populasi {populasi[0]} sampai {populasi[1]}')\n",
    "plt.legend()\n",
    "plt.show()"
   ]
  }
 ],
 "metadata": {
  "kernelspec": {
   "display_name": "Python 3",
   "language": "python",
   "name": "python3"
  },
  "language_info": {
   "codemirror_mode": {
    "name": "ipython",
    "version": 3
   },
   "file_extension": ".py",
   "mimetype": "text/x-python",
   "name": "python",
   "nbconvert_exporter": "python",
   "pygments_lexer": "ipython3",
   "version": "3.9.16"
  }
 },
 "nbformat": 4,
 "nbformat_minor": 5
}
