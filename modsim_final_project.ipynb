{
 "cells": [
  {
   "cell_type": "code",
   "execution_count": null,
   "outputs": [],
   "source": [
    "# install Pint if necessary\n",
    "try:\n",
    "  from pint import UnitRegistry\n",
    "except ImportError:\n",
    "  !pip install pint"
   ],
   "metadata": {
    "collapsed": false
   },
   "id": "96f902629d4f7cc4"
  },
  {
   "cell_type": "code",
   "execution_count": null,
   "outputs": [],
   "source": [
    "# download modsim.py if necessary\n",
    "\n",
    "from os.path import basename, exists\n",
    "\n",
    "\n",
    "def download(url):\n",
    "  filename = basename(url)\n",
    "  if not exists(filename):\n",
    "    from urllib.request import urlretrieve\n",
    "    local, _ = urlretrieve(url, filename)\n",
    "    print('Downloaded ' + local)\n",
    "\n",
    "\n",
    "download('https://github.com/AllenDowney/ModSimPy/raw/master/' +\n",
    "         'modsim.py')"
   ],
   "metadata": {
    "collapsed": false
   },
   "id": "12f0edbc7f135ec8"
  },
  {
   "cell_type": "code",
   "execution_count": null,
   "outputs": [],
   "source": [
    "import pandas as pd\n",
    "from modsim import *\n",
    "import matplotlib.pyplot as plt\n",
    "import numpy as np\n",
    "import random"
   ],
   "metadata": {
    "collapsed": false
   },
   "id": "2ce0753fe0bdda84"
  },
  {
   "cell_type": "code",
   "execution_count": null,
   "outputs": [],
   "source": [
    "# Menghapus kolom yang tidak diperlukan\n",
    "data_have_index = [\n",
    "  \"sample/anxiety-disorders-males-vs-females.csv\",\n",
    "  \"sample/bipolar-disorder-in-males-vs-females.csv\",\n",
    "  \"sample/depression-males-vs-females.csv\",\n",
    "  \"sample/eating-disorders-in-males-vs-females.csv\",\n",
    "  \"sample/Mental health Depression disorder Data.csv\",\n",
    "  \"sample/schizophrenia-in-males-vs-females.csv\"\n",
    "]\n",
    "\n",
    "for file_path in data_have_index:\n",
    "  df = pd.read_csv(file_path)\n",
    "  if 'index' in df.columns:\n",
    "    df = df.drop('index', axis=1)\n",
    "  df.to_csv(file_path, index=False)"
   ],
   "metadata": {
    "collapsed": false
   },
   "id": "3a02eb05ac107804"
  },
  {
   "cell_type": "code",
   "execution_count": null,
   "outputs": [],
   "source": [],
   "metadata": {
    "collapsed": false
   },
   "id": "f9bec94caecb52e3"
  }
 ],
 "metadata": {
  "kernelspec": {
   "display_name": "Python 3",
   "language": "python",
   "name": "python3"
  },
  "language_info": {
   "codemirror_mode": {
    "name": "ipython",
    "version": 2
   },
   "file_extension": ".py",
   "mimetype": "text/x-python",
   "name": "python",
   "nbconvert_exporter": "python",
   "pygments_lexer": "ipython2",
   "version": "2.7.6"
  }
 },
 "nbformat": 4,
 "nbformat_minor": 5
}
