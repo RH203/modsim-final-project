{
 "cells": [
  {
   "cell_type": "code",
   "execution_count": null,
   "outputs": [],
   "source": [
    "# install Pint if necessary\n",
    "try:\n",
    "  from pint import UnitRegistry\n",
    "except ImportError:\n",
    "  !pip install pint"
   ],
   "metadata": {
    "collapsed": false
   },
   "id": "96f902629d4f7cc4"
  },
  {
   "cell_type": "code",
   "execution_count": null,
   "outputs": [],
   "source": [
    "# download modsim.py if necessary\n",
    "\n",
    "from os.path import basename, exists\n",
    "\n",
    "\n",
    "def download(url):\n",
    "  filename = basename(url)\n",
    "  if not exists(filename):\n",
    "    from urllib.request import urlretrieve\n",
    "    local, _ = urlretrieve(url, filename)\n",
    "    print('Downloaded ' + local)\n",
    "\n",
    "\n",
    "download('https://github.com/AllenDowney/ModSimPy/raw/master/' +\n",
    "         'modsim.py')"
   ],
   "metadata": {
    "collapsed": false
   },
   "id": "12f0edbc7f135ec8"
  },
  {
   "cell_type": "code",
   "execution_count": null,
   "outputs": [],
   "source": [
    "import pandas as pd\n",
    "from modsim import *\n",
    "import matplotlib.pyplot as plt\n",
    "import numpy as np\n",
    "import random"
   ],
   "metadata": {
    "collapsed": false
   },
   "id": "2ce0753fe0bdda84"
  },
  {
   "cell_type": "markdown",
   "source": [
    "## Menghapus kolom yang tidak diperlukan"
   ],
   "metadata": {
    "collapsed": false
   },
   "id": "bd8df20c95ed897e"
  },
  {
   "cell_type": "code",
   "execution_count": null,
   "outputs": [],
   "source": [
    "data_have_index = [\n",
    "  \"sample/anxiety-disorders-males-vs-females.csv\",\n",
    "  \"sample/bipolar-disorder-in-males-vs-females.csv\",\n",
    "  \"sample/depression-males-vs-females.csv\",\n",
    "  \"sample/eating-disorders-in-males-vs-females.csv\",\n",
    "  \"sample/Mental health Depression disorder Data.csv\",\n",
    "  \"sample/schizophrenia-in-males-vs-females.csv\"\n",
    "]\n",
    "\n",
    "for file_path in data_have_index:\n",
    "  df = pd.read_csv(file_path)\n",
    "  if 'index' in df.columns:\n",
    "    df = df.drop('index', axis=1)\n",
    "  df.to_csv(file_path, index=False)"
   ],
   "metadata": {
    "collapsed": false
   },
   "id": "3a02eb05ac107804"
  },
  {
   "cell_type": "markdown",
   "source": [
    "## Monte Carlo simulation\n",
    "Penjelasan:\n",
    "\n",
    "1. Setelah looping menginisialisasikan `min_val` dan `max_val` yang diambil dari hasil menghitung rata2 penyakit mental dari 100 ribu orang pertahunnya.\n",
    "2. `preval_values` akan memiliki sebuah array yang dimulai dari `min_val` sampai `max_val` dengan panjang `system.num_points`\n",
    "3. `num_male_with_disease` menghitung jumlah laki laki atau permupan dengan penyakit saat ini. Dengan asumsi populasi dan `preval_value` dipilih secara acak. Nilai akan dikalikan dan dibagi 100.\n",
    "4. `num_suicide_male` mensimulasikan jumlah kasus bunuuh diri diantara laki2 atau perempuan saat ini. Binomial akan menghasilkan bilangan acak pada kasus bunuh diri berdasarkan distribusi yang diberikan"
   ],
   "metadata": {
    "collapsed": false
   },
   "id": "72c4621a1de96bee"
  },
  {
   "cell_type": "code",
   "execution_count": null,
   "outputs": [],
   "source": [
    "def run_simulation(state, system):\n",
    "  total_suicide_male = 0\n",
    "  total_suicide_female = 0\n",
    "\n",
    "  # Simulasi untuk laki-laki\n",
    "  for disease in system.prevalence_range.keys():\n",
    "    min_val, max_val = system.prevalence_range[disease]['male']\n",
    "    preval_values = np.linspace(min_val, max_val, system.num_points)\n",
    "    num_male_with_disease = int(pop_male * np.random.choice(preval_values) / 100)\n",
    "    num_suicide_male = np.random.binomial(num_male_with_disease, system.suicide_risk[disease])\n",
    "    total_suicide_male += num_suicide_male\n",
    "\n",
    "  # Simulasi untuk perempuan\n",
    "  for disease in system.prevalence_range.keys():\n",
    "    min_val, max_val = system.prevalence_range[disease]['female']\n",
    "    preval_values = np.linspace(min_val, max_val, system.num_points)\n",
    "    num_female_with_disease = int(pop_female * np.random.choice(preval_values) / 100)\n",
    "    num_suicide_female = np.random.binomial(num_female_with_disease, system.suicide_risk[disease])\n",
    "    total_suicide_female += num_suicide_female\n",
    "\n",
    "  return total_suicide_male, total_suicide_female"
   ],
   "metadata": {
    "collapsed": false
   },
   "id": "a26cefaf096f25b7"
  },
  {
   "cell_type": "markdown",
   "source": [
    "## Running simulasi Monte Carlo"
   ],
   "metadata": {
    "collapsed": false
   },
   "id": "2518ed5191f80983"
  },
  {
   "cell_type": "code",
   "execution_count": null,
   "outputs": [],
   "source": [
    "for pop_male, pop_female in state.populations:\n",
    "  state.results_male = []\n",
    "  state.results_female = []\n",
    "  prediction_arr = []\n",
    "  for _ in range(system.iterations):\n",
    "    suicide_male, suicide_female = run_simulation(state, system)\n",
    "    state.results_male.append(suicide_male)\n",
    "    state.results_female.append(suicide_female)\n",
    "\n",
    "  prediction_arr.append({\n",
    "    'pop_male': pop_male,\n",
    "    'pop_female': pop_female,\n",
    "    'average_male': np.mean(state.results_male),\n",
    "    'average_female': np.mean(state.results_female)\n",
    "  })\n",
    "\n",
    "  state.predictions.append(prediction_arr)\n",
    "\n",
    "  # Plotting hasil simulasi\n",
    "  plt.figure(figsize=(14, 7))\n",
    "  plt.hist(state.results_male, bins=30, alpha=0.7, label='Male Suicides')\n",
    "  plt.hist(state.results_female, bins=30, alpha=0.7, label='Female Suicides')\n",
    "  plt.xlabel('Number of Suicides')\n",
    "  plt.ylabel('Frequency')\n",
    "  plt.title(\n",
    "    f'Monte Carlo Simulation of Suicide Cases Due to Mental Health Issues (Population: {pop_male} males, {pop_female} females)')\n",
    "  plt.legend()\n",
    "  plt.show()\n",
    "\n",
    "  # Summary statistics\n",
    "  mean_male = np.mean(state.results_male)\n",
    "  mean_female = np.mean(state.results_female)\n",
    "  print(f'Average suicides in males: {mean_male}')\n",
    "  print(f'Average suicides in females: {mean_female}')"
   ],
   "metadata": {
    "collapsed": false
   },
   "id": "aa2f8648e6b80195"
  },
  {
   "cell_type": "markdown",
   "source": [
    "## Helper function untuk predict\n",
    "1. `filter_prediction_data(state, output)`\n",
    "  Fungsi ini digunakan untuk memfilter data prediksi berdasarkan output yang diinginkan. Output dapat berupa \"pop_male\", \"pop_female\", \"average_suicide_male\", atau \"average_suicide_female\".\n",
    "\n",
    "2. `sum_prediction_data(size)`\n",
    "Fungsi ini digunakan untuk menghitung total dari nilai tertinggi atau terendah dari populasi yang diuji. Ukuran populasi yang diuji dapat berupa \"besar\" atau \"kecil\".\n",
    "\n",
    "3. `mean_suicide(state, key)`\n",
    "Fungsi ini digunakan untuk menghitung rata-rata nilai dari data prediksi berdasarkan kunci yang diberikan. Kunci dapat berupa \"pop_male\", \"pop_female\", \"average_suicide_male\", atau \"average_suicide_female\".\n",
    "\n",
    "4. `calculate_growth_ratios(arr)`\n",
    "Fungsi ini digunakan untuk menghitung rasio pertumbuhan dari sebuah array data. Ini berguna untuk menganalisis tren pertumbuhan data dari waktu ke waktu.\n",
    "\n",
    "5. `convert_arr_string_into_integer(arr)`\n",
    "Fungsi ini digunakan untuk mengonversi setiap elemen dalam daftar dari string menjadi integer. Ini diperlukan ketika data awalnya dalam format string dan perlu diubah menjadi integer untuk analisis numerik."
   ],
   "metadata": {
    "collapsed": false
   },
   "id": "d90c4d18d99bf7c0"
  },
  {
   "cell_type": "code",
   "execution_count": null,
   "outputs": [],
   "source": [
    "# Simulasi prediksi\n",
    "# Mendapatkan range tertinggi dan terendah dari populasi yang diuji diatas.\n",
    "\n",
    "def filter_prediction_data(state, output):\n",
    "  \"\"\"\n",
    "    Memfilter data prediksi berdasarkan output yang diinginkan.\n",
    "    \n",
    "    Parameters:\n",
    "        state (object): Objek state yang berisi data prediksi.\n",
    "        output (str): Output yang diinginkan, seperti \"pop_male\", \"pop_female\", \n",
    "                      \"average_suicide_male\", atau \"average_suicide_female\".\n",
    "                      \n",
    "    Returns:\n",
    "        list: Daftar nilai yang telah difilter berdasarkan output yang diinginkan.\n",
    "  \"\"\"\n",
    "\n",
    "  temp_arr = []\n",
    "  for prediction_data in state.predictions:\n",
    "    for prediction_value in prediction_data:\n",
    "      if output == \"pop_male\":\n",
    "        temp_arr.append(prediction_value[\"pop_male\"])\n",
    "      if output == \"pop_female\":\n",
    "        temp_arr.append(prediction_value[\"pop_female\"])\n",
    "      if output == \"average_suicide_male\":\n",
    "        temp_arr.append(prediction_value[\"average_male\"])\n",
    "      if output == \"average_suicide_female\":\n",
    "        temp_arr.append(prediction_value[\"average_female\"])\n",
    "  return temp_arr\n",
    "\n",
    "\n",
    "def sum_prediction_data(size):\n",
    "  \"\"\"\n",
    "    Menghitung total dari nilai tertinggi atau terendah dari populasi yang diuji.\n",
    "    \n",
    "    Parameters:\n",
    "        size (str): Ukuran populasi yang diuji, \"besar\" atau \"kecil\".\n",
    "        \n",
    "    Returns:\n",
    "        float: Total dari nilai tertinggi atau terendah dari populasi yang diuji.\n",
    "  \"\"\"\n",
    "  return np.sum(np.max(filter_prediction_data(state, \"pop_male\"))) + np.sum(\n",
    "    np.max(filter_prediction_data(state, \"pop_female\"))) if size == \"besar\" else np.sum(\n",
    "    np.min(filter_prediction_data(state, \"pop_male\"))) + np.sum(np.min(filter_prediction_data(state, \"pop_female\")))\n",
    "\n",
    "\n",
    "def mean_suicide(state, key):\n",
    "  \"\"\"\n",
    "    Menghitung rata-rata nilai dari data prediksi berdasarkan kunci yang diberikan.\n",
    "    \n",
    "    Parameters:\n",
    "        state (object): Objek state yang berisi data prediksi.\n",
    "        key (str): Kunci untuk menentukan data yang akan dihitung rata-ratanya.\n",
    "        \n",
    "    Returns:\n",
    "        float: Nilai rata-rata dari data prediksi yang sesuai dengan kunci yang diberikan.\n",
    "  \"\"\"\n",
    "  return np.mean(filter_prediction_data(state, key))\n",
    "\n",
    "\n",
    "def calculate_growth_ratios(arr):\n",
    "  \"\"\"\n",
    "    Menghitung rasio pertumbuhan dari sebuah array data.\n",
    "    \n",
    "    Parameters:\n",
    "        arr (list): Daftar data yang akan dihitung rasio pertumbuhannya.\n",
    "        \n",
    "    Returns:\n",
    "        list: Daftar rasio pertumbuhan antar elemen dalam array data yang telah diurutkan.\n",
    "  \"\"\"\n",
    "  sorted_arr = sorted(arr)\n",
    "  print(sorted_arr)\n",
    "  growth_ratios = []\n",
    "\n",
    "  for i in range(len(sorted_arr) - 1):\n",
    "    ratio = sorted_arr[i + 1] / sorted_arr[i]\n",
    "    growth_ratios.append(ratio)\n",
    "\n",
    "  return growth_ratios\n",
    "\n",
    "\n",
    "def convert_arr_string_into_integer(arr):\n",
    "  \"\"\"\n",
    "    Mengonversi setiap elemen dalam daftar dari string menjadi integer.\n",
    "    \n",
    "    Parameters:\n",
    "        arr (list): Daftar string yang akan dikonversi menjadi integer.\n",
    "        \n",
    "    Returns:\n",
    "        list: Daftar integer hasil konversi.\n",
    "  \"\"\"\n",
    "\n",
    "  return [int(x) for x in arr]"
   ],
   "metadata": {
    "collapsed": false
   },
   "id": "d4181b6a7a421d60"
  },
  {
   "cell_type": "code",
   "execution_count": null,
   "outputs": [],
   "source": [
    "sum_prediction_data(\"kecil\")"
   ],
   "metadata": {
    "collapsed": false
   },
   "id": "434e537daf551db"
  },
  {
   "cell_type": "markdown",
   "source": [
    "## Simulasi predict"
   ],
   "metadata": {
    "collapsed": false
   },
   "id": "80b39b80921a34f4"
  },
  {
   "cell_type": "code",
   "execution_count": null,
   "outputs": [],
   "source": [
    "def run_prediction_simulate(num_loop, populations, state):\n",
    "  num_simulation = num_loop[1] - num_loop[0]\n",
    "\n",
    "  suicide_male = []\n",
    "  suicide_female = []\n",
    "\n",
    "  average_suicide_male = np.linspace(np.min(filter_prediction_data(state, \"average_suicide_male\")),\n",
    "                                     np.max(filter_prediction_data(state, \"average_suicide_male\")), 33)\n",
    "  average_suicide_female = np.linspace(np.min(filter_prediction_data(state, \"average_suicide_female\")),\n",
    "                                       np.max(filter_prediction_data(state, \"average_suicide_female\")), 33)\n",
    "\n",
    "  if num_simulation >= 1000:\n",
    "    if (sum_prediction_data(\"kecil\") <= np.min(populations)) or (\n",
    "      sum_prediction_data(\"besar\") >= np.max(populations)):\n",
    "\n",
    "      for _ in range(num_simulation):\n",
    "        if flip(0.5):\n",
    "          temp_rand_male = random.randint(int(np.min(average_suicide_male)),\n",
    "                                          int(np.max(average_suicide_male)))\n",
    "          temp_rand_female = random.randint(int(np.min(average_suicide_female)),\n",
    "                                            int(np.max(average_suicide_female)))\n",
    "          suicide_male.append(temp_rand_male)\n",
    "          suicide_female.append(temp_rand_female)\n",
    "        else:\n",
    "          if len(suicide_male) > 0:\n",
    "            suicide_male.pop(random.randint(0, len(suicide_male) - 1))\n",
    "          if len(suicide_female) > 0:\n",
    "            suicide_female.pop(random.randint(0, len(suicide_female) - 1))\n",
    "\n",
    "  return suicide_male, suicide_female"
   ],
   "metadata": {
    "collapsed": false
   },
   "id": "38699a575963d331"
  }
 ],
 "metadata": {
  "kernelspec": {
   "display_name": "Python 3",
   "language": "python",
   "name": "python3"
  },
  "language_info": {
   "codemirror_mode": {
    "name": "ipython",
    "version": 2
   },
   "file_extension": ".py",
   "mimetype": "text/x-python",
   "name": "python",
   "nbconvert_exporter": "python",
   "pygments_lexer": "ipython2",
   "version": "2.7.6"
  }
 },
 "nbformat": 4,
 "nbformat_minor": 5
}
