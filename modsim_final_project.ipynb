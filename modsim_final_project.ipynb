{
 "cells": [
  {
   "cell_type": "code",
   "execution_count": 1,
   "id": "96f902629d4f7cc4",
   "metadata": {
    "collapsed": false,
    "ExecuteTime": {
     "end_time": "2024-06-07T18:02:25.700094600Z",
     "start_time": "2024-06-07T18:02:25.223075700Z"
    }
   },
   "outputs": [],
   "source": [
    "# install Pint if necessary\n",
    "try:\n",
    "  from pint import UnitRegistry\n",
    "except ImportError:\n",
    "  !pip install pint"
   ]
  },
  {
   "cell_type": "code",
   "execution_count": 2,
   "id": "12f0edbc7f135ec8",
   "metadata": {
    "collapsed": false,
    "ExecuteTime": {
     "end_time": "2024-06-07T18:02:25.716671300Z",
     "start_time": "2024-06-07T18:02:25.702104100Z"
    }
   },
   "outputs": [],
   "source": [
    "# download modsim.py if necessary\n",
    "\n",
    "from os.path import basename, exists\n",
    "\n",
    "\n",
    "def download(url):\n",
    "  filename = basename(url)\n",
    "  if not exists(filename):\n",
    "    from urllib.request import urlretrieve\n",
    "    local, _ = urlretrieve(url, filename)\n",
    "    print('Downloaded ' + local)\n",
    "\n",
    "\n",
    "download('https://github.com/AllenDowney/ModSimPy/raw/master/' +\n",
    "         'modsim.py')"
   ]
  },
  {
   "cell_type": "code",
   "execution_count": 3,
   "id": "2ce0753fe0bdda84",
   "metadata": {
    "collapsed": false,
    "ExecuteTime": {
     "end_time": "2024-06-07T18:02:26.352811600Z",
     "start_time": "2024-06-07T18:02:25.716671300Z"
    }
   },
   "outputs": [],
   "source": [
    "import pandas as pd\n",
    "from modsim import *\n",
    "import matplotlib.pyplot as plt\n",
    "import numpy as np\n",
    "import random"
   ]
  },
  {
   "cell_type": "markdown",
   "id": "89b47061",
   "metadata": {},
   "source": [
    "<h2> Menghapus kolom yang tidak diperlukan </h2>"
   ]
  },
  {
   "cell_type": "code",
   "execution_count": 4,
   "id": "3a02eb05ac107804",
   "metadata": {
    "collapsed": false,
    "ExecuteTime": {
     "end_time": "2024-06-07T18:02:27.375209600Z",
     "start_time": "2024-06-07T18:02:26.354816200Z"
    }
   },
   "outputs": [
    {
     "name": "stderr",
     "output_type": "stream",
     "text": [
      "C:\\Users\\katana\\AppData\\Local\\Temp\\ipykernel_27840\\2091496989.py:12: DtypeWarning: Columns (4,5) have mixed types. Specify dtype option on import or set low_memory=False.\n",
      "  df = pd.read_csv(file_path)\n"
     ]
    }
   ],
   "source": [
    "# Menghapus kolom yang tidak diperlukan\n",
    "data_have_index = [\n",
    "  \"sample/anxiety-disorders-males-vs-females.csv\",\n",
    "  \"sample/bipolar-disorder-in-males-vs-females.csv\",\n",
    "  \"sample/depression-males-vs-females.csv\",\n",
    "  \"sample/eating-disorders-in-males-vs-females.csv\",\n",
    "  \"sample/Mental health Depression disorder Data.csv\",\n",
    "  \"sample/schizophrenia-in-males-vs-females.csv\"\n",
    "]\n",
    "\n",
    "for file_path in data_have_index:\n",
    "  df = pd.read_csv(file_path)\n",
    "  if 'index' in df.columns:\n",
    "    df = df.drop('index', axis=1)\n",
    "  df.to_csv(file_path, index=False)"
   ]
  },
  {
   "cell_type": "code",
   "execution_count": 5,
   "id": "f9bec94caecb52e3",
   "metadata": {
    "collapsed": false,
    "ExecuteTime": {
     "end_time": "2024-06-07T18:02:27.436397Z",
     "start_time": "2024-06-07T18:02:27.377209100Z"
    }
   },
   "outputs": [
    {
     "data": {
      "text/plain": "              Entity      Code  Year  \\\n0           Abkhazia  OWID_ABK  2015   \n1        Afghanistan       AFG  1990   \n2        Afghanistan       AFG  1991   \n3        Afghanistan       AFG  1992   \n4        Afghanistan       AFG  1993   \n...              ...       ...   ...   \n56390       Zimbabwe       ZWE  1988   \n56391       Zimbabwe       ZWE  1989   \n56392       Zimbabwe       ZWE  2020   \n56393       Zimbabwe       ZWE  2021   \n56394  Åland Islands       ALA  2015   \n\n       Prevalence - Anxiety disorders - Sex: Male - Age: Age-standardized (Percent)  \\\n0                                                    NaN                              \n1                                               3.556843                              \n2                                               3.548885                              \n3                                               3.542779                              \n4                                               3.538304                              \n...                                                  ...                              \n56390                                                NaN                              \n56391                                                NaN                              \n56392                                                NaN                              \n56393                                                NaN                              \n56394                                                NaN                              \n\n       Prevalence - Anxiety disorders - Sex: Female - Age: Age-standardized (Percent)  \\\n0                                                    NaN                                \n1                                               5.971172                                \n2                                               5.980482                                \n3                                               5.988175                                \n4                                               5.993858                                \n...                                                  ...                                \n56390                                                NaN                                \n56391                                                NaN                                \n56392                                                NaN                                \n56393                                                NaN                                \n56394                                                NaN                                \n\n       Population (historical estimates) Continent  \n0                                    NaN      Asia  \n1                             12412311.0       NaN  \n2                             13299016.0       NaN  \n3                             14485543.0       NaN  \n4                             15816601.0       NaN  \n...                                  ...       ...  \n56390                          9849129.0       NaN  \n56391                         10153852.0       NaN  \n56392                         14862927.0       NaN  \n56393                         15092171.0       NaN  \n56394                                NaN    Europe  \n\n[56395 rows x 7 columns]",
      "text/html": "<div>\n<style scoped>\n    .dataframe tbody tr th:only-of-type {\n        vertical-align: middle;\n    }\n\n    .dataframe tbody tr th {\n        vertical-align: top;\n    }\n\n    .dataframe thead th {\n        text-align: right;\n    }\n</style>\n<table border=\"1\" class=\"dataframe\">\n  <thead>\n    <tr style=\"text-align: right;\">\n      <th></th>\n      <th>Entity</th>\n      <th>Code</th>\n      <th>Year</th>\n      <th>Prevalence - Anxiety disorders - Sex: Male - Age: Age-standardized (Percent)</th>\n      <th>Prevalence - Anxiety disorders - Sex: Female - Age: Age-standardized (Percent)</th>\n      <th>Population (historical estimates)</th>\n      <th>Continent</th>\n    </tr>\n  </thead>\n  <tbody>\n    <tr>\n      <th>0</th>\n      <td>Abkhazia</td>\n      <td>OWID_ABK</td>\n      <td>2015</td>\n      <td>NaN</td>\n      <td>NaN</td>\n      <td>NaN</td>\n      <td>Asia</td>\n    </tr>\n    <tr>\n      <th>1</th>\n      <td>Afghanistan</td>\n      <td>AFG</td>\n      <td>1990</td>\n      <td>3.556843</td>\n      <td>5.971172</td>\n      <td>12412311.0</td>\n      <td>NaN</td>\n    </tr>\n    <tr>\n      <th>2</th>\n      <td>Afghanistan</td>\n      <td>AFG</td>\n      <td>1991</td>\n      <td>3.548885</td>\n      <td>5.980482</td>\n      <td>13299016.0</td>\n      <td>NaN</td>\n    </tr>\n    <tr>\n      <th>3</th>\n      <td>Afghanistan</td>\n      <td>AFG</td>\n      <td>1992</td>\n      <td>3.542779</td>\n      <td>5.988175</td>\n      <td>14485543.0</td>\n      <td>NaN</td>\n    </tr>\n    <tr>\n      <th>4</th>\n      <td>Afghanistan</td>\n      <td>AFG</td>\n      <td>1993</td>\n      <td>3.538304</td>\n      <td>5.993858</td>\n      <td>15816601.0</td>\n      <td>NaN</td>\n    </tr>\n    <tr>\n      <th>...</th>\n      <td>...</td>\n      <td>...</td>\n      <td>...</td>\n      <td>...</td>\n      <td>...</td>\n      <td>...</td>\n      <td>...</td>\n    </tr>\n    <tr>\n      <th>56390</th>\n      <td>Zimbabwe</td>\n      <td>ZWE</td>\n      <td>1988</td>\n      <td>NaN</td>\n      <td>NaN</td>\n      <td>9849129.0</td>\n      <td>NaN</td>\n    </tr>\n    <tr>\n      <th>56391</th>\n      <td>Zimbabwe</td>\n      <td>ZWE</td>\n      <td>1989</td>\n      <td>NaN</td>\n      <td>NaN</td>\n      <td>10153852.0</td>\n      <td>NaN</td>\n    </tr>\n    <tr>\n      <th>56392</th>\n      <td>Zimbabwe</td>\n      <td>ZWE</td>\n      <td>2020</td>\n      <td>NaN</td>\n      <td>NaN</td>\n      <td>14862927.0</td>\n      <td>NaN</td>\n    </tr>\n    <tr>\n      <th>56393</th>\n      <td>Zimbabwe</td>\n      <td>ZWE</td>\n      <td>2021</td>\n      <td>NaN</td>\n      <td>NaN</td>\n      <td>15092171.0</td>\n      <td>NaN</td>\n    </tr>\n    <tr>\n      <th>56394</th>\n      <td>Åland Islands</td>\n      <td>ALA</td>\n      <td>2015</td>\n      <td>NaN</td>\n      <td>NaN</td>\n      <td>NaN</td>\n      <td>Europe</td>\n    </tr>\n  </tbody>\n</table>\n<p>56395 rows × 7 columns</p>\n</div>"
     },
     "execution_count": 5,
     "metadata": {},
     "output_type": "execute_result"
    }
   ],
   "source": [
    "df = pd.read_csv(\"sample/anxiety-disorders-males-vs-females.csv\")\n",
    "df"
   ]
  },
  {
   "cell_type": "markdown",
   "id": "ebdcc2fd",
   "metadata": {},
   "source": [
    "<h2>Cleaning data bunuh diri</h2>"
   ]
  },
  {
   "cell_type": "code",
   "execution_count": 6,
   "id": "44de2727",
   "metadata": {
    "ExecuteTime": {
     "end_time": "2024-06-07T18:02:27.469596200Z",
     "start_time": "2024-06-07T18:02:27.437397300Z"
    }
   },
   "outputs": [
    {
     "name": "stderr",
     "output_type": "stream",
     "text": [
      "C:\\Users\\katana\\AppData\\Local\\Temp\\ipykernel_27840\\4176330424.py:2: FutureWarning: The default value of numeric_only in DataFrameGroupBy.mean is deprecated. In a future version, numeric_only will default to False. Either specify numeric_only or select only columns which should be valid for the function.\n",
      "  df_grouped_bundir = df_grouped_bundir.groupby('Year').mean().reset_index()\n"
     ]
    },
    {
     "data": {
      "text/plain": "    Year  \\\n0   2000   \n1   2001   \n2   2002   \n3   2003   \n4   2004   \n5   2005   \n6   2006   \n7   2007   \n8   2008   \n9   2009   \n10  2010   \n11  2011   \n12  2012   \n13  2013   \n14  2014   \n15  2015   \n16  2016   \n17  2017   \n18  2018   \n19  2019   \n\n    Death rate per 100,000 people - Cause: Self-harm - Sex: Both sexes - Age group: YEARS15-19  \\\n0                                            7.988028                                            \n1                                            7.682564                                            \n2                                            7.509885                                            \n3                                            7.351542                                            \n4                                            7.246225                                            \n5                                            7.117822                                            \n6                                            6.988251                                            \n7                                            6.851540                                            \n8                                            6.972660                                            \n9                                            6.875445                                            \n10                                           6.757594                                            \n11                                           6.900740                                            \n12                                           6.860660                                            \n13                                           6.836737                                            \n14                                           6.662995                                            \n15                                           6.548781                                            \n16                                           6.210847                                            \n17                                           6.261500                                            \n18                                           6.129325                                            \n19                                           5.957439                                            \n\n    Death rate per 100,000 people - Cause: Self-harm - Sex: Both sexes - Age group: YEARS20-24  \\\n0                                           13.170606                                            \n1                                           12.826399                                            \n2                                           12.572857                                            \n3                                           12.392850                                            \n4                                           12.214857                                            \n5                                           12.229616                                            \n6                                           11.861770                                            \n7                                           11.609120                                            \n8                                           11.270457                                            \n9                                           11.334314                                            \n10                                          11.067855                                            \n11                                          10.841423                                            \n12                                          10.877348                                            \n13                                          10.388312                                            \n14                                          10.339337                                            \n15                                          10.177971                                            \n16                                           9.891655                                            \n17                                           9.911897                                            \n18                                           9.481089                                            \n19                                           9.402162                                            \n\n    Death rate per 100,000 people - Cause: Self-harm - Sex: Both sexes - Age group: YEARS25-34  \n0                                           14.197090                                           \n1                                           13.843077                                           \n2                                           13.718074                                           \n3                                           13.247862                                           \n4                                           13.253322                                           \n5                                           13.380470                                           \n6                                           13.079855                                           \n7                                           13.236811                                           \n8                                           13.284965                                           \n9                                           13.312598                                           \n10                                          13.014479                                           \n11                                          12.649499                                           \n12                                          12.492739                                           \n13                                          12.231690                                           \n14                                          12.113883                                           \n15                                          11.668658                                           \n16                                          11.305929                                           \n17                                          11.191640                                           \n18                                          10.887449                                           \n19                                          10.731034                                           ",
      "text/html": "<div>\n<style scoped>\n    .dataframe tbody tr th:only-of-type {\n        vertical-align: middle;\n    }\n\n    .dataframe tbody tr th {\n        vertical-align: top;\n    }\n\n    .dataframe thead th {\n        text-align: right;\n    }\n</style>\n<table border=\"1\" class=\"dataframe\">\n  <thead>\n    <tr style=\"text-align: right;\">\n      <th></th>\n      <th>Year</th>\n      <th>Death rate per 100,000 people - Cause: Self-harm - Sex: Both sexes - Age group: YEARS15-19</th>\n      <th>Death rate per 100,000 people - Cause: Self-harm - Sex: Both sexes - Age group: YEARS20-24</th>\n      <th>Death rate per 100,000 people - Cause: Self-harm - Sex: Both sexes - Age group: YEARS25-34</th>\n    </tr>\n  </thead>\n  <tbody>\n    <tr>\n      <th>0</th>\n      <td>2000</td>\n      <td>7.988028</td>\n      <td>13.170606</td>\n      <td>14.197090</td>\n    </tr>\n    <tr>\n      <th>1</th>\n      <td>2001</td>\n      <td>7.682564</td>\n      <td>12.826399</td>\n      <td>13.843077</td>\n    </tr>\n    <tr>\n      <th>2</th>\n      <td>2002</td>\n      <td>7.509885</td>\n      <td>12.572857</td>\n      <td>13.718074</td>\n    </tr>\n    <tr>\n      <th>3</th>\n      <td>2003</td>\n      <td>7.351542</td>\n      <td>12.392850</td>\n      <td>13.247862</td>\n    </tr>\n    <tr>\n      <th>4</th>\n      <td>2004</td>\n      <td>7.246225</td>\n      <td>12.214857</td>\n      <td>13.253322</td>\n    </tr>\n    <tr>\n      <th>5</th>\n      <td>2005</td>\n      <td>7.117822</td>\n      <td>12.229616</td>\n      <td>13.380470</td>\n    </tr>\n    <tr>\n      <th>6</th>\n      <td>2006</td>\n      <td>6.988251</td>\n      <td>11.861770</td>\n      <td>13.079855</td>\n    </tr>\n    <tr>\n      <th>7</th>\n      <td>2007</td>\n      <td>6.851540</td>\n      <td>11.609120</td>\n      <td>13.236811</td>\n    </tr>\n    <tr>\n      <th>8</th>\n      <td>2008</td>\n      <td>6.972660</td>\n      <td>11.270457</td>\n      <td>13.284965</td>\n    </tr>\n    <tr>\n      <th>9</th>\n      <td>2009</td>\n      <td>6.875445</td>\n      <td>11.334314</td>\n      <td>13.312598</td>\n    </tr>\n    <tr>\n      <th>10</th>\n      <td>2010</td>\n      <td>6.757594</td>\n      <td>11.067855</td>\n      <td>13.014479</td>\n    </tr>\n    <tr>\n      <th>11</th>\n      <td>2011</td>\n      <td>6.900740</td>\n      <td>10.841423</td>\n      <td>12.649499</td>\n    </tr>\n    <tr>\n      <th>12</th>\n      <td>2012</td>\n      <td>6.860660</td>\n      <td>10.877348</td>\n      <td>12.492739</td>\n    </tr>\n    <tr>\n      <th>13</th>\n      <td>2013</td>\n      <td>6.836737</td>\n      <td>10.388312</td>\n      <td>12.231690</td>\n    </tr>\n    <tr>\n      <th>14</th>\n      <td>2014</td>\n      <td>6.662995</td>\n      <td>10.339337</td>\n      <td>12.113883</td>\n    </tr>\n    <tr>\n      <th>15</th>\n      <td>2015</td>\n      <td>6.548781</td>\n      <td>10.177971</td>\n      <td>11.668658</td>\n    </tr>\n    <tr>\n      <th>16</th>\n      <td>2016</td>\n      <td>6.210847</td>\n      <td>9.891655</td>\n      <td>11.305929</td>\n    </tr>\n    <tr>\n      <th>17</th>\n      <td>2017</td>\n      <td>6.261500</td>\n      <td>9.911897</td>\n      <td>11.191640</td>\n    </tr>\n    <tr>\n      <th>18</th>\n      <td>2018</td>\n      <td>6.129325</td>\n      <td>9.481089</td>\n      <td>10.887449</td>\n    </tr>\n    <tr>\n      <th>19</th>\n      <td>2019</td>\n      <td>5.957439</td>\n      <td>9.402162</td>\n      <td>10.731034</td>\n    </tr>\n  </tbody>\n</table>\n</div>"
     },
     "execution_count": 6,
     "metadata": {},
     "output_type": "execute_result"
    }
   ],
   "source": [
    "df_grouped_bundir = pd.read_csv(\"sample/suicide-rates-among-young-people.csv\")\n",
    "df_grouped_bundir = df_grouped_bundir.groupby('Year').mean().reset_index()\n",
    "df_grouped_bundir"
   ]
  },
  {
   "cell_type": "code",
   "execution_count": 7,
   "id": "d1410ebc",
   "metadata": {
    "ExecuteTime": {
     "end_time": "2024-06-07T18:02:27.544005900Z",
     "start_time": "2024-06-07T18:02:27.453081800Z"
    }
   },
   "outputs": [
    {
     "data": {
      "text/plain": "0     0.011785\n1     0.011451\n2     0.011267\n3     0.010997\n4     0.010905\n5     0.010909\n6     0.010643\n7     0.010566\n8     0.010509\n9     0.010507\n10    0.010280\n11    0.010131\n12    0.010077\n13    0.009819\n14    0.009705\n15    0.009465\n16    0.009136\n17    0.009122\n18    0.008833\n19    0.008697\nName: Percentage_Bundir, dtype: float64"
     },
     "execution_count": 7,
     "metadata": {},
     "output_type": "execute_result"
    }
   ],
   "source": [
    "df_grouped_bundir['Change_15_19'] = df_grouped_bundir[\n",
    "  'Death rate per 100,000 people - Cause: Self-harm - Sex: Both sexes - Age group: YEARS15-19']\n",
    "df_grouped_bundir['Change_20_24'] = df_grouped_bundir[\n",
    "  'Death rate per 100,000 people - Cause: Self-harm - Sex: Both sexes - Age group: YEARS20-24']\n",
    "df_grouped_bundir['Change_25_34'] = df_grouped_bundir[\n",
    "  'Death rate per 100,000 people - Cause: Self-harm - Sex: Both sexes - Age group: YEARS25-34']\n",
    "\n",
    "# Menghitung rata2 bunuh diri dari 300000 ribu orang pertahun.\n",
    "df_grouped_bundir['Percentage_Bundir'] = ((df_grouped_bundir[\n",
    "                                             'Death rate per 100,000 people - Cause: Self-harm - Sex: Both sexes - Age group: YEARS15-19'] +\n",
    "                                           df_grouped_bundir[\n",
    "                                             'Death rate per 100,000 people - Cause: Self-harm - Sex: Both sexes - Age group: YEARS20-24'] +\n",
    "                                           df_grouped_bundir[\n",
    "                                             'Death rate per 100,000 people - Cause: Self-harm - Sex: Both sexes - Age group: YEARS25-34']) / 300000) * 100\n",
    "\n",
    "# print(f\"Minimal: {df_grouped_bundir[['Percentage_Bundir']].min()}\")\n",
    "# print(f\"Maximal: {df_grouped_bundir[['Percentage_Bundir']].max()}\")\n",
    "df_grouped_bundir['Percentage_Bundir']"
   ]
  },
  {
   "cell_type": "markdown",
   "id": "b9a9bb60",
   "metadata": {},
   "source": [
    "# Step cleaning data\n",
    "\n",
    "1. Proses cleaning data dengan memperiksa apakah file ada yang missing atau tidak.\n",
    "2. Mengisi data yang kosong atau NaN dengan method ffill ( Mengisi nilai kosong berdasarkan nilai didepannya).\n",
    "3. Melakukan perubahan nama dalam tabel.\n",
    "4. Melakukan filter data dari berdasar kan tahun.\n",
    "5. Melakukan group berdasarkan tahun. dan dicari mean pertahun.\n",
    "6. Step terakhir dijumlahkan mean female dan male."
   ]
  },
  {
   "cell_type": "markdown",
   "id": "0a6be018",
   "metadata": {},
   "source": [
    "<h3>Anxiety</h3>"
   ]
  },
  {
   "cell_type": "code",
   "execution_count": 8,
   "id": "a935d462",
   "metadata": {
    "ExecuteTime": {
     "end_time": "2024-06-07T18:02:27.614285Z",
     "start_time": "2024-06-07T18:02:27.468596300Z"
    }
   },
   "outputs": [
    {
     "data": {
      "text/plain": "158275"
     },
     "execution_count": 8,
     "metadata": {},
     "output_type": "execute_result"
    }
   ],
   "source": [
    "df_anxiety = pd.read_csv(\"sample/anxiety-disorders-males-vs-females.csv\")\n",
    "df_anxiety.isnull().sum().sum()"
   ]
  },
  {
   "cell_type": "code",
   "execution_count": 9,
   "id": "a202b848",
   "metadata": {
    "ExecuteTime": {
     "end_time": "2024-06-07T18:02:27.661148800Z",
     "start_time": "2024-06-07T18:02:27.516825600Z"
    }
   },
   "outputs": [
    {
     "data": {
      "text/plain": "3"
     },
     "execution_count": 9,
     "metadata": {},
     "output_type": "execute_result"
    }
   ],
   "source": [
    "df_anxiety = df_anxiety.fillna(method='ffill')\n",
    "df_anxiety.isnull().sum().sum()"
   ]
  },
  {
   "cell_type": "code",
   "execution_count": 10,
   "id": "0eab42b2",
   "metadata": {
    "ExecuteTime": {
     "end_time": "2024-06-07T18:02:27.662030100Z",
     "start_time": "2024-06-07T18:02:27.566664200Z"
    }
   },
   "outputs": [
    {
     "data": {
      "text/plain": "Year\n1990    8.597020\n1991    8.577117\n1992    8.580791\n1993    8.584431\n1994    8.587703\n1995    8.590236\n1996    8.597522\n1997    8.612425\n1998    8.630520\n1999    8.647335\n2000    8.681072\n2001    8.686826\n2002    8.691382\n2003    8.695295\n2004    8.699017\n2005    8.702923\n2006    8.713647\n2007    8.733901\n2008    8.757902\n2009    8.779832\n2010    8.793758\n2011    8.802289\n2012    8.811699\n2013    8.821406\n2014    8.830757\n2015    8.813362\n2016    8.843971\n2017    8.847163\ndtype: float64"
     },
     "execution_count": 10,
     "metadata": {},
     "output_type": "execute_result"
    }
   ],
   "source": [
    "df_anxiety = df_anxiety.rename(\n",
    "  columns={'Prevalence - Anxiety disorders - Sex: Female - Age: Age-standardized (Percent)': 'Anxiety_Female',\n",
    "           'Prevalence - Anxiety disorders - Sex: Male - Age: Age-standardized (Percent)': 'Anxiety_Male'})\n",
    "\n",
    "df_anxiety_filtered = df_anxiety[(df_anxiety['Year'] >= 1990) & (df_anxiety['Year'] <= 2017)]\n",
    "\n",
    "df_anxiety_mean = df_anxiety_filtered.groupby('Year').agg({\n",
    "  'Anxiety_Male': 'mean',\n",
    "  'Anxiety_Female': 'mean'\n",
    "})\n",
    "\n",
    "total_df_anxiety_mean = df_anxiety_mean['Anxiety_Female'] + df_anxiety_mean['Anxiety_Male']\n",
    "\n",
    "total_df_anxiety_mean"
   ]
  },
  {
   "cell_type": "markdown",
   "id": "6b614011",
   "metadata": {},
   "source": [
    "<h3>Bipolar</h3>"
   ]
  },
  {
   "cell_type": "code",
   "execution_count": 11,
   "id": "da86a809",
   "metadata": {
    "ExecuteTime": {
     "end_time": "2024-06-07T18:02:27.723747900Z",
     "start_time": "2024-06-07T18:02:27.595593Z"
    }
   },
   "outputs": [
    {
     "data": {
      "text/plain": "Entity                                                                               0\nCode                                                                              2316\nYear                                                                                 0\nPrevalence - Bipolar disorder - Sex: Male - Age: Age-standardized (Percent)      49555\nPrevalence - Bipolar disorder - Sex: Female - Age: Age-standardized (Percent)    49555\nPopulation (historical estimates)                                                  739\nContinent                                                                        56110\ndtype: int64"
     },
     "execution_count": 11,
     "metadata": {},
     "output_type": "execute_result"
    }
   ],
   "source": [
    "df_bipolar = pd.read_csv(\"sample/bipolar-disorder-in-males-vs-females.csv\")\n",
    "df_bipolar.isnull().sum()"
   ]
  },
  {
   "cell_type": "code",
   "execution_count": 12,
   "id": "ccfe2cf6",
   "metadata": {
    "ExecuteTime": {
     "end_time": "2024-06-07T18:02:27.734833600Z",
     "start_time": "2024-06-07T18:02:27.688052800Z"
    }
   },
   "outputs": [
    {
     "data": {
      "text/plain": "Entity                                                                           0\nCode                                                                             0\nYear                                                                             0\nPrevalence - Bipolar disorder - Sex: Male - Age: Age-standardized (Percent)      1\nPrevalence - Bipolar disorder - Sex: Female - Age: Age-standardized (Percent)    1\nPopulation (historical estimates)                                                1\nContinent                                                                        0\ndtype: int64"
     },
     "execution_count": 12,
     "metadata": {},
     "output_type": "execute_result"
    }
   ],
   "source": [
    "df_bipolar = df_bipolar.fillna(method='ffill')\n",
    "df_bipolar.isnull().sum()"
   ]
  },
  {
   "cell_type": "code",
   "execution_count": 13,
   "id": "7ecdf7a2",
   "metadata": {
    "ExecuteTime": {
     "end_time": "2024-06-07T18:02:27.763048900Z",
     "start_time": "2024-06-07T18:02:27.736264200Z"
    }
   },
   "outputs": [
    {
     "data": {
      "text/plain": "Year\n1990    1.352318\n1991    1.349416\n1992    1.349923\n1993    1.350428\n1994    1.350914\n1995    1.351366\n1996    1.351799\n1997    1.352259\n1998    1.352736\n1999    1.353219\n2000    1.357046\n2001    1.357960\n2002    1.359527\n2003    1.361330\n2004    1.362937\n2005    1.363902\n2006    1.364416\n2007    1.364993\n2008    1.365593\n2009    1.366167\n2010    1.366647\n2011    1.367089\n2012    1.367591\n2013    1.368116\n2014    1.368614\n2015    1.353710\n2016    1.369390\n2017    1.369737\ndtype: float64"
     },
     "execution_count": 13,
     "metadata": {},
     "output_type": "execute_result"
    }
   ],
   "source": [
    "df_bipolar = df_bipolar.rename(\n",
    "  columns={'Prevalence - Bipolar disorder - Sex: Male - Age: Age-standardized (Percent)': 'Bipolar_Male',\n",
    "           'Prevalence - Bipolar disorder - Sex: Female - Age: Age-standardized (Percent)': 'Bipolar_Female'})\n",
    "\n",
    "df_bipolar_filtered = df_bipolar[(df_bipolar['Year'] >= 1990) & (df_bipolar['Year'] <= 2017)]\n",
    "\n",
    "df_bipolar_mean = df_bipolar_filtered.groupby('Year').agg({\n",
    "  'Bipolar_Male': 'mean',\n",
    "  'Bipolar_Female': 'mean'\n",
    "})\n",
    "\n",
    "total_df_bipolar_mean = df_bipolar_mean['Bipolar_Male'] + df_bipolar_mean['Bipolar_Female']\n",
    "\n",
    "total_df_bipolar_mean"
   ]
  },
  {
   "cell_type": "markdown",
   "id": "e6b41398",
   "metadata": {},
   "source": [
    "<h3>Depression</h3>"
   ]
  },
  {
   "cell_type": "code",
   "execution_count": 14,
   "id": "f7994905",
   "metadata": {
    "ExecuteTime": {
     "end_time": "2024-06-07T18:02:27.828356400Z",
     "start_time": "2024-06-07T18:02:27.751287100Z"
    }
   },
   "outputs": [
    {
     "data": {
      "text/plain": "Entity                                                                                   0\nCode                                                                                  2316\nYear                                                                                     0\nPrevalence - Depressive disorders - Sex: Male - Age: Age-standardized (Percent)      49555\nPrevalence - Depressive disorders - Sex: Female - Age: Age-standardized (Percent)    49555\nPopulation (historical estimates)                                                      739\nContinent                                                                            56110\ndtype: int64"
     },
     "execution_count": 14,
     "metadata": {},
     "output_type": "execute_result"
    }
   ],
   "source": [
    "df_depression = pd.read_csv(\"sample/depression-males-vs-females.csv\")\n",
    "df_depression.isnull().sum()"
   ]
  },
  {
   "cell_type": "code",
   "execution_count": 15,
   "id": "50d4cb13",
   "metadata": {
    "ExecuteTime": {
     "end_time": "2024-06-07T18:02:27.873473300Z",
     "start_time": "2024-06-07T18:02:27.827357100Z"
    }
   },
   "outputs": [
    {
     "data": {
      "text/plain": "Entity                                                                               0\nCode                                                                                 0\nYear                                                                                 0\nPrevalence - Depressive disorders - Sex: Male - Age: Age-standardized (Percent)      1\nPrevalence - Depressive disorders - Sex: Female - Age: Age-standardized (Percent)    1\nPopulation (historical estimates)                                                    1\nContinent                                                                            0\ndtype: int64"
     },
     "execution_count": 15,
     "metadata": {},
     "output_type": "execute_result"
    }
   ],
   "source": [
    "df_depression = df_depression.fillna(method='ffill')\n",
    "df_depression.isnull().sum()"
   ]
  },
  {
   "cell_type": "code",
   "execution_count": 16,
   "id": "dd1baffb",
   "metadata": {
    "ExecuteTime": {
     "end_time": "2024-06-07T18:02:27.890988900Z",
     "start_time": "2024-06-07T18:02:27.875474500Z"
    }
   },
   "outputs": [
    {
     "data": {
      "text/plain": "Year\n1990    7.915004\n1991    7.908606\n1992    7.908812\n1993    7.909289\n1994    7.910118\n1995    7.911336\n1996    7.915877\n1997    7.924723\n1998    7.934348\n1999    7.941495\n2000    7.948691\n2001    7.944271\n2002    7.936789\n2003    7.927226\n2004    7.916698\n2005    7.906221\n2006    7.889664\n2007    7.863942\n2008    7.835988\n2009    7.812121\n2010    7.798328\n2011    7.793087\n2012    7.789183\n2013    7.786809\n2014    7.785408\n2015    7.738691\n2016    7.784694\n2017    7.785131\ndtype: float64"
     },
     "execution_count": 16,
     "metadata": {},
     "output_type": "execute_result"
    }
   ],
   "source": [
    "df_depression = df_depression.rename(\n",
    "  columns={'Prevalence - Depressive disorders - Sex: Female - Age: Age-standardized (Percent)': 'Depression_Female',\n",
    "           'Prevalence - Depressive disorders - Sex: Male - Age: Age-standardized (Percent)': 'Depression_Male'})\n",
    "\n",
    "df_depression_filtered = df_depression[(df_depression['Year'] >= 1990) & (df_depression['Year'] <= 2017)]\n",
    "\n",
    "df_depression_mean = df_depression_filtered.groupby('Year').agg({\n",
    "  'Depression_Male': 'mean',\n",
    "  'Depression_Female': 'mean'\n",
    "})\n",
    "\n",
    "total_df_depression_mean = df_depression_mean['Depression_Male'] + df_depression_mean['Depression_Female']\n",
    "\n",
    "total_df_depression_mean"
   ]
  },
  {
   "cell_type": "markdown",
   "id": "3825a913",
   "metadata": {},
   "source": [
    "<h3>Schizo</h3>"
   ]
  },
  {
   "cell_type": "code",
   "execution_count": 17,
   "id": "7c6fd9b3",
   "metadata": {
    "ExecuteTime": {
     "end_time": "2024-06-07T18:02:27.966186700Z",
     "start_time": "2024-06-07T18:02:27.888988800Z"
    }
   },
   "outputs": [
    {
     "data": {
      "text/plain": "Entity                                                                            0\nCode                                                                           2316\nYear                                                                              0\nPrevalence - Schizophrenia - Sex: Male - Age: Age-standardized (Percent)      49555\nPrevalence - Schizophrenia - Sex: Female - Age: Age-standardized (Percent)    49555\nPopulation (historical estimates)                                               739\nContinent                                                                     56110\ndtype: int64"
     },
     "execution_count": 17,
     "metadata": {},
     "output_type": "execute_result"
    }
   ],
   "source": [
    "df_schizo = pd.read_csv('sample/schizophrenia-in-males-vs-females.csv')\n",
    "df_schizo.isnull().sum()"
   ]
  },
  {
   "cell_type": "code",
   "execution_count": 18,
   "id": "22896320",
   "metadata": {
    "ExecuteTime": {
     "end_time": "2024-06-07T18:02:28.029906400Z",
     "start_time": "2024-06-07T18:02:27.967187300Z"
    }
   },
   "outputs": [
    {
     "data": {
      "text/plain": "Entity                                                                        0\nCode                                                                          0\nYear                                                                          0\nPrevalence - Schizophrenia - Sex: Male - Age: Age-standardized (Percent)      1\nPrevalence - Schizophrenia - Sex: Female - Age: Age-standardized (Percent)    1\nPopulation (historical estimates)                                             1\nContinent                                                                     0\ndtype: int64"
     },
     "execution_count": 18,
     "metadata": {},
     "output_type": "execute_result"
    }
   ],
   "source": [
    "\n",
    "df_schizo = df_schizo.fillna(method='ffill')\n",
    "df_schizo.isnull().sum()"
   ]
  },
  {
   "cell_type": "code",
   "execution_count": 19,
   "id": "eb382c7e",
   "metadata": {
    "ExecuteTime": {
     "end_time": "2024-06-07T18:02:28.067508Z",
     "start_time": "2024-06-07T18:02:28.033426Z"
    }
   },
   "outputs": [
    {
     "data": {
      "text/plain": "Year\n1990    0.559838\n1991    0.559168\n1992    0.559488\n1993    0.559778\n1994    0.560027\n1995    0.560216\n1996    0.560337\n1997    0.560431\n1998    0.560538\n1999    0.560697\n2000    0.561934\n2001    0.562433\n2002    0.563225\n2003    0.564135\n2004    0.564976\n2005    0.565553\n2006    0.565996\n2007    0.566533\n2008    0.567094\n2009    0.567608\n2010    0.567997\n2011    0.568386\n2012    0.568903\n2013    0.569459\n2014    0.569963\n2015    0.569491\n2016    0.570701\n2017    0.571070\ndtype: float64"
     },
     "execution_count": 19,
     "metadata": {},
     "output_type": "execute_result"
    }
   ],
   "source": [
    "df_schizo = df_schizo.rename(\n",
    "  columns={'Prevalence - Schizophrenia - Sex: Female - Age: Age-standardized (Percent)': 'Schizo_Female',\n",
    "           'Prevalence - Schizophrenia - Sex: Male - Age: Age-standardized (Percent)': 'Schizo_Male'})\n",
    "\n",
    "df_schizo_filtered = df_schizo[(df_schizo['Year'] >= 1990) & (df_schizo['Year'] <= 2017)]\n",
    "\n",
    "df_schizo_mean = df_schizo_filtered.groupby('Year').agg({\n",
    "  'Schizo_Male': 'mean',\n",
    "  'Schizo_Female': 'mean'\n",
    "})\n",
    "\n",
    "total_df_schizo_mean = df_schizo_mean['Schizo_Male'] + df_schizo_mean['Schizo_Female']\n",
    "\n",
    "total_df_schizo_mean"
   ]
  },
  {
   "cell_type": "markdown",
   "source": [
    "## Eating"
   ],
   "metadata": {
    "collapsed": false
   },
   "id": "97075f89a43825fd"
  },
  {
   "cell_type": "code",
   "execution_count": 20,
   "outputs": [
    {
     "data": {
      "text/plain": "Entity                                                                               0\nCode                                                                              2316\nYear                                                                                 0\nPrevalence - Eating disorders - Sex: Male - Age: Age-standardized (Percent)      49555\nPrevalence - Eating disorders - Sex: Female - Age: Age-standardized (Percent)    49555\nPopulation (historical estimates)                                                  739\nContinent                                                                        56110\ndtype: int64"
     },
     "execution_count": 20,
     "metadata": {},
     "output_type": "execute_result"
    }
   ],
   "source": [
    "df_eating = pd.read_csv(\"sample/eating-disorders-in-males-vs-females.csv\")\n",
    "df_eating.isnull().sum()"
   ],
   "metadata": {
    "collapsed": false,
    "ExecuteTime": {
     "end_time": "2024-06-07T18:02:28.148351Z",
     "start_time": "2024-06-07T18:02:28.059969400Z"
    }
   },
   "id": "dec11190ed79b504"
  },
  {
   "cell_type": "code",
   "execution_count": 21,
   "outputs": [
    {
     "data": {
      "text/plain": "Entity                                                                           0\nCode                                                                             0\nYear                                                                             0\nPrevalence - Eating disorders - Sex: Male - Age: Age-standardized (Percent)      1\nPrevalence - Eating disorders - Sex: Female - Age: Age-standardized (Percent)    1\nPopulation (historical estimates)                                                1\nContinent                                                                        0\ndtype: int64"
     },
     "execution_count": 21,
     "metadata": {},
     "output_type": "execute_result"
    }
   ],
   "source": [
    "df_eating = df_eating.fillna(method='ffill')\n",
    "df_eating.isnull().sum()"
   ],
   "metadata": {
    "collapsed": false,
    "ExecuteTime": {
     "end_time": "2024-06-07T18:02:28.184400900Z",
     "start_time": "2024-06-07T18:02:28.142365500Z"
    }
   },
   "id": "4d5eee32d54a90a2"
  },
  {
   "cell_type": "code",
   "execution_count": 22,
   "outputs": [
    {
     "data": {
      "text/plain": "Year\n1990    0.405316\n1991    0.403811\n1992    0.404357\n1993    0.405005\n1994    0.405724\n1995    0.406447\n1996    0.407409\n1997    0.408697\n1998    0.410193\n1999    0.411900\n2000    0.415521\n2001    0.417927\n2002    0.421073\n2003    0.424638\n2004    0.428115\n2005    0.431091\n2006    0.433939\n2007    0.437272\n2008    0.440761\n2009    0.443965\n2010    0.446655\n2011    0.448924\n2012    0.451192\n2013    0.453310\n2014    0.455500\n2015    0.447271\n2016    0.461217\n2017    0.464348\ndtype: float64"
     },
     "execution_count": 22,
     "metadata": {},
     "output_type": "execute_result"
    }
   ],
   "source": [
    "df_eating = df_eating.rename(\n",
    "  columns={'Prevalence - Eating disorders - Sex: Male - Age: Age-standardized (Percent)': 'Eating_Male',\n",
    "           'Prevalence - Eating disorders - Sex: Female - Age: Age-standardized (Percent)': 'Eating_Female'})\n",
    "\n",
    "df_eating_filtered = df_eating[(df_eating['Year'] >= 1990) & (df_eating['Year'] <= 2017)]\n",
    "\n",
    "df_eating_mean = df_eating_filtered.groupby('Year').agg({\n",
    "  'Eating_Male': 'mean',\n",
    "  'Eating_Female': 'mean'\n",
    "})\n",
    "\n",
    "total_df_eating_mean = df_eating_mean['Eating_Male'] + df_eating_mean['Eating_Female']\n",
    "\n",
    "total_df_eating_mean"
   ],
   "metadata": {
    "collapsed": false,
    "ExecuteTime": {
     "end_time": "2024-06-07T18:02:28.202236900Z",
     "start_time": "2024-06-07T18:02:28.185400300Z"
    }
   },
   "id": "5f89525ed27688bc"
  },
  {
   "cell_type": "code",
   "execution_count": 23,
   "id": "892cd61f",
   "metadata": {
    "ExecuteTime": {
     "end_time": "2024-06-07T18:02:28.215751700Z",
     "start_time": "2024-06-07T18:02:28.199911400Z"
    }
   },
   "outputs": [],
   "source": [
    "# dictionary yang memetakan setiap penyakit mental ke rentang prevalensinya (dalam persentase) untuk laki-laki dan perempuan.\n",
    "# Nilai-nilai ini diambil dari data diatas diambil terkecil dan terbesar..\n",
    "prevalence_range = {\n",
    "  'schizophrenia': {'male': (total_df_schizo_mean.min(), total_df_schizo_mean.max()),\n",
    "                    'female': (total_df_schizo_mean.min(), total_df_schizo_mean.max())},\n",
    "  'anxiety': {'male': (total_df_anxiety_mean.min(), total_df_anxiety_mean.max()),\n",
    "              'female': (total_df_anxiety_mean.min(), total_df_anxiety_mean.max())},\n",
    "  'bipolar': {'male': (total_df_bipolar_mean.min(), total_df_bipolar_mean.max()),\n",
    "              'female': (total_df_bipolar_mean.min(), total_df_bipolar_mean.max())},\n",
    "  'eating_disorders': {'male': (total_df_eating_mean.min(), total_df_eating_mean.max()),\n",
    "                       'female': (total_df_eating_mean.min(), total_df_eating_mean.max())},\n",
    "  'depression': {'male': (total_df_depression_mean.min(), total_df_depression_mean.max()),\n",
    "                 'female': (total_df_depression_mean.min(), total_df_depression_mean.max())},\n",
    "}\n",
    "\n",
    "# asumsi penyakit mental ke probabilitas bunuh diri yang terkait\n",
    "suicide_risk = {\n",
    "  'schizophrenia': 0.1,\n",
    "  'anxiety': 0.05,\n",
    "  'bipolar': 0.08,\n",
    "  'eating_disorders': 0.02,\n",
    "  'depression': 0.07,\n",
    "}\n",
    "\n",
    "populations = [(489128, 350000)]"
   ]
  },
  {
   "cell_type": "code",
   "execution_count": 24,
   "id": "c96f5e56",
   "metadata": {
    "ExecuteTime": {
     "end_time": "2024-06-07T18:02:28.231777800Z",
     "start_time": "2024-06-07T18:02:28.215751700Z"
    }
   },
   "outputs": [],
   "source": [
    "# System\n",
    "system = System(prevalence_range=prevalence_range, suicide_risk=suicide_risk, num_points=random.randint(3, 23),\n",
    "                iterations=1000)\n",
    "# State\n",
    "state = State(results_male=[], results_female=[], populations=populations, predictions=[])"
   ]
  },
  {
   "cell_type": "markdown",
   "id": "4531ca8d",
   "metadata": {},
   "source": [
    "## Monte Carlo simulation\n",
    "Penjelasan:\n",
    "\n",
    "1. Setelah looping menginisialisasikan `min_val` dan `max_val` yang diambil dari hasil menghitung rata2 penyakit mental dari 100 ribu orang pertahunnya.\n",
    "2. `preval_values` akan memiliki sebuah array yang dimulai dari `min_val` sampai `max_val` dengan panjang `system.num_points`.\n",
    "3. `num_male_with_disease` menghitung jumlah laki laki atau permupan dengan penyakit saat ini. Dengan asumsi populasi dan `preval_value` dipilih secara acak. Nilai akan dikalikan dan dibagi 100.\n",
    "4. `num_suicide_male` mensimulasikan jumlah kasus bunuuh diri diantara laki2 atau perempuan saat ini. Binomial akan menghasilkan bilangan acak pada kasus bunuh diri berdasarkan distribusi yang diberikan"
   ]
  },
  {
   "cell_type": "code",
   "execution_count": 25,
   "id": "192e7a1a",
   "metadata": {
    "ExecuteTime": {
     "end_time": "2024-06-07T18:02:28.255309300Z",
     "start_time": "2024-06-07T18:02:28.234777700Z"
    }
   },
   "outputs": [],
   "source": [
    "def run_simulation(state, system):\n",
    "  total_suicide_male = 0\n",
    "  total_suicide_female = 0\n",
    "\n",
    "  # Simulasi untuk laki-laki\n",
    "  for disease in system.prevalence_range.keys():\n",
    "    min_val, max_val = system.prevalence_range[disease]['male']\n",
    "    preval_values = np.linspace(min_val, max_val, system.num_points)\n",
    "    num_male_with_disease = int(pop_male * np.random.choice(preval_values) / 100)\n",
    "    num_suicide_male = np.random.binomial(num_male_with_disease, system.suicide_risk[disease])\n",
    "    total_suicide_male += num_suicide_male\n",
    "\n",
    "  # Simulasi untuk perempuan\n",
    "  for disease in system.prevalence_range.keys():\n",
    "    min_val, max_val = system.prevalence_range[disease]['female']\n",
    "    preval_values = np.linspace(min_val, max_val, system.num_points)\n",
    "    num_female_with_disease = int(pop_female * np.random.choice(preval_values) / 100)\n",
    "    num_suicide_female = np.random.binomial(num_female_with_disease, system.suicide_risk[disease])\n",
    "    total_suicide_female += num_suicide_female\n",
    "\n",
    "  return total_suicide_male, total_suicide_female"
   ]
  },
  {
   "cell_type": "markdown",
   "id": "3c2f85b0",
   "metadata": {},
   "source": [
    "## Sweepseries\n",
    "\n",
    "Fungsi `run_simulation_sweepseries()` bekerja sama dengan run simulation diatas, akan tetapi disini untuk probabilitas dan populasi sudah dideklarasikan. </br>\n",
    "    \n",
    "Parameter: </br>\n",
    "p1: PRobabilitass kematian </br>\n",
    "system: Tempat menyimpan variabel contatnt. </br>\n",
    "pop_male & pop_female: populasi laki2 dan perempuan.  </br>"
   ]
  },
  {
   "cell_type": "code",
   "execution_count": 26,
   "id": "9b2e79ef",
   "metadata": {
    "ExecuteTime": {
     "end_time": "2024-06-07T18:02:28.261818700Z",
     "start_time": "2024-06-07T18:02:28.245795Z"
    }
   },
   "outputs": [],
   "source": [
    "def run_simulation_sweepseries(p1, system, pop_male, pop_female):\n",
    " \n",
    "  state = State(total_suicide_male=0, total_suicide_female=0, total_alive_male=pop_male, total_alive_female=pop_female)\n",
    "\n",
    "  for disease in system.prevalence_range.keys():\n",
    "    num_male_with_disease = int(state.total_alive_male * p1 / 100)\n",
    "    state.total_suicide_male += np.random.binomial(num_male_with_disease, system.suicide_risk[disease])\n",
    "\n",
    "    num_female_with_disease = int(state.total_alive_female * p1 / 100)\n",
    "    state.total_suicide_female += np.random.binomial(num_female_with_disease, system.suicide_risk[disease])\n",
    "\n",
    "  return state"
   ]
  },
  {
   "cell_type": "markdown",
   "id": "3ba97336",
   "metadata": {},
   "source": [
    "## Sweepseries run simulation\n",
    "\n",
    "Mensimulasikan dan memplot angka bunuh diri pria berdasarkan berbagai tingkat prevalensi penyakit schizophrenia dalam populasi. Dimulai dengan menetapkan populasi pria (200.000) dan wanita (350.000), serta membuat array p1_array yang berisi 55 nilai prevalensi schizophrenia dari yang terendah hingga tertinggi. "
   ]
  },
  {
   "cell_type": "code",
   "execution_count": 27,
   "id": "8b8ca681",
   "metadata": {
    "ExecuteTime": {
     "end_time": "2024-06-07T18:02:28.529715900Z",
     "start_time": "2024-06-07T18:02:28.262819Z"
    }
   },
   "outputs": [
    {
     "data": {
      "text/plain": "<Figure size 450x300 with 1 Axes>",
      "image/png": "[encoded data removed]"
     },
     "metadata": {},
     "output_type": "display_data"
    }
   ],
   "source": [
    "pop_male, pop_female = 200000, 350000\n",
    "p1_array = np.linspace(total_df_schizo_mean.min(), total_df_schizo_mean.max(), 55)\n",
    "\n",
    "sweep_male = SweepSeries()\n",
    "\n",
    "for p1 in p1_array:\n",
    "  final_state = run_simulation_sweepseries(p1, system, pop_male, pop_female)\n",
    "  sweep_male[p1] = final_state.total_suicide_male\n",
    "\n",
    "  # print(sweep)\n",
    "\n",
    "sweep_male.plot(label=\"Total bunuh diri Male\", color=\"C4\")\n",
    "decorate(title='Perempuan dan Laki laki bunuh diri.',\n",
    "         xlabel='Rate bunuh diri',\n",
    "         ylabel='Total Bunuh diri laki laki')"
   ]
  },
  {
   "cell_type": "markdown",
   "id": "488d07ee",
   "metadata": {},
   "source": [
    "## Timeseries\n",
    "Timeseries ini menunjukan jumlah kasus bunuh diri yang disimulasikan untuk laki-laki dan perempuan selama jumlah iterasi yang ditentukan (1000)."
   ]
  },
  {
   "cell_type": "code",
   "execution_count": 28,
   "id": "54f03f53",
   "metadata": {
    "ExecuteTime": {
     "end_time": "2024-06-07T18:02:28.564835200Z",
     "start_time": "2024-06-07T18:02:28.526714Z"
    }
   },
   "outputs": [],
   "source": [
    "def run_simulation_timeseries(state, system):\n",
    "  totals = TimeSeries()\n",
    "  for i in range(system.iterations):\n",
    "    simulations = run_simulation(state, system)\n",
    "    totals[i] = (simulations[0], simulations[1])\n",
    "  return totals"
   ]
  },
  {
   "cell_type": "code",
   "execution_count": 29,
   "id": "249a35b3",
   "metadata": {
    "ExecuteTime": {
     "end_time": "2024-06-07T18:02:29.024508500Z",
     "start_time": "2024-06-07T18:02:28.543814500Z"
    }
   },
   "outputs": [
    {
     "data": {
      "text/plain": "          Quantity\nTime              \n0     (2208, 4111)\n1     (2353, 4139)\n2     (2406, 4170)\n3     (2277, 4113)\n4     (2276, 4034)\n...            ...\n995   (2278, 4146)\n996   (2307, 4067)\n997   (2254, 3947)\n998   (2346, 4073)\n999   (2293, 3949)\n\n[1000 rows x 1 columns]",
      "text/html": "<div>\n<style scoped>\n    .dataframe tbody tr th:only-of-type {\n        vertical-align: middle;\n    }\n\n    .dataframe tbody tr th {\n        vertical-align: top;\n    }\n\n    .dataframe thead th {\n        text-align: right;\n    }\n</style>\n<table border=\"1\" class=\"dataframe\">\n  <thead>\n    <tr style=\"text-align: right;\">\n      <th></th>\n      <th>Quantity</th>\n    </tr>\n    <tr>\n      <th>Time</th>\n      <th></th>\n    </tr>\n  </thead>\n  <tbody>\n    <tr>\n      <th>0</th>\n      <td>(2208, 4111)</td>\n    </tr>\n    <tr>\n      <th>1</th>\n      <td>(2353, 4139)</td>\n    </tr>\n    <tr>\n      <th>2</th>\n      <td>(2406, 4170)</td>\n    </tr>\n    <tr>\n      <th>3</th>\n      <td>(2277, 4113)</td>\n    </tr>\n    <tr>\n      <th>4</th>\n      <td>(2276, 4034)</td>\n    </tr>\n    <tr>\n      <th>...</th>\n      <td>...</td>\n    </tr>\n    <tr>\n      <th>995</th>\n      <td>(2278, 4146)</td>\n    </tr>\n    <tr>\n      <th>996</th>\n      <td>(2307, 4067)</td>\n    </tr>\n    <tr>\n      <th>997</th>\n      <td>(2254, 3947)</td>\n    </tr>\n    <tr>\n      <th>998</th>\n      <td>(2346, 4073)</td>\n    </tr>\n    <tr>\n      <th>999</th>\n      <td>(2293, 3949)</td>\n    </tr>\n  </tbody>\n</table>\n<p>1000 rows × 1 columns</p>\n</div>"
     },
     "execution_count": 29,
     "metadata": {},
     "output_type": "execute_result"
    }
   ],
   "source": [
    "result_timeseries_male = run_simulation_timeseries(state, system)\n",
    "show(result_timeseries_male)"
   ]
  },
  {
   "cell_type": "markdown",
   "id": "918e090a",
   "metadata": {},
   "source": [
    "## Runing monte carlo simulation"
   ]
  },
  {
   "cell_type": "code",
   "execution_count": 30,
   "id": "b86b4314",
   "metadata": {
    "ExecuteTime": {
     "end_time": "2024-06-07T18:02:29.401255600Z",
     "start_time": "2024-06-07T18:02:29.028507900Z"
    }
   },
   "outputs": [
    {
     "data": {
      "text/plain": "<Figure size 1050x525 with 1 Axes>",
      "image/png": "[encoded data removed]"
     },
     "metadata": {},
     "output_type": "display_data"
    },
    {
     "name": "stdout",
     "output_type": "stream",
     "text": [
      "Average suicides in males: 5667.584\n",
      "Average suicides in females: 4056.223\n"
     ]
    }
   ],
   "source": [
    "for pop_male, pop_female in state.populations:\n",
    "  state.results_male = np.zeros(system.iterations, dtype=int)\n",
    "  state.results_female = np.zeros(system.iterations, dtype=int)\n",
    "\n",
    "  for i in range(system.iterations):\n",
    "    suicide_male, suicide_female = run_simulation(state, system)\n",
    "    state.results_male[i] = int(suicide_male)\n",
    "    state.results_female[i] = int(suicide_female)\n",
    "\n",
    "  state.results_total = state.results_male + state.results_female\n",
    "\n",
    "  # Plotting hasil simulasi\n",
    "  plt.figure(figsize=(14, 7))\n",
    "  plt.hist(state.results_male, bins=30, alpha=0.7, label='Male Suicides')\n",
    "  plt.hist(state.results_female, bins=30, alpha=0.7, label='Female Suicides')\n",
    "  plt.xlabel('Number of Suicides')\n",
    "  plt.ylabel('Frequency')\n",
    "  plt.grid(True)\n",
    "  plt.title(\n",
    "    f'Monte Carlo Simulation of Suicide Cases Due to Mental Health Issues (Population: {pop_male} males, {pop_female} females)')\n",
    "  plt.legend()\n",
    "  plt.show()\n",
    "\n",
    "  # Summary statistics\n",
    "  mean_male = np.mean(state.results_male)\n",
    "  mean_female = np.mean(state.results_female)\n",
    "  print(f'Average suicides in males: {mean_male}')\n",
    "  print(f'Average suicides in females: {mean_female}')"
   ]
  },
  {
   "cell_type": "markdown",
   "id": "f571ae96",
   "metadata": {},
   "source": [
    "## Helper function untuk predict\n",
    "\n",
    "1. `convert_arr_string_into_integer(arr)`\n",
    "Fungsi ini digunakan untuk mengonversi setiap elemen dalam daftar dari string menjadi integer. Ini diperlukan ketika data awalnya dalam format string dan perlu diubah menjadi integer untuk analisis numerik."
   ]
  },
  {
   "cell_type": "code",
   "execution_count": 31,
   "id": "0798af88",
   "metadata": {
    "ExecuteTime": {
     "end_time": "2024-06-07T18:02:29.458039700Z",
     "start_time": "2024-06-07T18:02:29.398745500Z"
    }
   },
   "outputs": [
    {
     "data": {
      "text/plain": "array([5660, 5712, 5558, 5608, 5646, 5664, 5634, 5637, 5674, 5578, 5592,\n       5680, 5629, 5660, 5683, 5642, 5726, 5667, 5712, 5688, 5568, 5701,\n       5621, 5750, 5756, 5612, 5740, 5779, 5664, 5510, 5550, 5577, 5823,\n       5798, 5657, 5827, 5694, 5561, 5740, 5682, 5732, 5636, 5670, 5670,\n       5463, 5758, 5703, 5636, 5785, 5613, 5626, 5788, 5643, 5724, 5505,\n       5615, 5673, 5549, 5615, 5630, 5632, 5626, 5633, 5659, 5547, 5829,\n       5759, 5768, 5802, 5559, 5532, 5719, 5673, 5711, 5753, 5588, 5682,\n       5636, 5559, 5746, 5664, 5534, 5663, 5608, 5747, 5675, 5581, 5636,\n       5765, 5763, 5671, 5564, 5598, 5611, 5595, 5609, 5660, 5644, 5715,\n       5504, 5669, 5763, 5635, 5832, 5622, 5650, 5782, 5582, 5712, 5714,\n       5759, 5735, 5694, 5654, 5557, 5654, 5635, 5582, 5679, 5629, 5727,\n       5789, 5793, 5698, 5693, 5569, 5682, 5666, 5652, 5663, 5617, 5586,\n       5650, 5766, 5550, 5723, 5656, 5637, 5587, 5656, 5788, 5696, 5445,\n       5669, 5621, 5859, 5677, 5712, 5701, 5740, 5553, 5574, 5673, 5609,\n       5622, 5706, 5749, 5725, 5692, 5621, 5674, 5767, 5576, 5765, 5690,\n       5545, 5566, 5533, 5664, 5731, 5556, 5742, 5637, 5626, 5643, 5736,\n       5597, 5423, 5673, 5578, 5720, 5602, 5706, 5673, 5618, 5721, 5729,\n       5754, 5800, 5618, 5640, 5527, 5700, 5813, 5594, 5637, 5685, 5704,\n       5704, 5877, 5670, 5770, 5608, 5612, 5629, 5812, 5730, 5528, 5643,\n       5589, 5589, 5498, 5722, 5750, 5687, 5914, 5617, 5535, 5595, 5717,\n       5804, 5780, 5810, 5638, 5834, 5776, 5762, 5680, 5669, 5719, 5752,\n       5772, 5602, 5620, 5737, 5815, 5602, 5572, 5633, 5577, 5664, 5609,\n       5632, 5770, 5751, 5518, 5601, 5603, 5697, 5699, 5694, 5782, 5658,\n       5733, 5719, 5565, 5627, 5691, 5683, 5620, 5702, 5825, 5650, 5732,\n       5540, 5782, 5641, 5631, 5786, 5621, 5646, 5630, 5578, 5529, 5670,\n       5635, 5717, 5571, 5649, 5789, 5699, 5620, 5603, 5548, 5759, 5765,\n       5655, 5682, 5495, 5625, 5464, 5663, 5649, 5707, 5749, 5747, 5582,\n       5610, 5750, 5601, 5718, 5709, 5701, 5764, 5768, 5662, 5738, 5721,\n       5648, 5711, 5628, 5728, 5563, 5645, 5535, 5662, 5739, 5720, 5586,\n       5710, 5794, 5564, 5744, 5687, 5710, 5636, 5767, 5480, 5690, 5661,\n       5747, 5557, 5724, 5706, 5625, 5676, 5768, 5533, 5618, 5702, 5840,\n       5681, 5607, 5722, 5649, 5752, 5820, 5693, 5677, 5716, 5827, 5679,\n       5760, 5475, 5537, 5591, 5625, 5611, 5732, 5648, 5709, 5599, 5586,\n       5594, 5754, 5595, 5679, 5594, 5583, 5715, 5631, 5684, 5555, 5721,\n       5771, 5541, 5643, 5611, 5551, 5600, 5721, 5671, 5729, 5684, 5548,\n       5656, 5591, 5784, 5823, 5688, 5560, 5730, 5791, 5625, 5678, 5655,\n       5595, 5732, 5619, 5708, 5693, 5823, 5553, 5579, 5673, 5642, 5867,\n       5646, 5651, 5542, 5784, 5662, 5659, 5570, 5613, 5660, 5779, 5621,\n       5576, 5722, 5800, 5688, 5549, 5529, 5481, 5637, 5760, 5650, 5695,\n       5687, 5718, 5682, 5735, 5630, 5850, 5738, 5730, 5619, 5696, 5722,\n       5806, 5801, 5709, 5628, 5768, 5593, 5739, 5793, 5605, 5600, 5631,\n       5563, 5725, 5589, 5678, 5609, 5655, 5561, 5779, 5587, 5799, 5595,\n       5757, 5629, 5504, 5839, 5741, 5651, 5670, 5683, 5694, 5709, 5601,\n       5643, 5666, 5559, 5652, 5536, 5696, 5652, 5745, 5652, 5616, 5682,\n       5708, 5573, 5607, 5858, 5673, 5596, 5636, 5676, 5527, 5689, 5758,\n       5577, 5755, 5735, 5618, 5633, 5576, 5658, 5639, 5655, 5436, 5667,\n       5763, 5710, 5613, 5558, 5927, 5693, 5741, 5756, 5805, 5639, 5584,\n       5628, 5548, 5667, 5553, 5736, 5670, 5678, 5628, 5585, 5658, 5713,\n       5636, 5755, 5610, 5714, 5776, 5581, 5661, 5585, 5751, 5670, 5657,\n       5706, 5497, 5627, 5599, 5723, 5400, 5605, 5736, 5520, 5721, 5604,\n       5654, 5873, 5569, 5577, 5659, 5579, 5575, 5688, 5666, 5783, 5652,\n       5703, 5733, 5600, 5710, 5729, 5634, 5607, 5680, 5670, 5525, 5641,\n       5653, 5658, 5680, 5747, 5662, 5664, 5608, 5688, 5658, 5589, 5615,\n       5684, 5757, 5593, 5668, 5709, 5680, 5622, 5586, 5719, 5566, 5662,\n       5784, 5644, 5632, 5652, 5727, 5562, 5723, 5711, 5687, 5705, 5700,\n       5626, 5681, 5681, 5748, 5619, 5847, 5631, 5469, 5652, 5677, 5562,\n       5764, 5650, 5753, 5751, 5710, 5691, 5792, 5569, 5670, 5644, 5679,\n       5649, 5636, 5730, 5661, 5666, 5681, 5645, 5666, 5574, 5659, 5707,\n       5656, 5699, 5727, 5761, 5680, 5652, 5690, 5681, 5676, 5580, 5712,\n       5519, 5709, 5713, 5632, 5804, 5639, 5655, 5636, 5548, 5564, 5657,\n       5823, 5628, 5521, 5668, 5698, 5729, 5634, 5565, 5694, 5543, 5604,\n       5660, 5602, 5726, 5657, 5613, 5589, 5568, 5634, 5687, 5602, 5737,\n       5655, 5673, 5464, 5691, 5496, 5680, 5647, 5683, 5670, 5691, 5682,\n       5651, 5655, 5668, 5685, 5643, 5707, 5665, 5692, 5553, 5638, 5824,\n       5713, 5682, 5766, 5603, 5849, 5592, 5640, 5789, 5732, 5733, 5624,\n       5824, 5664, 5706, 5578, 5869, 5750, 5754, 5716, 5704, 5733, 5677,\n       5784, 5725, 5656, 5667, 5657, 5576, 5757, 5589, 5660, 5613, 5592,\n       5633, 5647, 5612, 5732, 5704, 5754, 5710, 5736, 5726, 5714, 5755,\n       5622, 5598, 5630, 5819, 5753, 5657, 5763, 5689, 5509, 5510, 5637,\n       5849, 5757, 5757, 5728, 5737, 5790, 5548, 5663, 5482, 5595, 5735,\n       5539, 5569, 5685, 5720, 5594, 5633, 5694, 5578, 5605, 5758, 5643,\n       5681, 5693, 5676, 5723, 5527, 5757, 5638, 5548, 5719, 5769, 5560,\n       5808, 5530, 5561, 5788, 5765, 5649, 5727, 5641, 5805, 5707, 5701,\n       5730, 5747, 5682, 5566, 5730, 5553, 5653, 5670, 5802, 5669, 5616,\n       5526, 5659, 5585, 5711, 5678, 5657, 5713, 5698, 5606, 5643, 5811,\n       5671, 5679, 5669, 5568, 5758, 5614, 5624, 5551, 5577, 5766, 5657,\n       5609, 5867, 5535, 5681, 5660, 5672, 5654, 5688, 5807, 5730, 5721,\n       5682, 5534, 5704, 5795, 5510, 5598, 5609, 5759, 5537, 5719, 5656,\n       5703, 5708, 5656, 5692, 5547, 5701, 5741, 5660, 5751, 5831, 5487,\n       5732, 5730, 5697, 5699, 5723, 5797, 5593, 5699, 5597, 5671, 5577,\n       5889, 5687, 5605, 5610, 5577, 5639, 5768, 5821, 5571, 5572, 5626,\n       5689, 5607, 5712, 5616, 5665, 5649, 5582, 5660, 5761, 5644, 5721,\n       5724, 5780, 5726, 5601, 5670, 5670, 5629, 5668, 5697, 5615, 5686,\n       5757, 5797, 5666, 5751, 5812, 5768, 5599, 5759, 5522, 5606, 5756,\n       5601, 5664, 5577, 5605, 5730, 5715, 5862, 5697, 5627, 5620, 5620,\n       5635, 5712, 5552, 5534, 5781, 5696, 5705, 5832, 5665, 5618, 5639,\n       5598, 5658, 5602, 5501, 5671, 5626, 5753, 5696, 5612, 5584, 5574,\n       5823, 5706, 5604, 5605, 5762, 5651, 5778, 5763, 5740, 5686, 5728,\n       5828, 5666, 5567, 5681, 5625, 5643, 5576, 5592, 5745, 5705, 5683,\n       5703, 5606, 5619, 5672, 5563, 5581, 5680, 5658, 5736, 5599, 5720,\n       5729, 5698, 5665, 5681, 5632, 5604, 5646, 5724, 5697, 5521])"
     },
     "execution_count": 31,
     "metadata": {},
     "output_type": "execute_result"
    }
   ],
   "source": [
    "# np.max(state.results_total)\n",
    "state.results_male"
   ]
  },
  {
   "cell_type": "markdown",
   "source": [
    "## Simulasi predict\n",
    "\n",
    "f(x) = 0.000354334x + 5.66162"
   ],
   "metadata": {
    "collapsed": false
   },
   "id": "2cfb0ae67370be73"
  },
  {
   "cell_type": "code",
   "execution_count": 32,
   "outputs": [],
   "source": [
    "a = 0.000354334\n",
    "b = 5.66162"
   ],
   "metadata": {
    "collapsed": false,
    "ExecuteTime": {
     "end_time": "2024-06-07T18:02:29.458039700Z",
     "start_time": "2024-06-07T18:02:29.413774400Z"
    }
   },
   "id": "5e2322297efcd814"
  },
  {
   "cell_type": "code",
   "execution_count": 33,
   "outputs": [],
   "source": [
    "def linear_predict(x):\n",
    "  return a * x + b"
   ],
   "metadata": {
    "collapsed": false,
    "ExecuteTime": {
     "end_time": "2024-06-07T18:02:29.458039700Z",
     "start_time": "2024-06-07T18:02:29.429283Z"
    }
   },
   "id": "d5f6259064a2197b"
  },
  {
   "cell_type": "markdown",
   "source": [
    "## Function Helper"
   ],
   "metadata": {
    "collapsed": false
   },
   "id": "3b331a6742bf70b"
  },
  {
   "cell_type": "code",
   "execution_count": 34,
   "outputs": [],
   "source": [
    "def convert_string_into_int(x):\n",
    "  return [int(i) for i in x]"
   ],
   "metadata": {
    "collapsed": false,
    "ExecuteTime": {
     "end_time": "2024-06-07T18:02:29.471069900Z",
     "start_time": "2024-06-07T18:02:29.445812700Z"
    }
   },
   "id": "988dc39aea60b02b"
  },
  {
   "cell_type": "code",
   "execution_count": 35,
   "id": "04c6cdc5",
   "metadata": {
    "ExecuteTime": {
     "end_time": "2024-06-07T18:02:29.478076200Z",
     "start_time": "2024-06-07T18:02:29.461038600Z"
    }
   },
   "outputs": [],
   "source": [
    "def run_predict(year, populasi, rentang):\n",
    "  populate = np.linspace(populasi[0], populasi[1], rentang)\n",
    "  tahun = year[1] - year[0]\n",
    "  results = []\n",
    "  \n",
    "  for _ in range(tahun):\n",
    "    temp = random.choice(populate)\n",
    "    results.append(linear_predict(temp) * 1000)\n",
    "    \n",
    "  return results"
   ]
  },
  {
   "cell_type": "code",
   "execution_count": 36,
   "id": "de693e7b",
   "metadata": {
    "ExecuteTime": {
     "end_time": "2024-06-07T18:02:51.565275700Z",
     "start_time": "2024-06-07T18:02:29.475075600Z"
    }
   },
   "outputs": [],
   "source": [
    "# Input user\n",
    "populasi = input(\"Masukan populasi eg(20000 40000): \")\n",
    "year = input(\"Masukan rentang tahun eg(2000 3000): \")\n",
    "rentang = int(input(\"Masukan rentang yang diinginkan untuk populasi: \"))\n",
    "\n",
    "total_populasi = convert_string_into_int(populasi.split(\" \"))\n",
    "year_arr = convert_string_into_int(year.split(\" \"))\n",
    "\n",
    "results_predict = run_predict(year_arr, total_populasi, rentang)"
   ]
  },
  {
   "cell_type": "code",
   "execution_count": 37,
   "id": "ef7fceb6",
   "metadata": {
    "ExecuteTime": {
     "end_time": "2024-06-07T18:02:51.704057500Z",
     "start_time": "2024-06-07T18:02:51.554150500Z"
    }
   },
   "outputs": [
    {
     "data": {
      "text/plain": "<Figure size 1050x525 with 1 Axes>",
      "image/png": "[encoded data removed]"
     },
     "metadata": {},
     "output_type": "display_data"
    }
   ],
   "source": [
    "plt.figure(figsize=(14, 7))\n",
    "plt.plot(results_predict, label='ECDF Prediksi kematian untuk perempuan dan laki-laki')\n",
    "plt.xlabel(f'Rentang tahun {year_arr}')\n",
    "plt.ylabel('Populasi')\n",
    "plt.grid(True)\n",
    "plt.title(f'ECDF Prediksi kematian dalam rentang tahun {year[0]} sampai {year[1]}: dengan populasi {populasi[0]} sampai {populasi[1]}')\n",
    "plt.legend()\n",
    "plt.show()"
   ]
  }
 ],
 "metadata": {
  "kernelspec": {
   "display_name": "Python 3",
   "language": "python",
   "name": "python3"
  },
  "language_info": {
   "codemirror_mode": {
    "name": "ipython",
    "version": 3
   },
   "file_extension": ".py",
   "mimetype": "text/x-python",
   "name": "python",
   "nbconvert_exporter": "python",
   "pygments_lexer": "ipython3",
   "version": "3.9.16"
  }
 },
 "nbformat": 4,
 "nbformat_minor": 5
}
